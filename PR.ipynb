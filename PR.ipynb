{
 "cells": [
  {
   "cell_type": "markdown",
   "metadata": {},
   "source": [
    "[![996.icu](https://img.shields.io/badge/link-996.icu-red.svg)](https://996.icu)\n",
    "\n",
    "#### RS_APP\n",
    "一个基于豆瓣评论数据的电影推荐系统应用实例，功能包含：\n",
    "   - 首页 Feed 流个性化推荐\n",
    "   - 相关用户推荐\n",
    "   - 下一个电影推荐\n",
    "   - 物品 Push 用户\n",
    "   \n",
    "算法使用\n",
    "1. FM Embedding 解决评分预测问题\n",
    "2. DeepWalk Embedding 解决用户序列数据的推荐\n",
    "3. Content Based 解决电影标签推荐"
   ]
  },
  {
   "cell_type": "code",
   "execution_count": null,
   "metadata": {},
   "outputs": [],
   "source": []
  }
 ],
 "metadata": {
  "kernelspec": {
   "display_name": "p3venv",
   "language": "python",
   "name": "p3venv"
  },
  "language_info": {
   "codemirror_mode": {
    "name": "ipython",
    "version": 3
   },
   "file_extension": ".py",
   "mimetype": "text/x-python",
   "name": "python",
   "nbconvert_exporter": "python",
   "pygments_lexer": "ipython3",
   "version": "3.6.10"
  },
  "toc": {
   "base_numbering": 1,
   "nav_menu": {},
   "number_sections": true,
   "sideBar": true,
   "skip_h1_title": false,
   "title_cell": "Table of Contents",
   "title_sidebar": "Contents",
   "toc_cell": false,
   "toc_position": {},
   "toc_section_display": true,
   "toc_window_display": false
  }
 },
 "nbformat": 4,
 "nbformat_minor": 4
}
