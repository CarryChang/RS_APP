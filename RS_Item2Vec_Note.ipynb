{
 "cells": [
  {
   "cell_type": "markdown",
   "metadata": {},
   "source": [
    "数据加载"
   ]
  },
  {
   "cell_type": "code",
   "execution_count": 1,
   "metadata": {
    "scrolled": true
   },
   "outputs": [
    {
     "name": "stdout",
     "output_type": "stream",
     "text": [
      "(10000, 13)\n"
     ]
    },
    {
     "data": {
      "text/html": [
       "<div>\n",
       "<style scoped>\n",
       "    .dataframe tbody tr th:only-of-type {\n",
       "        vertical-align: middle;\n",
       "    }\n",
       "\n",
       "    .dataframe tbody tr th {\n",
       "        vertical-align: top;\n",
       "    }\n",
       "\n",
       "    .dataframe thead th {\n",
       "        text-align: right;\n",
       "    }\n",
       "</style>\n",
       "<table border=\"1\" class=\"dataframe\">\n",
       "  <thead>\n",
       "    <tr style=\"text-align: right;\">\n",
       "      <th></th>\n",
       "      <th>ID</th>\n",
       "      <th>Movie_Name</th>\n",
       "      <th>Movie_Score</th>\n",
       "      <th>Review_Count</th>\n",
       "      <th>Movie_Star_Distribution</th>\n",
       "      <th>Collect_Date</th>\n",
       "      <th>Username</th>\n",
       "      <th>Post_Date</th>\n",
       "      <th>Score</th>\n",
       "      <th>User_Comment</th>\n",
       "      <th>User_Comment_Distribution</th>\n",
       "      <th>Comment_Like_Count</th>\n",
       "      <th>Movie_Tags</th>\n",
       "    </tr>\n",
       "  </thead>\n",
       "  <tbody>\n",
       "    <tr>\n",
       "      <th>0</th>\n",
       "      <td>0</td>\n",
       "      <td>1988年的妮可 Nico, 1988</td>\n",
       "      <td>7.5</td>\n",
       "      <td>565</td>\n",
       "      <td>15.2%48.2%32.3%3.4%0.8%</td>\n",
       "      <td>2019-10-05</td>\n",
       "      <td>尾黑</td>\n",
       "      <td>2018-06-23</td>\n",
       "      <td>3</td>\n",
       "      <td>成本低廉的PPT电影，用Nico生命中最后一年发生的事给Nico的歌配上情节，倒不算尴尬。女...</td>\n",
       "      <td>66%31%3%</td>\n",
       "      <td>4</td>\n",
       "      <td>['音乐', '电影', '儿子', '丝绒', '人物', '传记', '传记片', '歌...</td>\n",
       "    </tr>\n",
       "  </tbody>\n",
       "</table>\n",
       "</div>"
      ],
      "text/plain": [
       "   ID           Movie_Name  Movie_Score  Review_Count  \\\n",
       "0   0  1988年的妮可 Nico, 1988          7.5           565   \n",
       "\n",
       "   Movie_Star_Distribution Collect_Date Username   Post_Date  Score  \\\n",
       "0  15.2%48.2%32.3%3.4%0.8%   2019-10-05       尾黑  2018-06-23      3   \n",
       "\n",
       "                                        User_Comment  \\\n",
       "0  成本低廉的PPT电影，用Nico生命中最后一年发生的事给Nico的歌配上情节，倒不算尴尬。女...   \n",
       "\n",
       "  User_Comment_Distribution  Comment_Like_Count  \\\n",
       "0                  66%31%3%                   4   \n",
       "\n",
       "                                          Movie_Tags  \n",
       "0  ['音乐', '电影', '儿子', '丝绒', '人物', '传记', '传记片', '歌...  "
      ]
     },
     "execution_count": 1,
     "metadata": {},
     "output_type": "execute_result"
    }
   ],
   "source": [
    "import pandas as pd\n",
    "\n",
    "# demo 验证\n",
    "train_df = pd.read_csv('Data/Movie_RS.csv')\n",
    "print(train_df.shape)\n",
    "train_df.head(1)"
   ]
  },
  {
   "cell_type": "markdown",
   "metadata": {},
   "source": [
    "#### 数据预处理"
   ]
  },
  {
   "cell_type": "code",
   "execution_count": 2,
   "metadata": {},
   "outputs": [
    {
     "data": {
      "text/plain": [
       "4507    2006-04-11\n",
       "242     2006-02-03\n",
       "3292    2005-12-18\n",
       "2072    2005-10-13\n",
       "204     2005-07-19\n",
       "Name: Post_Date, dtype: object"
      ]
     },
     "execution_count": 2,
     "metadata": {},
     "output_type": "execute_result"
    }
   ],
   "source": [
    "# 时间排序，将最近的排在前面\n",
    "train_df = train_df.sort_values(by='Post_Date', ascending=False)\n",
    "\n",
    "# 查看最后几行数据\n",
    "train_df.tail()['Post_Date']"
   ]
  },
  {
   "cell_type": "code",
   "execution_count": 3,
   "metadata": {},
   "outputs": [
    {
     "name": "stdout",
     "output_type": "stream",
     "text": [
      "<class 'pandas.core.frame.DataFrame'>\n",
      "Int64Index: 9999 entries, 2135 to 204\n",
      "Data columns (total 13 columns):\n",
      "ID                           9999 non-null int64\n",
      "Movie_Name                   9999 non-null object\n",
      "Movie_Score                  9999 non-null float64\n",
      "Review_Count                 9999 non-null int64\n",
      "Movie_Star_Distribution      9999 non-null object\n",
      "Collect_Date                 9999 non-null object\n",
      "Username                     9999 non-null object\n",
      "Post_Date                    9999 non-null object\n",
      "Score                        9999 non-null int64\n",
      "User_Comment                 9999 non-null object\n",
      "User_Comment_Distribution    9999 non-null object\n",
      "Comment_Like_Count           9999 non-null int64\n",
      "Movie_Tags                   9999 non-null object\n",
      "dtypes: float64(1), int64(4), object(8)\n",
      "memory usage: 1.1+ MB\n"
     ]
    }
   ],
   "source": [
    "# 去除空值\n",
    "train_df.dropna(axis=0, how='any', inplace=True)\n",
    "\n",
    "# 两列去除重复，保留最近的数据\n",
    "train_df.drop_duplicates(\n",
    "    subset=['Movie_Name', 'Username'], keep='first', inplace=True)\n",
    "\n",
    "# 打印数据结构\n",
    "train_df.info()"
   ]
  },
  {
   "cell_type": "markdown",
   "metadata": {},
   "source": [
    "增加时间过滤，不需要很久远的数据。"
   ]
  },
  {
   "cell_type": "code",
   "execution_count": 4,
   "metadata": {},
   "outputs": [
    {
     "data": {
      "text/html": [
       "<div>\n",
       "<style scoped>\n",
       "    .dataframe tbody tr th:only-of-type {\n",
       "        vertical-align: middle;\n",
       "    }\n",
       "\n",
       "    .dataframe tbody tr th {\n",
       "        vertical-align: top;\n",
       "    }\n",
       "\n",
       "    .dataframe thead th {\n",
       "        text-align: right;\n",
       "    }\n",
       "</style>\n",
       "<table border=\"1\" class=\"dataframe\">\n",
       "  <thead>\n",
       "    <tr style=\"text-align: right;\">\n",
       "      <th></th>\n",
       "      <th>ID</th>\n",
       "      <th>Movie_Name</th>\n",
       "      <th>Movie_Score</th>\n",
       "      <th>Review_Count</th>\n",
       "      <th>Movie_Star_Distribution</th>\n",
       "      <th>Collect_Date</th>\n",
       "      <th>Username</th>\n",
       "      <th>Post_Date</th>\n",
       "      <th>Score</th>\n",
       "      <th>User_Comment</th>\n",
       "      <th>User_Comment_Distribution</th>\n",
       "      <th>Comment_Like_Count</th>\n",
       "      <th>Movie_Tags</th>\n",
       "    </tr>\n",
       "  </thead>\n",
       "  <tbody>\n",
       "    <tr>\n",
       "      <th>8808</th>\n",
       "      <td>8917</td>\n",
       "      <td>不是冤家不聚头 不是冤家不聚頭</td>\n",
       "      <td>7.0</td>\n",
       "      <td>535</td>\n",
       "      <td>9.6%36.4%49.9%3.6%0.5%</td>\n",
       "      <td>2019-10-05</td>\n",
       "      <td>謎</td>\n",
       "      <td>2017-01-03</td>\n",
       "      <td>4</td>\n",
       "      <td>看过的第一个芳芳的高清，爱死芳芳了</td>\n",
       "      <td>45%52%3%</td>\n",
       "      <td>0</td>\n",
       "      <td>['演技', '剧情', '电影', '芳姐', '温情', '喜剧', '家庭', '故事...</td>\n",
       "    </tr>\n",
       "    <tr>\n",
       "      <th>3915</th>\n",
       "      <td>3977</td>\n",
       "      <td>一轮明月</td>\n",
       "      <td>7.9</td>\n",
       "      <td>4395</td>\n",
       "      <td>28.0%44.8%23.4%3.1%0.8%</td>\n",
       "      <td>2019-10-05</td>\n",
       "      <td>浪小二</td>\n",
       "      <td>2017-01-03</td>\n",
       "      <td>3</td>\n",
       "      <td>传记电影的通病，事件由一堆镜头PPT一样地飞入飞出，一带而过，你要自己查资料才能联起来。想说...</td>\n",
       "      <td>72%22%6%</td>\n",
       "      <td>0</td>\n",
       "      <td>['电影', '大师', '人物', '感觉', '人生', '主旋律', '流水账', '...</td>\n",
       "    </tr>\n",
       "    <tr>\n",
       "      <th>4024</th>\n",
       "      <td>4088</td>\n",
       "      <td>一轮明月</td>\n",
       "      <td>7.9</td>\n",
       "      <td>4395</td>\n",
       "      <td>28.0%44.8%23.4%3.1%0.8%</td>\n",
       "      <td>2019-10-05</td>\n",
       "      <td>Trady</td>\n",
       "      <td>2017-01-03</td>\n",
       "      <td>4</td>\n",
       "      <td>下午去了灵隐寺看到了弘一法师画像 朋友之前提到过这部电影 今天看正适合／对在杭州取景的那段特别喜欢</td>\n",
       "      <td>72%22%6%</td>\n",
       "      <td>0</td>\n",
       "      <td>['电影', '大师', '人物', '感觉', '人生', '主旋律', '流水账', '...</td>\n",
       "    </tr>\n",
       "    <tr>\n",
       "      <th>9797</th>\n",
       "      <td>9916</td>\n",
       "      <td>不要忘记哥哥 にぃにのことを忘れないで</td>\n",
       "      <td>7.4</td>\n",
       "      <td>2091</td>\n",
       "      <td>16.9%38.5%41.0%3.3%0.3%</td>\n",
       "      <td>2019-10-05</td>\n",
       "      <td>长泽小清新</td>\n",
       "      <td>2017-01-02</td>\n",
       "      <td>5</td>\n",
       "      <td>锦户亮的眼睛啊真的会说话</td>\n",
       "      <td>55%40%5%</td>\n",
       "      <td>0</td>\n",
       "      <td>['演技', '锦户亮', '妈妈', '剧情', '眼泪', '片子', '绝症', '感...</td>\n",
       "    </tr>\n",
       "    <tr>\n",
       "      <th>2639</th>\n",
       "      <td>2670</td>\n",
       "      <td>一年级生 The First Grader</td>\n",
       "      <td>8.1</td>\n",
       "      <td>2483</td>\n",
       "      <td>28.9%47.6%22.5%0.9%0.2%</td>\n",
       "      <td>2019-10-05</td>\n",
       "      <td>小鱼儿</td>\n",
       "      <td>2017-01-02</td>\n",
       "      <td>5</td>\n",
       "      <td>原来能自己阅读是如此幸福的事。我们的幸福都不是理所当然。</td>\n",
       "      <td>77%21%2%</td>\n",
       "      <td>0</td>\n",
       "      <td>['老人', '故事', '电影', '孩子', '历史', '励志', '影片', '剧情...</td>\n",
       "    </tr>\n",
       "  </tbody>\n",
       "</table>\n",
       "</div>"
      ],
      "text/plain": [
       "        ID             Movie_Name  Movie_Score  Review_Count  \\\n",
       "8808  8917        不是冤家不聚头 不是冤家不聚頭          7.0           535   \n",
       "3915  3977                   一轮明月          7.9          4395   \n",
       "4024  4088                   一轮明月          7.9          4395   \n",
       "9797  9916    不要忘记哥哥 にぃにのことを忘れないで          7.4          2091   \n",
       "2639  2670  一年级生 The First Grader          8.1          2483   \n",
       "\n",
       "      Movie_Star_Distribution Collect_Date Username   Post_Date  Score  \\\n",
       "8808   9.6%36.4%49.9%3.6%0.5%   2019-10-05        謎  2017-01-03      4   \n",
       "3915  28.0%44.8%23.4%3.1%0.8%   2019-10-05      浪小二  2017-01-03      3   \n",
       "4024  28.0%44.8%23.4%3.1%0.8%   2019-10-05    Trady  2017-01-03      4   \n",
       "9797  16.9%38.5%41.0%3.3%0.3%   2019-10-05    长泽小清新  2017-01-02      5   \n",
       "2639  28.9%47.6%22.5%0.9%0.2%   2019-10-05      小鱼儿  2017-01-02      5   \n",
       "\n",
       "                                           User_Comment  \\\n",
       "8808                                  看过的第一个芳芳的高清，爱死芳芳了   \n",
       "3915  传记电影的通病，事件由一堆镜头PPT一样地飞入飞出，一带而过，你要自己查资料才能联起来。想说...   \n",
       "4024  下午去了灵隐寺看到了弘一法师画像 朋友之前提到过这部电影 今天看正适合／对在杭州取景的那段特别喜欢   \n",
       "9797                                       锦户亮的眼睛啊真的会说话   \n",
       "2639                       原来能自己阅读是如此幸福的事。我们的幸福都不是理所当然。   \n",
       "\n",
       "     User_Comment_Distribution  Comment_Like_Count  \\\n",
       "8808                  45%52%3%                   0   \n",
       "3915                  72%22%6%                   0   \n",
       "4024                  72%22%6%                   0   \n",
       "9797                  55%40%5%                   0   \n",
       "2639                  77%21%2%                   0   \n",
       "\n",
       "                                             Movie_Tags  \n",
       "8808  ['演技', '剧情', '电影', '芳姐', '温情', '喜剧', '家庭', '故事...  \n",
       "3915  ['电影', '大师', '人物', '感觉', '人生', '主旋律', '流水账', '...  \n",
       "4024  ['电影', '大师', '人物', '感觉', '人生', '主旋律', '流水账', '...  \n",
       "9797  ['演技', '锦户亮', '妈妈', '剧情', '眼泪', '片子', '绝症', '感...  \n",
       "2639  ['老人', '故事', '电影', '孩子', '历史', '励志', '影片', '剧情...  "
      ]
     },
     "execution_count": 4,
     "metadata": {},
     "output_type": "execute_result"
    }
   ],
   "source": [
    "Time_Threshold = '2017-01-01'\n",
    "\n",
    "# 直接对时间字段进行截断\n",
    "train_df = train_df[train_df['Post_Date'] > Time_Threshold]\n",
    "\n",
    "# 打印最后几行数据\n",
    "train_df.tail()"
   ]
  },
  {
   "cell_type": "markdown",
   "metadata": {},
   "source": [
    "### 数据预处理"
   ]
  },
  {
   "cell_type": "code",
   "execution_count": 5,
   "metadata": {},
   "outputs": [],
   "source": [
    "# 建立用户名和 id 映射的字典\n",
    "user_dict = {value: index for index,\n",
    "             value in enumerate(train_df['Username'].unique())}\n",
    "\n",
    "# 开始对原数据进行转换\n",
    "train_df['uid_int'] = train_df['Username'].apply(lambda x: user_dict[x])\n",
    "\n",
    "# 用户 id 字典翻转\n",
    "reverse_user_dict = {v: k for k, v in user_dict.items()}\n",
    "\n",
    "# 建立电影名和 id 映射的字典\n",
    "item_dict = {value: index for index, value in enumerate(\n",
    "    train_df['Movie_Name'].unique())}\n",
    "\n",
    "# 开始对原数据进行转换\n",
    "train_df['item_int'] = train_df['Movie_Name'].apply(lambda x: item_dict[x])\n",
    "\n",
    "# 电影 id 字典翻转\n",
    "reverse_item_dict = {v: k for k, v in item_dict.items()}"
   ]
  },
  {
   "cell_type": "markdown",
   "metadata": {},
   "source": [
    "#### 设置电影和用户特征"
   ]
  },
  {
   "cell_type": "code",
   "execution_count": 6,
   "metadata": {},
   "outputs": [],
   "source": [
    "# 电影特征\n",
    "items_f = ['Movie_Score', 'Review_Count', 'item_int', 'Movie_Name','Movie_Tags']\n",
    "\n",
    "# 用户特征\n",
    "users_f = ['uid_int','User_Comment_Distribution','Username']"
   ]
  },
  {
   "cell_type": "markdown",
   "metadata": {},
   "source": [
    "#### 数据划分"
   ]
  },
  {
   "cell_type": "markdown",
   "metadata": {},
   "source": [
    "用户交互表划分"
   ]
  },
  {
   "cell_type": "code",
   "execution_count": 7,
   "metadata": {
    "scrolled": true
   },
   "outputs": [
    {
     "data": {
      "text/plain": [
       "(2435, 4)"
      ]
     },
     "execution_count": 7,
     "metadata": {},
     "output_type": "execute_result"
    }
   ],
   "source": [
    "user_post_event = train_df[['uid_int', 'item_int', 'Score', 'Post_Date']]\n",
    "user_post_event.shape"
   ]
  },
  {
   "cell_type": "code",
   "execution_count": 8,
   "metadata": {
    "scrolled": true
   },
   "outputs": [
    {
     "data": {
      "text/plain": [
       "2323"
      ]
     },
     "execution_count": 8,
     "metadata": {},
     "output_type": "execute_result"
    }
   ],
   "source": [
    "# 找到每位用户的电影 id 序列\n",
    "raw_movies = [user_post_event[user_post_event['uid_int'] == i]['item_int'].unique(\n",
    ").tolist() for i in user_post_event['uid_int'].unique()]\n",
    "\n",
    "# 对电影评论序列进行 str 处理\n",
    "raw_id = []\n",
    "for r_list in raw_movies:\n",
    "    raw_id.append([str(i) for i in r_list])\n",
    "    \n",
    "len(raw_id)"
   ]
  },
  {
   "cell_type": "markdown",
   "metadata": {},
   "source": [
    "### 基于用户评论的最近邻电影推荐"
   ]
  },
  {
   "cell_type": "code",
   "execution_count": 9,
   "metadata": {},
   "outputs": [
    {
     "name": "stdout",
     "output_type": "stream",
     "text": [
      "CPU times: user 28 ms, sys: 0 ns, total: 28 ms\n",
      "Wall time: 29.2 ms\n"
     ]
    }
   ],
   "source": [
    "from gensim import corpora, similarities\n",
    "from gensim.models import Word2Vec\n",
    "import multiprocessing\n",
    "\n",
    "# 模型训练\n",
    "%time model = Word2Vec(raw_id, window=3, size=300, workers=multiprocessing.cpu_count()*2, min_count=1)"
   ]
  },
  {
   "cell_type": "markdown",
   "metadata": {},
   "source": [
    "假设当前电影 id，并打印详细信息。"
   ]
  },
  {
   "cell_type": "code",
   "execution_count": 10,
   "metadata": {},
   "outputs": [
    {
     "data": {
      "text/html": [
       "<div>\n",
       "<style scoped>\n",
       "    .dataframe tbody tr th:only-of-type {\n",
       "        vertical-align: middle;\n",
       "    }\n",
       "\n",
       "    .dataframe tbody tr th {\n",
       "        vertical-align: top;\n",
       "    }\n",
       "\n",
       "    .dataframe thead th {\n",
       "        text-align: right;\n",
       "    }\n",
       "</style>\n",
       "<table border=\"1\" class=\"dataframe\">\n",
       "  <thead>\n",
       "    <tr style=\"text-align: right;\">\n",
       "      <th></th>\n",
       "      <th>Movie_Score</th>\n",
       "      <th>Review_Count</th>\n",
       "      <th>item_int</th>\n",
       "      <th>Movie_Name</th>\n",
       "      <th>Movie_Tags</th>\n",
       "    </tr>\n",
       "  </thead>\n",
       "  <tbody>\n",
       "    <tr>\n",
       "      <th>3878</th>\n",
       "      <td>7.9</td>\n",
       "      <td>4395</td>\n",
       "      <td>3</td>\n",
       "      <td>一轮明月</td>\n",
       "      <td>['电影', '大师', '人物', '感觉', '人生', '主旋律', '流水账', '...</td>\n",
       "    </tr>\n",
       "  </tbody>\n",
       "</table>\n",
       "</div>"
      ],
      "text/plain": [
       "      Movie_Score  Review_Count  item_int Movie_Name  \\\n",
       "3878          7.9          4395         3       一轮明月   \n",
       "\n",
       "                                             Movie_Tags  \n",
       "3878  ['电影', '大师', '人物', '感觉', '人生', '主旋律', '流水账', '...  "
      ]
     },
     "execution_count": 10,
     "metadata": {},
     "output_type": "execute_result"
    }
   ],
   "source": [
    "# 输入电影名字\n",
    "movie_realname = '一轮明月'\n",
    "\n",
    "# 电影名字转换 id\n",
    "movie_id = str(item_dict[movie_realname])\n",
    "\n",
    "# 打印电影信息\n",
    "train_df.loc[train_df['item_int'].isin([int(movie_id)])].drop_duplicates(\n",
    "    'item_int', keep='first', inplace=False)[items_f].head()"
   ]
  },
  {
   "cell_type": "markdown",
   "metadata": {},
   "source": [
    "通过建立的电影 id 向量，找到最近的 tokn 个电影。"
   ]
  },
  {
   "cell_type": "code",
   "execution_count": 11,
   "metadata": {},
   "outputs": [
    {
     "name": "stdout",
     "output_type": "stream",
     "text": [
      "CPU times: user 0 ns, sys: 0 ns, total: 0 ns\n",
      "Wall time: 715 µs\n"
     ]
    },
    {
     "data": {
      "text/plain": [
       "[10, 11, 17, 7, 15, 21, 1, 6, 12, 23]"
      ]
     },
     "execution_count": 11,
     "metadata": {},
     "output_type": "execute_result"
    }
   ],
   "source": [
    "topn = 10\n",
    "\n",
    "# 开始电影的近邻检索\n",
    "%time ANN_List = [int(i[0]) for i in model.wv.most_similar(movie_id, topn=topn)]\n",
    "ANN_List"
   ]
  },
  {
   "cell_type": "markdown",
   "metadata": {},
   "source": [
    "打印近邻的电影信息。"
   ]
  },
  {
   "cell_type": "code",
   "execution_count": 12,
   "metadata": {},
   "outputs": [
    {
     "data": {
      "text/html": [
       "<div>\n",
       "<style scoped>\n",
       "    .dataframe tbody tr th:only-of-type {\n",
       "        vertical-align: middle;\n",
       "    }\n",
       "\n",
       "    .dataframe tbody tr th {\n",
       "        vertical-align: top;\n",
       "    }\n",
       "\n",
       "    .dataframe thead th {\n",
       "        text-align: right;\n",
       "    }\n",
       "</style>\n",
       "<table border=\"1\" class=\"dataframe\">\n",
       "  <thead>\n",
       "    <tr style=\"text-align: right;\">\n",
       "      <th></th>\n",
       "      <th>Movie_Score</th>\n",
       "      <th>Review_Count</th>\n",
       "      <th>item_int</th>\n",
       "      <th>Movie_Name</th>\n",
       "      <th>Movie_Tags</th>\n",
       "    </tr>\n",
       "  </thead>\n",
       "  <tbody>\n",
       "    <tr>\n",
       "      <th>4660</th>\n",
       "      <td>7.6</td>\n",
       "      <td>2620</td>\n",
       "      <td>1</td>\n",
       "      <td>七小福</td>\n",
       "      <td>['电影', '故事', '时代', '师父', '传统', '感人', '片场', '京剧...</td>\n",
       "    </tr>\n",
       "    <tr>\n",
       "      <th>9030</th>\n",
       "      <td>8.0</td>\n",
       "      <td>3581</td>\n",
       "      <td>6</td>\n",
       "      <td>不朽真情 Immortal Beloved</td>\n",
       "      <td>['音乐', '电影', '爱情', '故事', '有点', '剧情', '天才', '狗血...</td>\n",
       "    </tr>\n",
       "    <tr>\n",
       "      <th>6016</th>\n",
       "      <td>7.6</td>\n",
       "      <td>550</td>\n",
       "      <td>11</td>\n",
       "      <td>上帝的使者 الرسالة</td>\n",
       "      <td>['宗教', '电影', '历史', '先知', '影片', '主角', '信仰', '镜头...</td>\n",
       "    </tr>\n",
       "    <tr>\n",
       "      <th>5508</th>\n",
       "      <td>9.3</td>\n",
       "      <td>1010</td>\n",
       "      <td>12</td>\n",
       "      <td>三个臭皮匠 The Three Stooges</td>\n",
       "      <td>['喜剧', '小时候', '时候', '经典', '电视', '电影', '电视剧', '...</td>\n",
       "    </tr>\n",
       "    <tr>\n",
       "      <th>5107</th>\n",
       "      <td>7.7</td>\n",
       "      <td>3760</td>\n",
       "      <td>23</td>\n",
       "      <td>万夫莫敌 Invincible</td>\n",
       "      <td>['励志', '电影', '橄榄球', '故事', '时候', '球队', '男人', '影...</td>\n",
       "    </tr>\n",
       "  </tbody>\n",
       "</table>\n",
       "</div>"
      ],
      "text/plain": [
       "      Movie_Score  Review_Count  item_int               Movie_Name  \\\n",
       "4660          7.6          2620         1                      七小福   \n",
       "9030          8.0          3581         6    不朽真情 Immortal Beloved   \n",
       "6016          7.6           550        11            上帝的使者 الرسالة   \n",
       "5508          9.3          1010        12  三个臭皮匠 The Three Stooges   \n",
       "5107          7.7          3760        23          万夫莫敌 Invincible   \n",
       "\n",
       "                                             Movie_Tags  \n",
       "4660  ['电影', '故事', '时代', '师父', '传统', '感人', '片场', '京剧...  \n",
       "9030  ['音乐', '电影', '爱情', '故事', '有点', '剧情', '天才', '狗血...  \n",
       "6016  ['宗教', '电影', '历史', '先知', '影片', '主角', '信仰', '镜头...  \n",
       "5508  ['喜剧', '小时候', '时候', '经典', '电视', '电影', '电视剧', '...  \n",
       "5107  ['励志', '电影', '橄榄球', '故事', '时候', '球队', '男人', '影...  "
      ]
     },
     "execution_count": 12,
     "metadata": {},
     "output_type": "execute_result"
    }
   ],
   "source": [
    "# 数据去重，保留首先出现的数据。\n",
    "ANN_List_Info = train_df.loc[train_df['item_int'].isin(\n",
    "    ANN_List)].drop_duplicates('item_int', keep='first', inplace=False)\n",
    "\n",
    "\n",
    "# 控制推荐质量，设置电影打分阈值 Threshold。\n",
    "Threshold = 7.5\n",
    "ANN_List_Info = ANN_List_Info[ANN_List_Info['Movie_Score'] > Threshold]\n",
    "\n",
    "# 打印前五行数据\n",
    "ANN_List_Info[items_f].head()"
   ]
  },
  {
   "cell_type": "markdown",
   "metadata": {},
   "source": [
    "#### 应用推广\n",
    "1. 用户电影之间的电影近邻推荐。\n",
    "2. 用户用户之间的用户近邻推荐。\n",
    "3. 将电影和用户的向量进行 inner dot 计算，形成用户个性化推荐和电影 push 推送。"
   ]
  }
 ],
 "metadata": {
  "kernelspec": {
   "display_name": "p3venv",
   "language": "python",
   "name": "p3venv"
  },
  "language_info": {
   "codemirror_mode": {
    "name": "ipython",
    "version": 3
   },
   "file_extension": ".py",
   "mimetype": "text/x-python",
   "name": "python",
   "nbconvert_exporter": "python",
   "pygments_lexer": "ipython3",
   "version": "3.6.10"
  },
  "toc": {
   "base_numbering": 1,
   "nav_menu": {},
   "number_sections": true,
   "sideBar": true,
   "skip_h1_title": false,
   "title_cell": "Table of Contents",
   "title_sidebar": "Contents",
   "toc_cell": false,
   "toc_position": {},
   "toc_section_display": true,
   "toc_window_display": false
  }
 },
 "nbformat": 4,
 "nbformat_minor": 4
}
