{
 "cells": [
  {
   "cell_type": "code",
   "execution_count": 1,
   "metadata": {},
   "outputs": [],
   "source": [
    "import pandas as pd"
   ]
  },
  {
   "cell_type": "code",
   "execution_count": 2,
   "metadata": {
    "scrolled": true
   },
   "outputs": [
    {
     "name": "stdout",
     "output_type": "stream",
     "text": [
      "(10000, 13)\n"
     ]
    },
    {
     "data": {
      "text/html": [
       "<div>\n",
       "<style scoped>\n",
       "    .dataframe tbody tr th:only-of-type {\n",
       "        vertical-align: middle;\n",
       "    }\n",
       "\n",
       "    .dataframe tbody tr th {\n",
       "        vertical-align: top;\n",
       "    }\n",
       "\n",
       "    .dataframe thead th {\n",
       "        text-align: right;\n",
       "    }\n",
       "</style>\n",
       "<table border=\"1\" class=\"dataframe\">\n",
       "  <thead>\n",
       "    <tr style=\"text-align: right;\">\n",
       "      <th></th>\n",
       "      <th>ID</th>\n",
       "      <th>Movie_Name</th>\n",
       "      <th>Movie_Score</th>\n",
       "      <th>Review_Count</th>\n",
       "      <th>Movie_Star_Distribution</th>\n",
       "      <th>Collect_Date</th>\n",
       "      <th>Username</th>\n",
       "      <th>Post_Date</th>\n",
       "      <th>Score</th>\n",
       "      <th>User_Comment</th>\n",
       "      <th>User_Comment_Distribution</th>\n",
       "      <th>Comment_Like_Count</th>\n",
       "      <th>Movie_Tags</th>\n",
       "    </tr>\n",
       "  </thead>\n",
       "  <tbody>\n",
       "    <tr>\n",
       "      <th>0</th>\n",
       "      <td>0</td>\n",
       "      <td>1988年的妮可 Nico, 1988</td>\n",
       "      <td>7.5</td>\n",
       "      <td>565</td>\n",
       "      <td>15.2%48.2%32.3%3.4%0.8%</td>\n",
       "      <td>2019-10-05</td>\n",
       "      <td>尾黑</td>\n",
       "      <td>2018-06-23</td>\n",
       "      <td>3</td>\n",
       "      <td>成本低廉的PPT电影，用Nico生命中最后一年发生的事给Nico的歌配上情节，倒不算尴尬。女...</td>\n",
       "      <td>66%31%3%</td>\n",
       "      <td>4</td>\n",
       "      <td>['音乐', '电影', '儿子', '丝绒', '人物', '传记', '传记片', '歌...</td>\n",
       "    </tr>\n",
       "  </tbody>\n",
       "</table>\n",
       "</div>"
      ],
      "text/plain": [
       "   ID           Movie_Name  Movie_Score  Review_Count  \\\n",
       "0   0  1988年的妮可 Nico, 1988          7.5           565   \n",
       "\n",
       "   Movie_Star_Distribution Collect_Date Username   Post_Date  Score  \\\n",
       "0  15.2%48.2%32.3%3.4%0.8%   2019-10-05       尾黑  2018-06-23      3   \n",
       "\n",
       "                                        User_Comment  \\\n",
       "0  成本低廉的PPT电影，用Nico生命中最后一年发生的事给Nico的歌配上情节，倒不算尴尬。女...   \n",
       "\n",
       "  User_Comment_Distribution  Comment_Like_Count  \\\n",
       "0                  66%31%3%                   4   \n",
       "\n",
       "                                          Movie_Tags  \n",
       "0  ['音乐', '电影', '儿子', '丝绒', '人物', '传记', '传记片', '歌...  "
      ]
     },
     "execution_count": 2,
     "metadata": {},
     "output_type": "execute_result"
    }
   ],
   "source": [
    "# demo 验证\n",
    "train_df = pd.read_csv('Data/New_Movie_RS.csv',nrows=10000)\n",
    "print(train_df.shape)\n",
    "train_df.head(1)"
   ]
  },
  {
   "cell_type": "code",
   "execution_count": 3,
   "metadata": {},
   "outputs": [
    {
     "name": "stdout",
     "output_type": "stream",
     "text": [
      "<class 'pandas.core.frame.DataFrame'>\n",
      "Int64Index: 9999 entries, 0 to 9999\n",
      "Data columns (total 13 columns):\n",
      "ID                           9999 non-null int64\n",
      "Movie_Name                   9999 non-null object\n",
      "Movie_Score                  9999 non-null float64\n",
      "Review_Count                 9999 non-null int64\n",
      "Movie_Star_Distribution      9999 non-null object\n",
      "Collect_Date                 9999 non-null object\n",
      "Username                     9999 non-null object\n",
      "Post_Date                    9999 non-null object\n",
      "Score                        9999 non-null int64\n",
      "User_Comment                 9999 non-null object\n",
      "User_Comment_Distribution    9999 non-null object\n",
      "Comment_Like_Count           9999 non-null int64\n",
      "Movie_Tags                   9999 non-null object\n",
      "dtypes: float64(1), int64(4), object(8)\n",
      "memory usage: 1.1+ MB\n"
     ]
    }
   ],
   "source": [
    "# 去除空值\n",
    "train_df.dropna(axis=0, how='any', inplace=True)\n",
    "train_df.info()"
   ]
  },
  {
   "cell_type": "code",
   "execution_count": 4,
   "metadata": {},
   "outputs": [
    {
     "name": "stdout",
     "output_type": "stream",
     "text": [
      "Looking in indexes: https://pypi.tuna.tsinghua.edu.cn/simple\n",
      "Requirement already satisfied: lightfm in /home/carry/p36venv/lib/python3.6/site-packages (1.15)\n",
      "Requirement already satisfied: scipy>=0.17.0 in /home/carry/p36venv/lib/python3.6/site-packages (from lightfm) (1.4.1)\n",
      "Requirement already satisfied: numpy in /home/carry/p36venv/lib/python3.6/site-packages (from lightfm) (1.17.0)\n",
      "Requirement already satisfied: requests in /home/carry/p36venv/lib/python3.6/site-packages (from lightfm) (2.22.0)\n",
      "Requirement already satisfied: idna<2.9,>=2.5 in /home/carry/p36venv/lib/python3.6/site-packages (from requests->lightfm) (2.8)\n",
      "Requirement already satisfied: certifi>=2017.4.17 in /home/carry/p36venv/lib/python3.6/site-packages (from requests->lightfm) (2019.11.28)\n",
      "Requirement already satisfied: chardet<3.1.0,>=3.0.2 in /home/carry/p36venv/lib/python3.6/site-packages (from requests->lightfm) (3.0.4)\n",
      "Requirement already satisfied: urllib3!=1.25.0,!=1.25.1,<1.26,>=1.21.1 in /home/carry/p36venv/lib/python3.6/site-packages (from requests->lightfm) (1.25.7)\n"
     ]
    }
   ],
   "source": [
    "!pip install lightfm"
   ]
  },
  {
   "cell_type": "code",
   "execution_count": 5,
   "metadata": {},
   "outputs": [],
   "source": [
    "from sklearn.metrics.pairwise import cosine_similarity\n",
    "from lightfm import LightFM, cross_validation\n",
    "from scipy.sparse import csr_matrix, coo_matrix\n",
    "from lightfm.evaluation import auc_score \n",
    "from lightfm.data import Dataset\n",
    "import numpy as np"
   ]
  },
  {
   "cell_type": "code",
   "execution_count": 6,
   "metadata": {},
   "outputs": [],
   "source": [
    "# 建立用户名和 id 映射的字典\n",
    "user_dict = {}\n",
    "for index, value in enumerate(train_df['Username'].unique()):\n",
    "    user_dict[value] = index\n",
    "train_df['uid_int'] = train_df['Username'].apply(lambda x: user_dict[x])\n",
    "# 字典翻转\n",
    "reverse_user_dict = {v: k for k, v in user_dict.items()}\n",
    "\n",
    "# 建立电影名和 id 映射的字典\n",
    "item_dict = {}\n",
    "for index, value in enumerate(train_df['Movie_Name'].unique()):\n",
    "    item_dict[value] = index\n",
    "train_df['item_int'] = train_df['Movie_Name'].apply(lambda x: item_dict[x])\n",
    "# 字典翻转\n",
    "reverse_item_dict = {v: k for k, v in item_dict.items()}"
   ]
  },
  {
   "cell_type": "markdown",
   "metadata": {},
   "source": [
    "#### 设置电影和用户特征"
   ]
  },
  {
   "cell_type": "code",
   "execution_count": 7,
   "metadata": {},
   "outputs": [],
   "source": [
    "def create_features(dataframe, features_name, id_col_name):\n",
    "    features = dataframe[features_name].apply(\n",
    "        lambda x: ','.join(x.map(str)), axis=1)\n",
    "    features = features.str.split(',')\n",
    "    features1 = list(zip(dataframe[id_col_name], features))\n",
    "    features2 = features.apply(pd.Series).stack().reset_index(drop=True)\n",
    "    return features1, features2"
   ]
  },
  {
   "cell_type": "code",
   "execution_count": 8,
   "metadata": {},
   "outputs": [
    {
     "data": {
      "text/html": [
       "<div>\n",
       "<style scoped>\n",
       "    .dataframe tbody tr th:only-of-type {\n",
       "        vertical-align: middle;\n",
       "    }\n",
       "\n",
       "    .dataframe tbody tr th {\n",
       "        vertical-align: top;\n",
       "    }\n",
       "\n",
       "    .dataframe thead th {\n",
       "        text-align: right;\n",
       "    }\n",
       "</style>\n",
       "<table border=\"1\" class=\"dataframe\">\n",
       "  <thead>\n",
       "    <tr style=\"text-align: right;\">\n",
       "      <th></th>\n",
       "      <th>ID</th>\n",
       "      <th>Movie_Name</th>\n",
       "      <th>Movie_Score</th>\n",
       "      <th>Review_Count</th>\n",
       "      <th>Movie_Star_Distribution</th>\n",
       "      <th>Collect_Date</th>\n",
       "      <th>Username</th>\n",
       "      <th>Post_Date</th>\n",
       "      <th>Score</th>\n",
       "      <th>User_Comment</th>\n",
       "      <th>User_Comment_Distribution</th>\n",
       "      <th>Comment_Like_Count</th>\n",
       "      <th>Movie_Tags</th>\n",
       "      <th>uid_int</th>\n",
       "      <th>item_int</th>\n",
       "      <th>items_features</th>\n",
       "      <th>users_features</th>\n",
       "    </tr>\n",
       "  </thead>\n",
       "  <tbody>\n",
       "    <tr>\n",
       "      <th>0</th>\n",
       "      <td>0</td>\n",
       "      <td>1988年的妮可 Nico, 1988</td>\n",
       "      <td>7.5</td>\n",
       "      <td>565</td>\n",
       "      <td>15.2%48.2%32.3%3.4%0.8%</td>\n",
       "      <td>2019-10-05</td>\n",
       "      <td>尾黑</td>\n",
       "      <td>2018-06-23</td>\n",
       "      <td>3</td>\n",
       "      <td>成本低廉的PPT电影，用Nico生命中最后一年发生的事给Nico的歌配上情节，倒不算尴尬。女...</td>\n",
       "      <td>66%31%3%</td>\n",
       "      <td>4</td>\n",
       "      <td>['音乐', '电影', '儿子', '丝绒', '人物', '传记', '传记片', '歌...</td>\n",
       "      <td>0</td>\n",
       "      <td>0</td>\n",
       "      <td>(0, [7.5, 565.0, 0.0])</td>\n",
       "      <td>(0, [0, 66%31%3%])</td>\n",
       "    </tr>\n",
       "  </tbody>\n",
       "</table>\n",
       "</div>"
      ],
      "text/plain": [
       "   ID           Movie_Name  Movie_Score  Review_Count  \\\n",
       "0   0  1988年的妮可 Nico, 1988          7.5           565   \n",
       "\n",
       "   Movie_Star_Distribution Collect_Date Username   Post_Date  Score  \\\n",
       "0  15.2%48.2%32.3%3.4%0.8%   2019-10-05       尾黑  2018-06-23      3   \n",
       "\n",
       "                                        User_Comment  \\\n",
       "0  成本低廉的PPT电影，用Nico生命中最后一年发生的事给Nico的歌配上情节，倒不算尴尬。女...   \n",
       "\n",
       "  User_Comment_Distribution  Comment_Like_Count  \\\n",
       "0                  66%31%3%                   4   \n",
       "\n",
       "                                          Movie_Tags  uid_int  item_int  \\\n",
       "0  ['音乐', '电影', '儿子', '丝绒', '人物', '传记', '传记片', '歌...        0         0   \n",
       "\n",
       "           items_features      users_features  \n",
       "0  (0, [7.5, 565.0, 0.0])  (0, [0, 66%31%3%])  "
      ]
     },
     "execution_count": 8,
     "metadata": {},
     "output_type": "execute_result"
    }
   ],
   "source": [
    "# 电影特征\n",
    "items_f = ['Movie_Score', 'Review_Count','item_int' ]\n",
    "\n",
    "# 用户特征\n",
    "users_f = ['uid_int','User_Comment_Distribution']\n",
    "\n",
    "train_df['items_features'], item_feature_list = create_features(\n",
    "    train_df, items_f, 'item_int')\n",
    "\n",
    "train_df['users_features'], user_feature_list = create_features(\n",
    "    train_df, users_f, 'uid_int')\n",
    "\n",
    "\n",
    "train_df.head(1)"
   ]
  },
  {
   "cell_type": "code",
   "execution_count": 9,
   "metadata": {},
   "outputs": [],
   "source": [
    "# 开始制作数据集\n",
    "make_dataset = Dataset()\n",
    "make_dataset.fit(train_df['uid_int'], train_df['item_int'],\n",
    "                 item_features=item_feature_list, user_features=user_feature_list)"
   ]
  },
  {
   "cell_type": "code",
   "execution_count": 10,
   "metadata": {},
   "outputs": [
    {
     "data": {
      "text/plain": [
       "array([3, 1, 2, 4, 5])"
      ]
     },
     "execution_count": 10,
     "metadata": {},
     "output_type": "execute_result"
    }
   ],
   "source": [
    "# 构建打分矩阵\n",
    "interactions, weights = make_dataset.build_interactions(\n",
    "    list(zip(train_df['uid_int'], train_df['item_int'], train_df['Score'])))\n",
    "\n",
    "# 打印用户评分\n",
    "train_df['Score'].unique()"
   ]
  },
  {
   "cell_type": "markdown",
   "metadata": {},
   "source": [
    "数据集划分"
   ]
  },
  {
   "cell_type": "code",
   "execution_count": 11,
   "metadata": {},
   "outputs": [],
   "source": [
    "# model load\n",
    "model_test = LightFM(no_components=30, random_state=1)\n",
    "\n",
    "# 固定划分数据\n",
    "train, test = cross_validation.random_train_test_split(\n",
    "    interactions, test_percentage=0.2)"
   ]
  },
  {
   "cell_type": "markdown",
   "metadata": {},
   "source": [
    "模型训练"
   ]
  },
  {
   "cell_type": "code",
   "execution_count": 12,
   "metadata": {},
   "outputs": [
    {
     "name": "stdout",
     "output_type": "stream",
     "text": [
      "CPU times: user 236 ms, sys: 8 ms, total: 244 ms\n",
      "Wall time: 242 ms\n"
     ]
    },
    {
     "data": {
      "text/plain": [
       "<lightfm.lightfm.LightFM at 0x7f348552fa20>"
      ]
     },
     "execution_count": 12,
     "metadata": {},
     "output_type": "execute_result"
    }
   ],
   "source": [
    "# 电影特征处理\n",
    "items_features = make_dataset.build_item_features(train_df['items_features'])\n",
    "\n",
    "# 用户特征处理\n",
    "users_features = make_dataset.build_user_features(train_df['users_features'])\n",
    "\n",
    "# model train\n",
    "%time model_test.fit(train, item_features=items_features, user_features=users_features, epochs=10, verbose=False)"
   ]
  },
  {
   "cell_type": "markdown",
   "metadata": {},
   "source": [
    "模型验证"
   ]
  },
  {
   "cell_type": "code",
   "execution_count": 13,
   "metadata": {},
   "outputs": [
    {
     "data": {
      "text/plain": [
       "0.736518"
      ]
     },
     "execution_count": 13,
     "metadata": {},
     "output_type": "execute_result"
    }
   ],
   "source": [
    "# 开始验证模型\n",
    "auc = auc_score(model_test, test, item_features=items_features,\n",
    "                user_features=users_features)\n",
    "\n",
    "# 计算 auc 的均值\n",
    "np.mean(auc)"
   ]
  },
  {
   "cell_type": "markdown",
   "metadata": {},
   "source": [
    "### 首页用户个性化推荐\n",
    "1. 包含召回和排序两个部分。\n",
    "2. 适合首页 Feed 流的离线推荐计算场景。"
   ]
  },
  {
   "cell_type": "markdown",
   "metadata": {},
   "source": [
    "使用全量数据进行推荐模型训练。"
   ]
  },
  {
   "cell_type": "code",
   "execution_count": 14,
   "metadata": {},
   "outputs": [
    {
     "name": "stdout",
     "output_type": "stream",
     "text": [
      "CPU times: user 856 ms, sys: 4 ms, total: 860 ms\n",
      "Wall time: 859 ms\n"
     ]
    },
    {
     "data": {
      "text/plain": [
       "<lightfm.lightfm.LightFM at 0x7f34855127f0>"
      ]
     },
     "execution_count": 14,
     "metadata": {},
     "output_type": "execute_result"
    }
   ],
   "source": [
    "# 推荐模型训练\n",
    "model = LightFM(no_components=30, random_state=1)\n",
    "\n",
    "%time model.fit(interactions, sample_weight=weights, item_features=items_features, user_features=users_features, epochs=30,  verbose=False)"
   ]
  },
  {
   "cell_type": "markdown",
   "metadata": {},
   "source": [
    "召回\n",
    "1. 过滤用户看过的\n",
    "2. 尽可能找到用户喜欢的"
   ]
  },
  {
   "cell_type": "code",
   "execution_count": 15,
   "metadata": {},
   "outputs": [],
   "source": [
    "# 按照用户名进行推荐\n",
    "Username = '尾黑'\n",
    "\n",
    "# id 转换\n",
    "user_x = user_dict[Username]\n",
    "\n",
    "# 对电影进行去重\n",
    "allready_knews = train_df.loc[train_df['uid_int'].isin([user_x])].drop_duplicates('item_int', keep='first', inplace=False)"
   ]
  },
  {
   "cell_type": "markdown",
   "metadata": {},
   "source": [
    "暂时使用全量用户没看过的，且电影分数大于 Threshold 的电影作为召回。"
   ]
  },
  {
   "cell_type": "code",
   "execution_count": 16,
   "metadata": {},
   "outputs": [
    {
     "data": {
      "text/html": [
       "<div>\n",
       "<style scoped>\n",
       "    .dataframe tbody tr th:only-of-type {\n",
       "        vertical-align: middle;\n",
       "    }\n",
       "\n",
       "    .dataframe tbody tr th {\n",
       "        vertical-align: top;\n",
       "    }\n",
       "\n",
       "    .dataframe thead th {\n",
       "        text-align: right;\n",
       "    }\n",
       "</style>\n",
       "<table border=\"1\" class=\"dataframe\">\n",
       "  <thead>\n",
       "    <tr style=\"text-align: right;\">\n",
       "      <th></th>\n",
       "      <th>ID</th>\n",
       "      <th>Movie_Name</th>\n",
       "      <th>Movie_Score</th>\n",
       "      <th>Review_Count</th>\n",
       "      <th>Movie_Star_Distribution</th>\n",
       "      <th>Collect_Date</th>\n",
       "      <th>Username</th>\n",
       "      <th>Post_Date</th>\n",
       "      <th>Score</th>\n",
       "      <th>User_Comment</th>\n",
       "      <th>User_Comment_Distribution</th>\n",
       "      <th>Comment_Like_Count</th>\n",
       "      <th>Movie_Tags</th>\n",
       "      <th>uid_int</th>\n",
       "      <th>item_int</th>\n",
       "      <th>items_features</th>\n",
       "      <th>users_features</th>\n",
       "    </tr>\n",
       "  </thead>\n",
       "  <tbody>\n",
       "    <tr>\n",
       "      <th>2364</th>\n",
       "      <td>2394</td>\n",
       "      <td>一年级生 The First Grader</td>\n",
       "      <td>8.1</td>\n",
       "      <td>2483</td>\n",
       "      <td>28.9%47.6%22.5%0.9%0.2%</td>\n",
       "      <td>2019-10-05</td>\n",
       "      <td>mark</td>\n",
       "      <td>2012-05-08</td>\n",
       "      <td>3</td>\n",
       "      <td>这是一部典型的慢热电影，前面部分预示着电影的两条线，一条是老人要读小学，一条是老人早年为肯尼...</td>\n",
       "      <td>77%21%2%</td>\n",
       "      <td>0</td>\n",
       "      <td>['老人', '故事', '电影', '孩子', '历史', '励志', '影片', '剧情...</td>\n",
       "      <td>1025</td>\n",
       "      <td>8</td>\n",
       "      <td>(8, [8.1, 2483.0, 8.0])</td>\n",
       "      <td>(1025, [1025, 77%21%2%])</td>\n",
       "    </tr>\n",
       "  </tbody>\n",
       "</table>\n",
       "</div>"
      ],
      "text/plain": [
       "        ID             Movie_Name  Movie_Score  Review_Count  \\\n",
       "2364  2394  一年级生 The First Grader          8.1          2483   \n",
       "\n",
       "      Movie_Star_Distribution Collect_Date Username   Post_Date  Score  \\\n",
       "2364  28.9%47.6%22.5%0.9%0.2%   2019-10-05     mark  2012-05-08      3   \n",
       "\n",
       "                                           User_Comment  \\\n",
       "2364  这是一部典型的慢热电影，前面部分预示着电影的两条线，一条是老人要读小学，一条是老人早年为肯尼...   \n",
       "\n",
       "     User_Comment_Distribution  Comment_Like_Count  \\\n",
       "2364                  77%21%2%                   0   \n",
       "\n",
       "                                             Movie_Tags  uid_int  item_int  \\\n",
       "2364  ['老人', '故事', '电影', '孩子', '历史', '励志', '影片', '剧情...     1025         8   \n",
       "\n",
       "               items_features            users_features  \n",
       "2364  (8, [8.1, 2483.0, 8.0])  (1025, [1025, 77%21%2%])  "
      ]
     },
     "execution_count": 16,
     "metadata": {},
     "output_type": "execute_result"
    }
   ],
   "source": [
    "# 过滤看过的内容\n",
    "known_items = allready_knews['item_int'].tolist()\n",
    "df_use_for_prediction = train_df.loc[~train_df['item_int'].isin(known_items)].drop_duplicates(\n",
    "    'item_int', keep='first', inplace=False)\n",
    "\n",
    "# 挑选高质量的电影\n",
    "Threshold = 8\n",
    "df_use_for_prediction = df_use_for_prediction[df_use_for_prediction['Movie_Score'] > Threshold]\n",
    "\n",
    "df_use_for_prediction.head(1)"
   ]
  },
  {
   "cell_type": "markdown",
   "metadata": {},
   "source": [
    "对召回的结果进行排序。"
   ]
  },
  {
   "cell_type": "code",
   "execution_count": 17,
   "metadata": {},
   "outputs": [
    {
     "data": {
      "text/html": [
       "<div>\n",
       "<style scoped>\n",
       "    .dataframe tbody tr th:only-of-type {\n",
       "        vertical-align: middle;\n",
       "    }\n",
       "\n",
       "    .dataframe tbody tr th {\n",
       "        vertical-align: top;\n",
       "    }\n",
       "\n",
       "    .dataframe thead th {\n",
       "        text-align: right;\n",
       "    }\n",
       "</style>\n",
       "<table border=\"1\" class=\"dataframe\">\n",
       "  <thead>\n",
       "    <tr style=\"text-align: right;\">\n",
       "      <th></th>\n",
       "      <th>ID</th>\n",
       "      <th>Movie_Name</th>\n",
       "      <th>Movie_Score</th>\n",
       "      <th>Review_Count</th>\n",
       "      <th>Movie_Star_Distribution</th>\n",
       "      <th>Collect_Date</th>\n",
       "      <th>Username</th>\n",
       "      <th>Post_Date</th>\n",
       "      <th>Score</th>\n",
       "      <th>User_Comment</th>\n",
       "      <th>User_Comment_Distribution</th>\n",
       "      <th>Comment_Like_Count</th>\n",
       "      <th>Movie_Tags</th>\n",
       "      <th>uid_int</th>\n",
       "      <th>item_int</th>\n",
       "      <th>items_features</th>\n",
       "      <th>users_features</th>\n",
       "      <th>rec_score</th>\n",
       "    </tr>\n",
       "  </thead>\n",
       "  <tbody>\n",
       "    <tr>\n",
       "      <th>2364</th>\n",
       "      <td>2394</td>\n",
       "      <td>一年级生 The First Grader</td>\n",
       "      <td>8.1</td>\n",
       "      <td>2483</td>\n",
       "      <td>28.9%47.6%22.5%0.9%0.2%</td>\n",
       "      <td>2019-10-05</td>\n",
       "      <td>mark</td>\n",
       "      <td>2012-05-08</td>\n",
       "      <td>3</td>\n",
       "      <td>这是一部典型的慢热电影，前面部分预示着电影的两条线，一条是老人要读小学，一条是老人早年为肯尼...</td>\n",
       "      <td>77%21%2%</td>\n",
       "      <td>0</td>\n",
       "      <td>['老人', '故事', '电影', '孩子', '历史', '励志', '影片', '剧情...</td>\n",
       "      <td>1025</td>\n",
       "      <td>8</td>\n",
       "      <td>(8, [8.1, 2483.0, 8.0])</td>\n",
       "      <td>(1025, [1025, 77%21%2%])</td>\n",
       "      <td>5.618755</td>\n",
       "    </tr>\n",
       "  </tbody>\n",
       "</table>\n",
       "</div>"
      ],
      "text/plain": [
       "        ID             Movie_Name  Movie_Score  Review_Count  \\\n",
       "2364  2394  一年级生 The First Grader          8.1          2483   \n",
       "\n",
       "      Movie_Star_Distribution Collect_Date Username   Post_Date  Score  \\\n",
       "2364  28.9%47.6%22.5%0.9%0.2%   2019-10-05     mark  2012-05-08      3   \n",
       "\n",
       "                                           User_Comment  \\\n",
       "2364  这是一部典型的慢热电影，前面部分预示着电影的两条线，一条是老人要读小学，一条是老人早年为肯尼...   \n",
       "\n",
       "     User_Comment_Distribution  Comment_Like_Count  \\\n",
       "2364                  77%21%2%                   0   \n",
       "\n",
       "                                             Movie_Tags  uid_int  item_int  \\\n",
       "2364  ['老人', '故事', '电影', '孩子', '历史', '励志', '影片', '剧情...     1025         8   \n",
       "\n",
       "               items_features            users_features  rec_score  \n",
       "2364  (8, [8.1, 2483.0, 8.0])  (1025, [1025, 77%21%2%])   5.618755  "
      ]
     },
     "execution_count": 17,
     "metadata": {},
     "output_type": "execute_result"
    }
   ],
   "source": [
    "# 对过滤之后的内容进行排序\n",
    "df_use_for_prediction['rec_score'] = model.predict(user_ids=user_x, item_ids=df_use_for_prediction['item_int'].tolist(),\n",
    "                                                   item_features=items_features, user_features=users_features)\n",
    "\n",
    "df_use_for_prediction.head(1)"
   ]
  },
  {
   "cell_type": "markdown",
   "metadata": {},
   "source": [
    "对排序结果进行 topk 选取。"
   ]
  },
  {
   "cell_type": "code",
   "execution_count": 18,
   "metadata": {},
   "outputs": [
    {
     "data": {
      "text/plain": [
       "[8, 15]"
      ]
     },
     "execution_count": 18,
     "metadata": {},
     "output_type": "execute_result"
    }
   ],
   "source": [
    "# 取 topk\n",
    "top_rec_item = 5\n",
    "rec_list_ = df_use_for_prediction.sort_values(by='rec_score', ascending=False)[:top_rec_item]['item_int']\n",
    "\n",
    "# 排序后的电影推荐列表\n",
    "rec_list_.tolist()"
   ]
  },
  {
   "cell_type": "code",
   "execution_count": 19,
   "metadata": {},
   "outputs": [
    {
     "data": {
      "text/html": [
       "<div>\n",
       "<style scoped>\n",
       "    .dataframe tbody tr th:only-of-type {\n",
       "        vertical-align: middle;\n",
       "    }\n",
       "\n",
       "    .dataframe tbody tr th {\n",
       "        vertical-align: top;\n",
       "    }\n",
       "\n",
       "    .dataframe thead th {\n",
       "        text-align: right;\n",
       "    }\n",
       "</style>\n",
       "<table border=\"1\" class=\"dataframe\">\n",
       "  <thead>\n",
       "    <tr style=\"text-align: right;\">\n",
       "      <th></th>\n",
       "      <th>Movie_Name</th>\n",
       "      <th>item_int</th>\n",
       "      <th>Movie_Score</th>\n",
       "      <th>Movie_Tags</th>\n",
       "    </tr>\n",
       "  </thead>\n",
       "  <tbody>\n",
       "    <tr>\n",
       "      <th>2364</th>\n",
       "      <td>一年级生 The First Grader</td>\n",
       "      <td>8</td>\n",
       "      <td>8.1</td>\n",
       "      <td>['老人', '故事', '电影', '孩子', '历史', '励志', '影片', '剧情...</td>\n",
       "    </tr>\n",
       "  </tbody>\n",
       "</table>\n",
       "</div>"
      ],
      "text/plain": [
       "                 Movie_Name  item_int  Movie_Score  \\\n",
       "2364  一年级生 The First Grader         8          8.1   \n",
       "\n",
       "                                             Movie_Tags  \n",
       "2364  ['老人', '故事', '电影', '孩子', '历史', '励志', '影片', '剧情...  "
      ]
     },
     "execution_count": 19,
     "metadata": {},
     "output_type": "execute_result"
    }
   ],
   "source": [
    "# 利用推荐列表找出电影信息\n",
    "result = train_df.loc[train_df['item_int'].isin(rec_list_.tolist())][[\n",
    "    'Movie_Name', 'item_int', 'Movie_Score', 'Movie_Tags']].drop_duplicates('Movie_Name', keep='first', inplace=False)\n",
    "\n",
    "# 推荐结果显示\n",
    "result.head(1)"
   ]
  },
  {
   "cell_type": "markdown",
   "metadata": {},
   "source": [
    "### 看了还看\n",
    "1. 根据当前看的内容找到看过此次内容相关的内容。\n",
    "2. 对结果依旧使用阈值过滤，挑选优质内容。"
   ]
  },
  {
   "cell_type": "code",
   "execution_count": 20,
   "metadata": {},
   "outputs": [],
   "source": [
    "# 提取电影特征向量\n",
    "embedding_movie, feature_movie = csr_matrix(\n",
    "    model.item_embeddings), csr_matrix(items_features)\n",
    "\n",
    "# 电影特征提取\n",
    "movie_inner_max = np.dot(feature_movie, embedding_movie)\n",
    "\n",
    "# 电影之间求得余弦相似度\n",
    "movie_cosine_sim = cosine_similarity(movie_inner_max)"
   ]
  },
  {
   "cell_type": "code",
   "execution_count": 21,
   "metadata": {},
   "outputs": [],
   "source": [
    "# 找到与查询电影最近余弦距离上的电影\n",
    "def next_movie_recommendations(movie_name, cosine_sim, topk):\n",
    "    # 电影名转换唯一的 id\n",
    "    int_id = item_dict[movie_name]\n",
    "    # 去除自身 id\n",
    "    sim_scores = sorted(\n",
    "        list(enumerate(cosine_sim[int_id])),\n",
    "        key=lambda x: x[1], reverse=True)[1:topk+1]\n",
    "    return sim_scores"
   ]
  },
  {
   "cell_type": "markdown",
   "metadata": {},
   "source": [
    "假设当前看的电影。"
   ]
  },
  {
   "cell_type": "code",
   "execution_count": 22,
   "metadata": {},
   "outputs": [
    {
     "data": {
      "text/html": [
       "<div>\n",
       "<style scoped>\n",
       "    .dataframe tbody tr th:only-of-type {\n",
       "        vertical-align: middle;\n",
       "    }\n",
       "\n",
       "    .dataframe tbody tr th {\n",
       "        vertical-align: top;\n",
       "    }\n",
       "\n",
       "    .dataframe thead th {\n",
       "        text-align: right;\n",
       "    }\n",
       "</style>\n",
       "<table border=\"1\" class=\"dataframe\">\n",
       "  <thead>\n",
       "    <tr style=\"text-align: right;\">\n",
       "      <th></th>\n",
       "      <th>ID</th>\n",
       "      <th>Movie_Name</th>\n",
       "      <th>Movie_Score</th>\n",
       "      <th>Review_Count</th>\n",
       "      <th>Movie_Star_Distribution</th>\n",
       "      <th>Collect_Date</th>\n",
       "      <th>Username</th>\n",
       "      <th>Post_Date</th>\n",
       "      <th>Score</th>\n",
       "      <th>User_Comment</th>\n",
       "      <th>User_Comment_Distribution</th>\n",
       "      <th>Comment_Like_Count</th>\n",
       "      <th>Movie_Tags</th>\n",
       "      <th>uid_int</th>\n",
       "      <th>item_int</th>\n",
       "      <th>items_features</th>\n",
       "      <th>users_features</th>\n",
       "    </tr>\n",
       "  </thead>\n",
       "  <tbody>\n",
       "    <tr>\n",
       "      <th>1411</th>\n",
       "      <td>1433</td>\n",
       "      <td>55步 55 Steps</td>\n",
       "      <td>7.9</td>\n",
       "      <td>890</td>\n",
       "      <td>23.2%51.5%24.3%0.8%0.3%</td>\n",
       "      <td>2019-10-05</td>\n",
       "      <td>vivi</td>\n",
       "      <td>2018-10-20</td>\n",
       "      <td>3</td>\n",
       "      <td>Helena Bonham Carter 的演技其实确实一直都这么好啊。我们之所以被她们所感...</td>\n",
       "      <td>75%22%3%</td>\n",
       "      <td>4</td>\n",
       "      <td>['电影', '律师', '女主', '法律', '题材', '患者', '故事', '精神...</td>\n",
       "      <td>727</td>\n",
       "      <td>3</td>\n",
       "      <td>(3, [7.9, 890.0, 3.0])</td>\n",
       "      <td>(727, [727, 75%22%3%])</td>\n",
       "    </tr>\n",
       "  </tbody>\n",
       "</table>\n",
       "</div>"
      ],
      "text/plain": [
       "        ID    Movie_Name  Movie_Score  Review_Count  Movie_Star_Distribution  \\\n",
       "1411  1433  55步 55 Steps          7.9           890  23.2%51.5%24.3%0.8%0.3%   \n",
       "\n",
       "     Collect_Date Username   Post_Date  Score  \\\n",
       "1411   2019-10-05     vivi  2018-10-20      3   \n",
       "\n",
       "                                           User_Comment  \\\n",
       "1411  Helena Bonham Carter 的演技其实确实一直都这么好啊。我们之所以被她们所感...   \n",
       "\n",
       "     User_Comment_Distribution  Comment_Like_Count  \\\n",
       "1411                  75%22%3%                   4   \n",
       "\n",
       "                                             Movie_Tags  uid_int  item_int  \\\n",
       "1411  ['电影', '律师', '女主', '法律', '题材', '患者', '故事', '精神...      727         3   \n",
       "\n",
       "              items_features          users_features  \n",
       "1411  (3, [7.9, 890.0, 3.0])  (727, [727, 75%22%3%])  "
      ]
     },
     "execution_count": 22,
     "metadata": {},
     "output_type": "execute_result"
    }
   ],
   "source": [
    "# 利用电影名查询\n",
    "movie_name = '55步 55 Steps'\n",
    "\n",
    "train_df.loc[train_df['Movie_Name'].isin([movie_name])].drop_duplicates(\n",
    "    'item_int', keep='first', inplace=False).head(1)"
   ]
  },
  {
   "cell_type": "markdown",
   "metadata": {},
   "source": [
    "推理用户接下来看的 topk 个电影，并去除当前看的电影和自己已经看过的电影。"
   ]
  },
  {
   "cell_type": "code",
   "execution_count": 23,
   "metadata": {},
   "outputs": [
    {
     "data": {
      "text/plain": [
       "[1, 2, 4, 5, 6, 7, 8, 9, 11, 12, 13, 14, 17, 18, 19, 21, 22, 23, 25]"
      ]
     },
     "execution_count": 23,
     "metadata": {},
     "output_type": "execute_result"
    }
   ],
   "source": [
    "topk = 20\n",
    "next_movie = [i[0] for i in next_movie_recommendations(\n",
    "    movie_name, movie_cosine_sim, topk)]\n",
    "\n",
    "#  推荐和看过的取差集\n",
    "next_list = list(set(next_movie).difference(set(known_items)))\n",
    "next_list"
   ]
  },
  {
   "cell_type": "markdown",
   "metadata": {},
   "source": [
    "增加阈值过滤进行下一个结果输出，保证推荐质量。"
   ]
  },
  {
   "cell_type": "code",
   "execution_count": 24,
   "metadata": {
    "scrolled": true
   },
   "outputs": [
    {
     "data": {
      "text/html": [
       "<div>\n",
       "<style scoped>\n",
       "    .dataframe tbody tr th:only-of-type {\n",
       "        vertical-align: middle;\n",
       "    }\n",
       "\n",
       "    .dataframe tbody tr th {\n",
       "        vertical-align: top;\n",
       "    }\n",
       "\n",
       "    .dataframe thead th {\n",
       "        text-align: right;\n",
       "    }\n",
       "</style>\n",
       "<table border=\"1\" class=\"dataframe\">\n",
       "  <thead>\n",
       "    <tr style=\"text-align: right;\">\n",
       "      <th></th>\n",
       "      <th>Movie_Name</th>\n",
       "      <th>item_int</th>\n",
       "      <th>Movie_Score</th>\n",
       "      <th>Movie_Tags</th>\n",
       "    </tr>\n",
       "  </thead>\n",
       "  <tbody>\n",
       "    <tr>\n",
       "      <th>159</th>\n",
       "      <td>24小时狂欢派对 24 Hour Party People</td>\n",
       "      <td>1</td>\n",
       "      <td>7.9</td>\n",
       "      <td>['音乐', '纪录片', '电影', '时候', '演员', '片子', '工厂', '乐...</td>\n",
       "    </tr>\n",
       "    <tr>\n",
       "      <th>373</th>\n",
       "      <td>42号传奇 42</td>\n",
       "      <td>2</td>\n",
       "      <td>7.9</td>\n",
       "      <td>['成就', '励志', '桥段', '夫妻', '棒球', '电影', '核心', '数字...</td>\n",
       "    </tr>\n",
       "    <tr>\n",
       "      <th>2042</th>\n",
       "      <td>一个人的遭遇 Судьба человека</td>\n",
       "      <td>6</td>\n",
       "      <td>7.9</td>\n",
       "      <td>['电影', '镜头', '时代', '摄影', '画面', '影片', '小说', '感觉...</td>\n",
       "    </tr>\n",
       "    <tr>\n",
       "      <th>2132</th>\n",
       "      <td>一代巨星桑杰君 Sanju</td>\n",
       "      <td>7</td>\n",
       "      <td>7.5</td>\n",
       "      <td>['电影', '故事', '父亲', '友情', '人生', '媒体', '亲情', '朋友...</td>\n",
       "    </tr>\n",
       "    <tr>\n",
       "      <th>2364</th>\n",
       "      <td>一年级生 The First Grader</td>\n",
       "      <td>8</td>\n",
       "      <td>8.1</td>\n",
       "      <td>['老人', '故事', '电影', '孩子', '历史', '励志', '影片', '剧情...</td>\n",
       "    </tr>\n",
       "  </tbody>\n",
       "</table>\n",
       "</div>"
      ],
      "text/plain": [
       "                         Movie_Name  item_int  Movie_Score  \\\n",
       "159   24小时狂欢派对 24 Hour Party People         1          7.9   \n",
       "373                        42号传奇 42         2          7.9   \n",
       "2042         一个人的遭遇 Судьба человека         6          7.9   \n",
       "2132                  一代巨星桑杰君 Sanju         7          7.5   \n",
       "2364          一年级生 The First Grader         8          8.1   \n",
       "\n",
       "                                             Movie_Tags  \n",
       "159   ['音乐', '纪录片', '电影', '时候', '演员', '片子', '工厂', '乐...  \n",
       "373   ['成就', '励志', '桥段', '夫妻', '棒球', '电影', '核心', '数字...  \n",
       "2042  ['电影', '镜头', '时代', '摄影', '画面', '影片', '小说', '感觉...  \n",
       "2132  ['电影', '故事', '父亲', '友情', '人生', '媒体', '亲情', '朋友...  \n",
       "2364  ['老人', '故事', '电影', '孩子', '历史', '励志', '影片', '剧情...  "
      ]
     },
     "execution_count": 24,
     "metadata": {},
     "output_type": "execute_result"
    }
   ],
   "source": [
    "next_movie_result = train_df.loc[train_df['item_int'].isin(\n",
    "    next_list)].drop_duplicates('item_int', keep='first', inplace=False)\n",
    "\n",
    "\n",
    "# 使用 Threshold 进行过滤\n",
    "Threshold = 7.5\n",
    "next_movie_result = next_movie_result[next_movie_result['Movie_Score'] >= Threshold]\n",
    "\n",
    "# 显示下一个电影的推荐结果\n",
    "next_movie_result.head()[['Movie_Name', 'item_int',\n",
    "                          'Movie_Score', 'Movie_Tags']]"
   ]
  },
  {
   "cell_type": "markdown",
   "metadata": {},
   "source": [
    "### Push 推荐\n",
    "1. 通过计算每位用户对单一电影的兴趣度，去除看过的即可得出 topk 的 push 结果。\n",
    "2. 通过电影找用户，解决电影冷启动问题。"
   ]
  },
  {
   "cell_type": "code",
   "execution_count": 25,
   "metadata": {},
   "outputs": [
    {
     "data": {
      "text/html": [
       "<div>\n",
       "<style scoped>\n",
       "    .dataframe tbody tr th:only-of-type {\n",
       "        vertical-align: middle;\n",
       "    }\n",
       "\n",
       "    .dataframe tbody tr th {\n",
       "        vertical-align: top;\n",
       "    }\n",
       "\n",
       "    .dataframe thead th {\n",
       "        text-align: right;\n",
       "    }\n",
       "</style>\n",
       "<table border=\"1\" class=\"dataframe\">\n",
       "  <thead>\n",
       "    <tr style=\"text-align: right;\">\n",
       "      <th></th>\n",
       "      <th>ID</th>\n",
       "      <th>Movie_Name</th>\n",
       "      <th>Movie_Score</th>\n",
       "      <th>Review_Count</th>\n",
       "      <th>Movie_Star_Distribution</th>\n",
       "      <th>Collect_Date</th>\n",
       "      <th>Username</th>\n",
       "      <th>Post_Date</th>\n",
       "      <th>Score</th>\n",
       "      <th>User_Comment</th>\n",
       "      <th>User_Comment_Distribution</th>\n",
       "      <th>Comment_Like_Count</th>\n",
       "      <th>Movie_Tags</th>\n",
       "      <th>uid_int</th>\n",
       "      <th>item_int</th>\n",
       "      <th>items_features</th>\n",
       "      <th>users_features</th>\n",
       "    </tr>\n",
       "  </thead>\n",
       "  <tbody>\n",
       "    <tr>\n",
       "      <th>1411</th>\n",
       "      <td>1433</td>\n",
       "      <td>55步 55 Steps</td>\n",
       "      <td>7.9</td>\n",
       "      <td>890</td>\n",
       "      <td>23.2%51.5%24.3%0.8%0.3%</td>\n",
       "      <td>2019-10-05</td>\n",
       "      <td>vivi</td>\n",
       "      <td>2018-10-20</td>\n",
       "      <td>3</td>\n",
       "      <td>Helena Bonham Carter 的演技其实确实一直都这么好啊。我们之所以被她们所感...</td>\n",
       "      <td>75%22%3%</td>\n",
       "      <td>4</td>\n",
       "      <td>['电影', '律师', '女主', '法律', '题材', '患者', '故事', '精神...</td>\n",
       "      <td>727</td>\n",
       "      <td>3</td>\n",
       "      <td>(3, [7.9, 890.0, 3.0])</td>\n",
       "      <td>(727, [727, 75%22%3%])</td>\n",
       "    </tr>\n",
       "  </tbody>\n",
       "</table>\n",
       "</div>"
      ],
      "text/plain": [
       "        ID    Movie_Name  Movie_Score  Review_Count  Movie_Star_Distribution  \\\n",
       "1411  1433  55步 55 Steps          7.9           890  23.2%51.5%24.3%0.8%0.3%   \n",
       "\n",
       "     Collect_Date Username   Post_Date  Score  \\\n",
       "1411   2019-10-05     vivi  2018-10-20      3   \n",
       "\n",
       "                                           User_Comment  \\\n",
       "1411  Helena Bonham Carter 的演技其实确实一直都这么好啊。我们之所以被她们所感...   \n",
       "\n",
       "     User_Comment_Distribution  Comment_Like_Count  \\\n",
       "1411                  75%22%3%                   4   \n",
       "\n",
       "                                             Movie_Tags  uid_int  item_int  \\\n",
       "1411  ['电影', '律师', '女主', '法律', '题材', '患者', '故事', '精神...      727         3   \n",
       "\n",
       "              items_features          users_features  \n",
       "1411  (3, [7.9, 890.0, 3.0])  (727, [727, 75%22%3%])  "
      ]
     },
     "execution_count": 25,
     "metadata": {},
     "output_type": "execute_result"
    }
   ],
   "source": [
    "movie_int = item_dict[movie_name]\n",
    "\n",
    "# 查看当前物品\n",
    "item_rec_user = train_df.loc[train_df['item_int'].isin([movie_int])].drop_duplicates('item_int', keep='first', inplace=False)\n",
    "item_rec_user.head(1)"
   ]
  },
  {
   "cell_type": "code",
   "execution_count": 26,
   "metadata": {},
   "outputs": [
    {
     "data": {
      "text/plain": [
       "'55步 55 Steps'"
      ]
     },
     "execution_count": 26,
     "metadata": {},
     "output_type": "execute_result"
    }
   ],
   "source": [
    "movie_name"
   ]
  },
  {
   "cell_type": "code",
   "execution_count": 27,
   "metadata": {},
   "outputs": [],
   "source": [
    "# 利用交互矩阵的维度\n",
    "n_users, n_movies = interactions.shape\n",
    "\n",
    "movie2user_rec = model.predict(user_ids=np.arange(n_users), item_ids=np.repeat(\n",
    "    movie_int, n_users), item_features=items_features, user_features=users_features)\n",
    "\n",
    "# 建立感兴趣的用户索引倒排\n",
    "wait_rec_list = np.argsort(-movie2user_rec).tolist()"
   ]
  },
  {
   "cell_type": "code",
   "execution_count": 28,
   "metadata": {},
   "outputs": [],
   "source": [
    "# 找出看过此商品的用户 id\n",
    "item_known_users_int =  train_df[train_df['item_int'] == movie_int]['uid_int'].unique().tolist()"
   ]
  },
  {
   "cell_type": "markdown",
   "metadata": {},
   "source": [
    "推荐候选集合过滤，得出最终的 Push 用户列表。"
   ]
  },
  {
   "cell_type": "code",
   "execution_count": 29,
   "metadata": {},
   "outputs": [
    {
     "data": {
      "text/plain": [
       "[764, 748, 737, 813, 200, 1285, 212, 750, 1276, 1077, 990]"
      ]
     },
     "execution_count": 29,
     "metadata": {},
     "output_type": "execute_result"
    }
   ],
   "source": [
    "push_topk = 10\n",
    "push_result = []\n",
    "count = 0\n",
    "# 增加早停\n",
    "for x in wait_rec_list:\n",
    "    if x not in item_known_users_int:\n",
    "        push_result.append(x)\n",
    "        count +=1\n",
    "        if count > push_topk:\n",
    "            break\n",
    "push_result"
   ]
  },
  {
   "cell_type": "markdown",
   "metadata": {},
   "source": [
    "打印待 Push 用户的信息。"
   ]
  },
  {
   "cell_type": "code",
   "execution_count": 30,
   "metadata": {},
   "outputs": [
    {
     "data": {
      "text/html": [
       "<div>\n",
       "<style scoped>\n",
       "    .dataframe tbody tr th:only-of-type {\n",
       "        vertical-align: middle;\n",
       "    }\n",
       "\n",
       "    .dataframe tbody tr th {\n",
       "        vertical-align: top;\n",
       "    }\n",
       "\n",
       "    .dataframe thead th {\n",
       "        text-align: right;\n",
       "    }\n",
       "</style>\n",
       "<table border=\"1\" class=\"dataframe\">\n",
       "  <thead>\n",
       "    <tr style=\"text-align: right;\">\n",
       "      <th></th>\n",
       "      <th>uid_int</th>\n",
       "      <th>User_Comment_Distribution</th>\n",
       "    </tr>\n",
       "  </thead>\n",
       "  <tbody>\n",
       "    <tr>\n",
       "      <th>201</th>\n",
       "      <td>200</td>\n",
       "      <td>75%19%6%</td>\n",
       "    </tr>\n",
       "    <tr>\n",
       "      <th>213</th>\n",
       "      <td>212</td>\n",
       "      <td>75%19%6%</td>\n",
       "    </tr>\n",
       "    <tr>\n",
       "      <th>743</th>\n",
       "      <td>737</td>\n",
       "      <td>72%25%3%</td>\n",
       "    </tr>\n",
       "    <tr>\n",
       "      <th>754</th>\n",
       "      <td>748</td>\n",
       "      <td>72%25%3%</td>\n",
       "    </tr>\n",
       "    <tr>\n",
       "      <th>756</th>\n",
       "      <td>750</td>\n",
       "      <td>72%25%3%</td>\n",
       "    </tr>\n",
       "  </tbody>\n",
       "</table>\n",
       "</div>"
      ],
      "text/plain": [
       "     uid_int User_Comment_Distribution\n",
       "201      200                  75%19%6%\n",
       "213      212                  75%19%6%\n",
       "743      737                  72%25%3%\n",
       "754      748                  72%25%3%\n",
       "756      750                  72%25%3%"
      ]
     },
     "execution_count": 30,
     "metadata": {},
     "output_type": "execute_result"
    }
   ],
   "source": [
    "item_rec_user = train_df.loc[train_df['uid_int'].isin(push_result)].drop_duplicates('uid_int', keep='first', inplace=False)[users_f]\n",
    "item_rec_user.head()"
   ]
  },
  {
   "cell_type": "markdown",
   "metadata": {},
   "source": [
    "### 相关用户推荐\n",
    "1. 相关用户推荐，找到用户相关的用户，挖掘用户的潜在兴趣。\n",
    "2. 增加平台和用户的交互。"
   ]
  },
  {
   "cell_type": "code",
   "execution_count": 31,
   "metadata": {},
   "outputs": [],
   "source": [
    "#  提取用户特征向量\n",
    "embedding_user, feature_user = csr_matrix(\n",
    "    model.user_embeddings), csr_matrix(users_features)\n",
    "\n",
    "# 用户特征提取\n",
    "user_inner_max = np.dot(feature_user, embedding_user)\n",
    "\n",
    "# 用户之间求得余弦相似度，容易因用户数量过大造成 MemoryError\n",
    "user_cosine_sim = cosine_similarity(user_inner_max)"
   ]
  },
  {
   "cell_type": "code",
   "execution_count": 32,
   "metadata": {},
   "outputs": [],
   "source": [
    "# 找到与查询电影最近余弦距离上的电影\n",
    "def sim_user_recommendations(user_name, cosine_sim, topk):\n",
    "    # 用户名转换唯一的 id\n",
    "    int_id = user_dict[user_name]\n",
    "    # 去除自身 id，建立倒排索引\n",
    "    sim_scores = sorted(\n",
    "        list(enumerate(cosine_sim[int_id])),\n",
    "        key=lambda x: x[1], reverse=True)[1:topk+1]\n",
    "    return sim_scores"
   ]
  },
  {
   "cell_type": "markdown",
   "metadata": {},
   "source": [
    "假设当前的用户。"
   ]
  },
  {
   "cell_type": "code",
   "execution_count": 36,
   "metadata": {},
   "outputs": [
    {
     "data": {
      "text/html": [
       "<div>\n",
       "<style scoped>\n",
       "    .dataframe tbody tr th:only-of-type {\n",
       "        vertical-align: middle;\n",
       "    }\n",
       "\n",
       "    .dataframe tbody tr th {\n",
       "        vertical-align: top;\n",
       "    }\n",
       "\n",
       "    .dataframe thead th {\n",
       "        text-align: right;\n",
       "    }\n",
       "</style>\n",
       "<table border=\"1\" class=\"dataframe\">\n",
       "  <thead>\n",
       "    <tr style=\"text-align: right;\">\n",
       "      <th></th>\n",
       "      <th>ID</th>\n",
       "      <th>Movie_Name</th>\n",
       "      <th>Movie_Score</th>\n",
       "      <th>Review_Count</th>\n",
       "      <th>Movie_Star_Distribution</th>\n",
       "      <th>Collect_Date</th>\n",
       "      <th>Username</th>\n",
       "      <th>Post_Date</th>\n",
       "      <th>Score</th>\n",
       "      <th>User_Comment</th>\n",
       "      <th>User_Comment_Distribution</th>\n",
       "      <th>Comment_Like_Count</th>\n",
       "      <th>Movie_Tags</th>\n",
       "      <th>uid_int</th>\n",
       "      <th>item_int</th>\n",
       "      <th>items_features</th>\n",
       "      <th>users_features</th>\n",
       "    </tr>\n",
       "  </thead>\n",
       "  <tbody>\n",
       "    <tr>\n",
       "      <th>0</th>\n",
       "      <td>0</td>\n",
       "      <td>1988年的妮可 Nico, 1988</td>\n",
       "      <td>7.5</td>\n",
       "      <td>565</td>\n",
       "      <td>15.2%48.2%32.3%3.4%0.8%</td>\n",
       "      <td>2019-10-05</td>\n",
       "      <td>尾黑</td>\n",
       "      <td>2018-06-23</td>\n",
       "      <td>3</td>\n",
       "      <td>成本低廉的PPT电影，用Nico生命中最后一年发生的事给Nico的歌配上情节，倒不算尴尬。女...</td>\n",
       "      <td>66%31%3%</td>\n",
       "      <td>4</td>\n",
       "      <td>['音乐', '电影', '儿子', '丝绒', '人物', '传记', '传记片', '歌...</td>\n",
       "      <td>0</td>\n",
       "      <td>0</td>\n",
       "      <td>(0, [7.5, 565.0, 0.0])</td>\n",
       "      <td>(0, [0, 66%31%3%])</td>\n",
       "    </tr>\n",
       "  </tbody>\n",
       "</table>\n",
       "</div>"
      ],
      "text/plain": [
       "   ID           Movie_Name  Movie_Score  Review_Count  \\\n",
       "0   0  1988年的妮可 Nico, 1988          7.5           565   \n",
       "\n",
       "   Movie_Star_Distribution Collect_Date Username   Post_Date  Score  \\\n",
       "0  15.2%48.2%32.3%3.4%0.8%   2019-10-05       尾黑  2018-06-23      3   \n",
       "\n",
       "                                        User_Comment  \\\n",
       "0  成本低廉的PPT电影，用Nico生命中最后一年发生的事给Nico的歌配上情节，倒不算尴尬。女...   \n",
       "\n",
       "  User_Comment_Distribution  Comment_Like_Count  \\\n",
       "0                  66%31%3%                   4   \n",
       "\n",
       "                                          Movie_Tags  uid_int  item_int  \\\n",
       "0  ['音乐', '电影', '儿子', '丝绒', '人物', '传记', '传记片', '歌...        0         0   \n",
       "\n",
       "           items_features      users_features  \n",
       "0  (0, [7.5, 565.0, 0.0])  (0, [0, 66%31%3%])  "
      ]
     },
     "execution_count": 36,
     "metadata": {},
     "output_type": "execute_result"
    }
   ],
   "source": [
    "# 直接使用 Username 作为当前用户名\n",
    "\n",
    "train_df.loc[train_df['Username'].isin([Username])].drop_duplicates(\n",
    "    'uid_int', keep='first', inplace=False).head()"
   ]
  },
  {
   "cell_type": "markdown",
   "metadata": {},
   "source": [
    "找到 topk 个相关用户。"
   ]
  },
  {
   "cell_type": "code",
   "execution_count": 37,
   "metadata": {},
   "outputs": [
    {
     "data": {
      "text/plain": [
       "[6953, 7161, 6711, 7041, 7924]"
      ]
     },
     "execution_count": 37,
     "metadata": {},
     "output_type": "execute_result"
    }
   ],
   "source": [
    "topk = 5\n",
    "sim_user_list = [i[0] for i in sim_user_recommendations(user_name, user_cosine_sim, topk)]\n",
    "sim_user_list"
   ]
  },
  {
   "cell_type": "code",
   "execution_count": 38,
   "metadata": {},
   "outputs": [
    {
     "data": {
      "text/html": [
       "<div>\n",
       "<style scoped>\n",
       "    .dataframe tbody tr th:only-of-type {\n",
       "        vertical-align: middle;\n",
       "    }\n",
       "\n",
       "    .dataframe tbody tr th {\n",
       "        vertical-align: top;\n",
       "    }\n",
       "\n",
       "    .dataframe thead th {\n",
       "        text-align: right;\n",
       "    }\n",
       "</style>\n",
       "<table border=\"1\" class=\"dataframe\">\n",
       "  <thead>\n",
       "    <tr style=\"text-align: right;\">\n",
       "      <th></th>\n",
       "      <th>Username</th>\n",
       "      <th>User_Comment_Distribution</th>\n",
       "    </tr>\n",
       "  </thead>\n",
       "  <tbody>\n",
       "    <tr>\n",
       "      <th>7272</th>\n",
       "      <td>宇宙电影患者</td>\n",
       "      <td>44%44%12%</td>\n",
       "    </tr>\n",
       "    <tr>\n",
       "      <th>7561</th>\n",
       "      <td>根本英俊石小叔</td>\n",
       "      <td>44%44%12%</td>\n",
       "    </tr>\n",
       "    <tr>\n",
       "      <th>7674</th>\n",
       "      <td>冥王星的灯笼裤</td>\n",
       "      <td>44%44%12%</td>\n",
       "    </tr>\n",
       "    <tr>\n",
       "      <th>7829</th>\n",
       "      <td>请叫我王老师</td>\n",
       "      <td>44%44%12%</td>\n",
       "    </tr>\n",
       "    <tr>\n",
       "      <th>8685</th>\n",
       "      <td>林潮</td>\n",
       "      <td>44%44%12%</td>\n",
       "    </tr>\n",
       "  </tbody>\n",
       "</table>\n",
       "</div>"
      ],
      "text/plain": [
       "     Username User_Comment_Distribution\n",
       "7272   宇宙电影患者                 44%44%12%\n",
       "7561  根本英俊石小叔                 44%44%12%\n",
       "7674  冥王星的灯笼裤                 44%44%12%\n",
       "7829   请叫我王老师                 44%44%12%\n",
       "8685       林潮                 44%44%12%"
      ]
     },
     "execution_count": 38,
     "metadata": {},
     "output_type": "execute_result"
    }
   ],
   "source": [
    "sim_user_result = train_df.loc[train_df['uid_int'].isin(sim_user_list)].drop_duplicates('uid_int', keep='first', inplace=False)\n",
    "\n",
    "# todo：可以添加优质用户筛选策略\n",
    "# Threshold \n",
    "# sim_user_result = sim_user_result[sim_user_result['User_level'] >= Threshold]\n",
    "\n",
    "# 显示相关用户结果\n",
    "sim_user_result.head()[['Username','User_Comment_Distribution']]"
   ]
  },
  {
   "cell_type": "code",
   "execution_count": null,
   "metadata": {},
   "outputs": [],
   "source": []
  }
 ],
 "metadata": {
  "kernelspec": {
   "display_name": "p3venv",
   "language": "python",
   "name": "p3venv"
  },
  "language_info": {
   "codemirror_mode": {
    "name": "ipython",
    "version": 3
   },
   "file_extension": ".py",
   "mimetype": "text/x-python",
   "name": "python",
   "nbconvert_exporter": "python",
   "pygments_lexer": "ipython3",
   "version": "3.6.10"
  },
  "toc": {
   "base_numbering": 1,
   "nav_menu": {},
   "number_sections": true,
   "sideBar": true,
   "skip_h1_title": false,
   "title_cell": "Table of Contents",
   "title_sidebar": "Contents",
   "toc_cell": false,
   "toc_position": {},
   "toc_section_display": true,
   "toc_window_display": false
  }
 },
 "nbformat": 4,
 "nbformat_minor": 4
}
