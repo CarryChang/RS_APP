{
 "cells": [
  {
   "cell_type": "code",
   "execution_count": null,
   "metadata": {},
   "outputs": [],
   "source": [
    "import pandas as pd"
   ]
  },
  {
   "cell_type": "code",
   "execution_count": null,
   "metadata": {},
   "outputs": [],
   "source": [
    "data_path = 'Data/Douban_movies_rs.csv'\n",
    "\n",
    "ratings_explicit = pd.read_csv(data_path)\n",
    "ratings_explicit.head(1)"
   ]
  },
  {
   "cell_type": "code",
   "execution_count": null,
   "metadata": {},
   "outputs": [],
   "source": [
    "ratings_explicit.shape"
   ]
  },
  {
   "cell_type": "markdown",
   "metadata": {},
   "source": [
    "数据属性简介。"
   ]
  },
  {
   "cell_type": "markdown",
   "metadata": {},
   "source": [
    "|  属性  |                  描述    |\n",
    "|:------:|:--------------------------------------:|\n",
    "| `ID` | 自增字段 |\n",
    "| `Movie_Name` | 电影名 |\n",
    "| `Movie_Score` | 电影总体评分 |\n",
    "| `Review_Count`  | 评论量统计 |\n",
    "| `Movie_Star_Distribution` | 电影的评分分布 |\n",
    "| `Collect_Date` |  数据收集时间 |\n",
    "| `Username` | 用户昵称 |\n",
    "| `Post_Date` | 评论发表日期 |\n",
    "| `Score` | 用户评分 |\n",
    "| `User_Comment` | 用户评论 |\n",
    "| `User_Comment_Distribution` | 用户评分情况 |\n",
    "| `Comment_Like_Count` | 用户评论点赞量 |"
   ]
  },
  {
   "cell_type": "markdown",
   "metadata": {},
   "source": [
    "#### 数据 EDA "
   ]
  },
  {
   "cell_type": "markdown",
   "metadata": {},
   "source": [
    "按照电影名个用户名字进行去重，并保留首次出现的数据。"
   ]
  },
  {
   "cell_type": "code",
   "execution_count": null,
   "metadata": {},
   "outputs": [],
   "source": [
    "ratings_explicit.drop_duplicates(\n",
    "    subset=['Movie_Name', 'Username'], keep='first', inplace=True)"
   ]
  },
  {
   "cell_type": "markdown",
   "metadata": {},
   "source": [
    "查看数据统计描述。"
   ]
  },
  {
   "cell_type": "code",
   "execution_count": null,
   "metadata": {},
   "outputs": [],
   "source": [
    "ratings_explicit.describe()"
   ]
  },
  {
   "cell_type": "markdown",
   "metadata": {},
   "source": [
    "查看数据结构。"
   ]
  },
  {
   "cell_type": "code",
   "execution_count": null,
   "metadata": {},
   "outputs": [],
   "source": [
    "ratings_explicit.info()"
   ]
  },
  {
   "cell_type": "markdown",
   "metadata": {},
   "source": [
    "查看总体用户数量。"
   ]
  },
  {
   "cell_type": "code",
   "execution_count": null,
   "metadata": {},
   "outputs": [],
   "source": [
    "len(ratings_explicit.Username.unique())"
   ]
  },
  {
   "cell_type": "markdown",
   "metadata": {},
   "source": [
    "查看总体电影数量。"
   ]
  },
  {
   "cell_type": "code",
   "execution_count": null,
   "metadata": {},
   "outputs": [],
   "source": [
    "len(ratings_explicit.Movie_Name.unique())"
   ]
  },
  {
   "cell_type": "markdown",
   "metadata": {},
   "source": [
    "统计观看电影最多的 topk 的用户。"
   ]
  },
  {
   "cell_type": "code",
   "execution_count": null,
   "metadata": {},
   "outputs": [],
   "source": [
    "topk = 10\n",
    "ratings_explicit['Username'].value_counts()[:topk]"
   ]
  },
  {
   "cell_type": "markdown",
   "metadata": {},
   "source": [
    "查看前 topk 个用户的观影分布。"
   ]
  },
  {
   "cell_type": "code",
   "execution_count": null,
   "metadata": {},
   "outputs": [],
   "source": [
    "import matplotlib.pyplot as plt\n",
    "import seaborn as sns\n",
    "%matplotlib inline"
   ]
  },
  {
   "cell_type": "code",
   "execution_count": null,
   "metadata": {},
   "outputs": [],
   "source": [
    "topk = 100\n",
    "number_count = ratings_explicit['Username'].value_counts()\n",
    "plt.bar(range(len(number_count[:topk])), number_count[:topk])\n",
    "plt.show()"
   ]
  },
  {
   "cell_type": "markdown",
   "metadata": {},
   "source": [
    "统计观看人数 topk 的电影。"
   ]
  },
  {
   "cell_type": "code",
   "execution_count": null,
   "metadata": {},
   "outputs": [],
   "source": [
    "topk = 10\n",
    "ratings_explicit['Movie_Name'].value_counts()[:topk]"
   ]
  },
  {
   "cell_type": "markdown",
   "metadata": {},
   "source": [
    "#### 数据可视化"
   ]
  },
  {
   "cell_type": "markdown",
   "metadata": {},
   "source": [
    "用户对电影的打分情况。"
   ]
  },
  {
   "cell_type": "code",
   "execution_count": null,
   "metadata": {},
   "outputs": [],
   "source": [
    "sns.countplot(data=ratings_explicit, x='Score')\n",
    "plt.show()"
   ]
  },
  {
   "cell_type": "markdown",
   "metadata": {},
   "source": [
    "提取用户评价时间和统计信息。"
   ]
  },
  {
   "cell_type": "code",
   "execution_count": null,
   "metadata": {},
   "outputs": [],
   "source": [
    "post_time, post_count = [], []\n",
    "\n",
    "for i in ratings_explicit['Post_Date'].groupby(\n",
    "        ratings_explicit['Post_Date']).count().items():\n",
    "    # 取出时间标签\n",
    "    post_time.append(i[0])\n",
    "    # 取出计数信息\n",
    "    post_count.append(i[1])"
   ]
  },
  {
   "cell_type": "markdown",
   "metadata": {},
   "source": [
    "##### 用户评论时间序列"
   ]
  },
  {
   "cell_type": "markdown",
   "metadata": {},
   "source": [
    "使用折线图对用户评论时间进行可视化。"
   ]
  },
  {
   "cell_type": "code",
   "execution_count": null,
   "metadata": {},
   "outputs": [],
   "source": [
    "!pip install pyecharts==1.6.2"
   ]
  },
  {
   "cell_type": "code",
   "execution_count": null,
   "metadata": {},
   "outputs": [],
   "source": [
    "from pyecharts.charts import Line\n",
    "from pyecharts import options as opts\n",
    "\n",
    "# 加载图的配置，长宽的参数设置\n",
    "line = Line(init_opts=opts.InitOpts(width='660px', height='350px'))\n",
    "\n",
    "# 设置横坐标为时间\n",
    "line.add_xaxis(post_time)\n",
    "\n",
    "# 设置纵坐标为用户评论条数\n",
    "line.add_yaxis(\"\", post_count)\n",
    "\n",
    "# 设置标题\n",
    "line.set_global_opts(title_opts=opts.TitleOpts(title='用户评论时间序列图'))\n",
    "\n",
    "# 设置显示统计量\n",
    "line.set_series_opts(label_opts=opts.LabelOpts(is_show=True), )\n",
    "line.render_notebook()"
   ]
  },
  {
   "cell_type": "markdown",
   "metadata": {},
   "source": [
    "##### 用户评论关键词云"
   ]
  },
  {
   "cell_type": "code",
   "execution_count": null,
   "metadata": {},
   "outputs": [],
   "source": [
    "from jieba import analyse\n",
    "\n",
    "# 默认提取前 20 个关键词\n",
    "def get_key_words(comment, topK=20):\n",
    "    return analyse.textrank(comment, topK, withWeight=False, allowPOS=('n'))"
   ]
  },
  {
   "cell_type": "code",
   "execution_count": null,
   "metadata": {},
   "outputs": [],
   "source": [
    "# 使用测试样例进行测试。\n",
    "comment = '电影院环境不错'\n",
    "get_key_words(comment)"
   ]
  },
  {
   "cell_type": "markdown",
   "metadata": {},
   "source": [
    "提取影评中的 topK 关键词，数据量有些大，请耐心等待。"
   ]
  },
  {
   "cell_type": "code",
   "execution_count": null,
   "metadata": {},
   "outputs": [],
   "source": [
    "from tqdm.notebook import tqdm\n",
    "\n",
    "keys_words_list = []\n",
    "for comment in tqdm(ratings_explicit['User_Comment']):\n",
    "    keys_words_list += get_key_words(comment)"
   ]
  },
  {
   "cell_type": "code",
   "execution_count": null,
   "metadata": {},
   "outputs": [],
   "source": [
    "# 加载词频统计模块\n",
    "from sklearn.feature_extraction.text import CountVectorizer\n",
    "\n",
    "# 设定 topn 的高频词语阈值，可以根据需要进行改变大小\n",
    "topn = 500\n",
    "\n",
    "# 加载统计模块\n",
    "count_extract = CountVectorizer(max_features=topn)\n",
    "\n",
    "# 开始对语料进行统计\n",
    "count_extract.fit_transform(keys_words_list)\n",
    "\n",
    "# 输入数据中的每一个词为（word，value）这样的元祖形式，然后将所有的词放入一个list中\n",
    "comment_count_pair = [(k, int(v))\n",
    "                      for k, v in count_extract.vocabulary_.items()]"
   ]
  },
  {
   "cell_type": "code",
   "execution_count": null,
   "metadata": {
    "scrolled": false
   },
   "outputs": [],
   "source": [
    "# 加载词云模块\n",
    "from pyecharts.charts import WordCloud\n",
    "\n",
    "comment_wordcloud = WordCloud()\n",
    "\n",
    "# word_size_range 表示词语大小范围，可以根据需要改变\n",
    "comment_wordcloud.add(series_name=\"\",\n",
    "                      data_pair=comment_count_pair,\n",
    "                      word_size_range=[5, 100])\n",
    "\n",
    "# 设置词云的全局配置\n",
    "comment_wordcloud.set_global_opts(\n",
    "    title_opts=opts.TitleOpts(\n",
    "        title=\"用户评论关键词云分析\",\n",
    "        # 设置标题文字大小\n",
    "        title_textstyle_opts=opts.TextStyleOpts(font_size=15)),\n",
    "    # 显示词云中的词频数字\n",
    "    tooltip_opts=opts.TooltipOpts(is_show=True),)\n",
    "\n",
    "# 直接在 notebook 中显示词云\n",
    "comment_wordcloud.render_notebook()"
   ]
  },
  {
   "cell_type": "markdown",
   "metadata": {},
   "source": [
    "根据用户评论对电影进行标签化。"
   ]
  },
  {
   "cell_type": "code",
   "execution_count": null,
   "metadata": {},
   "outputs": [],
   "source": [
    "ratings_explicit.head(1)"
   ]
  },
  {
   "cell_type": "code",
   "execution_count": null,
   "metadata": {},
   "outputs": [],
   "source": [
    "movie_list = ratings_explicit['Movie_Name'].unique()\n",
    "movie_list[0]"
   ]
  },
  {
   "cell_type": "markdown",
   "metadata": {},
   "source": [
    "批量从用户评论中提取电影关键词。"
   ]
  },
  {
   "cell_type": "code",
   "execution_count": null,
   "metadata": {},
   "outputs": [],
   "source": [
    "movie_map = dict()\n",
    "for movie_name in tqdm(movie_list):\n",
    "    comment_text = ratings_explicit[ratings_explicit['Movie_Name']==movie_name]['User_Comment'].values\n",
    "    # 构建电影关键词标签\n",
    "    movie_map[movie_name] = get_key_words(str(comment_text))"
   ]
  },
  {
   "cell_type": "markdown",
   "metadata": {},
   "source": [
    "为电影打上用户评价标签。"
   ]
  },
  {
   "cell_type": "code",
   "execution_count": null,
   "metadata": {},
   "outputs": [],
   "source": [
    "ratings_explicit['Movie_Tags'] = ratings_explicit['Movie_Name'].apply(lambda x : movie_map[x])\n",
    "ratings_explicit.head(1)"
   ]
  },
  {
   "cell_type": "markdown",
   "metadata": {},
   "source": [
    "对处理好的数据进行存储。"
   ]
  },
  {
   "cell_type": "code",
   "execution_count": null,
   "metadata": {},
   "outputs": [],
   "source": [
    "ratings_explicit.to_csv('Data/New_Movie_RS.csv',index=False)"
   ]
  },
  {
   "cell_type": "code",
   "execution_count": null,
   "metadata": {},
   "outputs": [],
   "source": []
  }
 ],
 "metadata": {
  "kernelspec": {
   "display_name": "p3venv",
   "language": "python",
   "name": "p3venv"
  },
  "language_info": {
   "codemirror_mode": {
    "name": "ipython",
    "version": 3
   },
   "file_extension": ".py",
   "mimetype": "text/x-python",
   "name": "python",
   "nbconvert_exporter": "python",
   "pygments_lexer": "ipython3",
   "version": "3.6.10"
  },
  "toc": {
   "base_numbering": 1,
   "nav_menu": {},
   "number_sections": true,
   "sideBar": true,
   "skip_h1_title": false,
   "title_cell": "Table of Contents",
   "title_sidebar": "Contents",
   "toc_cell": false,
   "toc_position": {},
   "toc_section_display": true,
   "toc_window_display": false
  }
 },
 "nbformat": 4,
 "nbformat_minor": 4
}
