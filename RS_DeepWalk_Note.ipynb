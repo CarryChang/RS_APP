{
 "cells": [
  {
   "cell_type": "markdown",
   "metadata": {},
   "source": [
    "数据加载"
   ]
  },
  {
   "cell_type": "code",
   "execution_count": 1,
   "metadata": {
    "scrolled": true
   },
   "outputs": [
    {
     "name": "stdout",
     "output_type": "stream",
     "text": [
      "(10000, 13)\n"
     ]
    },
    {
     "data": {
      "text/html": [
       "<div>\n",
       "<style scoped>\n",
       "    .dataframe tbody tr th:only-of-type {\n",
       "        vertical-align: middle;\n",
       "    }\n",
       "\n",
       "    .dataframe tbody tr th {\n",
       "        vertical-align: top;\n",
       "    }\n",
       "\n",
       "    .dataframe thead th {\n",
       "        text-align: right;\n",
       "    }\n",
       "</style>\n",
       "<table border=\"1\" class=\"dataframe\">\n",
       "  <thead>\n",
       "    <tr style=\"text-align: right;\">\n",
       "      <th></th>\n",
       "      <th>ID</th>\n",
       "      <th>Movie_Name</th>\n",
       "      <th>Movie_Score</th>\n",
       "      <th>Review_Count</th>\n",
       "      <th>Movie_Star_Distribution</th>\n",
       "      <th>Collect_Date</th>\n",
       "      <th>Username</th>\n",
       "      <th>Post_Date</th>\n",
       "      <th>Score</th>\n",
       "      <th>User_Comment</th>\n",
       "      <th>User_Comment_Distribution</th>\n",
       "      <th>Comment_Like_Count</th>\n",
       "      <th>Movie_Tags</th>\n",
       "    </tr>\n",
       "  </thead>\n",
       "  <tbody>\n",
       "    <tr>\n",
       "      <th>0</th>\n",
       "      <td>0</td>\n",
       "      <td>1988年的妮可 Nico, 1988</td>\n",
       "      <td>7.5</td>\n",
       "      <td>565</td>\n",
       "      <td>15.2%48.2%32.3%3.4%0.8%</td>\n",
       "      <td>2019-10-05</td>\n",
       "      <td>尾黑</td>\n",
       "      <td>2018-06-23</td>\n",
       "      <td>3</td>\n",
       "      <td>成本低廉的PPT电影，用Nico生命中最后一年发生的事给Nico的歌配上情节，倒不算尴尬。女...</td>\n",
       "      <td>66%31%3%</td>\n",
       "      <td>4</td>\n",
       "      <td>['音乐', '电影', '儿子', '丝绒', '人物', '传记', '传记片', '歌...</td>\n",
       "    </tr>\n",
       "  </tbody>\n",
       "</table>\n",
       "</div>"
      ],
      "text/plain": [
       "   ID           Movie_Name  Movie_Score  Review_Count  \\\n",
       "0   0  1988年的妮可 Nico, 1988          7.5           565   \n",
       "\n",
       "   Movie_Star_Distribution Collect_Date Username   Post_Date  Score  \\\n",
       "0  15.2%48.2%32.3%3.4%0.8%   2019-10-05       尾黑  2018-06-23      3   \n",
       "\n",
       "                                        User_Comment  \\\n",
       "0  成本低廉的PPT电影，用Nico生命中最后一年发生的事给Nico的歌配上情节，倒不算尴尬。女...   \n",
       "\n",
       "  User_Comment_Distribution  Comment_Like_Count  \\\n",
       "0                  66%31%3%                   4   \n",
       "\n",
       "                                          Movie_Tags  \n",
       "0  ['音乐', '电影', '儿子', '丝绒', '人物', '传记', '传记片', '歌...  "
      ]
     },
     "execution_count": 1,
     "metadata": {},
     "output_type": "execute_result"
    }
   ],
   "source": [
    "import pandas as pd\n",
    "\n",
    "# demo 验证\n",
    "train_df = pd.read_csv('Data/Movie_RS.csv')\n",
    "print(train_df.shape)\n",
    "train_df.head(1)"
   ]
  },
  {
   "cell_type": "markdown",
   "metadata": {},
   "source": [
    "#### 数据预处理"
   ]
  },
  {
   "cell_type": "code",
   "execution_count": 2,
   "metadata": {},
   "outputs": [
    {
     "name": "stdout",
     "output_type": "stream",
     "text": [
      "<class 'pandas.core.frame.DataFrame'>\n",
      "Int64Index: 9999 entries, 0 to 9999\n",
      "Data columns (total 13 columns):\n",
      "ID                           9999 non-null int64\n",
      "Movie_Name                   9999 non-null object\n",
      "Movie_Score                  9999 non-null float64\n",
      "Review_Count                 9999 non-null int64\n",
      "Movie_Star_Distribution      9999 non-null object\n",
      "Collect_Date                 9999 non-null object\n",
      "Username                     9999 non-null object\n",
      "Post_Date                    9999 non-null object\n",
      "Score                        9999 non-null int64\n",
      "User_Comment                 9999 non-null object\n",
      "User_Comment_Distribution    9999 non-null object\n",
      "Comment_Like_Count           9999 non-null int64\n",
      "Movie_Tags                   9999 non-null object\n",
      "dtypes: float64(1), int64(4), object(8)\n",
      "memory usage: 1.1+ MB\n"
     ]
    }
   ],
   "source": [
    "# 去除空值\n",
    "train_df.dropna(axis=0, how='any', inplace=True)\n",
    "\n",
    "# 两列去除重复\n",
    "train_df.drop_duplicates(\n",
    "    subset=['Movie_Name', 'Username'], keep='first', inplace=True)\n",
    "\n",
    "train_df.info()"
   ]
  },
  {
   "cell_type": "markdown",
   "metadata": {},
   "source": [
    "### 数据预处理"
   ]
  },
  {
   "cell_type": "code",
   "execution_count": 3,
   "metadata": {},
   "outputs": [],
   "source": [
    "# 建立用户名和 id 映射的字典\n",
    "user_dict = {}\n",
    "for index, value in enumerate(train_df['Username'].unique()):\n",
    "    user_dict[value] = index\n",
    "train_df['uid_int'] = train_df['Username'].apply(lambda x: user_dict[x])\n",
    "\n",
    "# 字典翻转\n",
    "reverse_user_dict = {v: k for k, v in user_dict.items()}\n",
    "\n",
    "# 建立电影名和 id 映射的字典\n",
    "item_dict = {}\n",
    "for index, value in enumerate(train_df['Movie_Name'].unique()):\n",
    "    item_dict[value] = index\n",
    "train_df['item_int'] = train_df['Movie_Name'].apply(lambda x: item_dict[x])\n",
    "\n",
    "# 字典翻转\n",
    "reverse_item_dict = {v: k for k, v in item_dict.items()}"
   ]
  },
  {
   "cell_type": "markdown",
   "metadata": {},
   "source": [
    "#### 设置电影和用户特征"
   ]
  },
  {
   "cell_type": "code",
   "execution_count": 4,
   "metadata": {},
   "outputs": [],
   "source": [
    "# 电影特征\n",
    "items_f = ['Movie_Score', 'Review_Count', 'item_int', 'Movie_Name']\n",
    "\n",
    "# 用户特征\n",
    "users_f = ['uid_int']"
   ]
  },
  {
   "cell_type": "markdown",
   "metadata": {},
   "source": [
    "#### 数据划分"
   ]
  },
  {
   "cell_type": "markdown",
   "metadata": {},
   "source": [
    "用户交互表划分"
   ]
  },
  {
   "cell_type": "code",
   "execution_count": 5,
   "metadata": {
    "scrolled": true
   },
   "outputs": [
    {
     "data": {
      "text/plain": [
       "(9999, 4)"
      ]
     },
     "execution_count": 5,
     "metadata": {},
     "output_type": "execute_result"
    }
   ],
   "source": [
    "user_post_event = train_df[['uid_int', 'item_int', 'Score', 'Post_Date']]\n",
    "user_post_event.shape"
   ]
  },
  {
   "cell_type": "code",
   "execution_count": 6,
   "metadata": {},
   "outputs": [
    {
     "data": {
      "text/html": [
       "<div>\n",
       "<style scoped>\n",
       "    .dataframe tbody tr th:only-of-type {\n",
       "        vertical-align: middle;\n",
       "    }\n",
       "\n",
       "    .dataframe tbody tr th {\n",
       "        vertical-align: top;\n",
       "    }\n",
       "\n",
       "    .dataframe thead th {\n",
       "        text-align: right;\n",
       "    }\n",
       "</style>\n",
       "<table border=\"1\" class=\"dataframe\">\n",
       "  <thead>\n",
       "    <tr style=\"text-align: right;\">\n",
       "      <th></th>\n",
       "      <th>uid_int</th>\n",
       "      <th>item_int</th>\n",
       "      <th>Score</th>\n",
       "      <th>Post_Date</th>\n",
       "    </tr>\n",
       "  </thead>\n",
       "  <tbody>\n",
       "    <tr>\n",
       "      <th>4507</th>\n",
       "      <td>4298</td>\n",
       "      <td>12</td>\n",
       "      <td>3</td>\n",
       "      <td>2006-04-11</td>\n",
       "    </tr>\n",
       "    <tr>\n",
       "      <th>242</th>\n",
       "      <td>240</td>\n",
       "      <td>1</td>\n",
       "      <td>4</td>\n",
       "      <td>2006-02-03</td>\n",
       "    </tr>\n",
       "    <tr>\n",
       "      <th>3292</th>\n",
       "      <td>3150</td>\n",
       "      <td>9</td>\n",
       "      <td>4</td>\n",
       "      <td>2005-12-18</td>\n",
       "    </tr>\n",
       "    <tr>\n",
       "      <th>2072</th>\n",
       "      <td>2025</td>\n",
       "      <td>6</td>\n",
       "      <td>5</td>\n",
       "      <td>2005-10-13</td>\n",
       "    </tr>\n",
       "    <tr>\n",
       "      <th>204</th>\n",
       "      <td>203</td>\n",
       "      <td>1</td>\n",
       "      <td>2</td>\n",
       "      <td>2005-07-19</td>\n",
       "    </tr>\n",
       "  </tbody>\n",
       "</table>\n",
       "</div>"
      ],
      "text/plain": [
       "      uid_int  item_int  Score   Post_Date\n",
       "4507     4298        12      3  2006-04-11\n",
       "242       240         1      4  2006-02-03\n",
       "3292     3150         9      4  2005-12-18\n",
       "2072     2025         6      5  2005-10-13\n",
       "204       203         1      2  2005-07-19"
      ]
     },
     "execution_count": 6,
     "metadata": {},
     "output_type": "execute_result"
    }
   ],
   "source": [
    "# 时间排序,时间倒叙,最近的排在前面\n",
    "user_post_event = user_post_event.sort_values(by='Post_Date', ascending=False)\n",
    "# 查看最后几行数据\n",
    "user_post_event.tail()"
   ]
  },
  {
   "cell_type": "markdown",
   "metadata": {},
   "source": [
    "增加时间过滤，不需要很久远的数据。"
   ]
  },
  {
   "cell_type": "code",
   "execution_count": 7,
   "metadata": {},
   "outputs": [
    {
     "data": {
      "text/html": [
       "<div>\n",
       "<style scoped>\n",
       "    .dataframe tbody tr th:only-of-type {\n",
       "        vertical-align: middle;\n",
       "    }\n",
       "\n",
       "    .dataframe tbody tr th {\n",
       "        vertical-align: top;\n",
       "    }\n",
       "\n",
       "    .dataframe thead th {\n",
       "        text-align: right;\n",
       "    }\n",
       "</style>\n",
       "<table border=\"1\" class=\"dataframe\">\n",
       "  <thead>\n",
       "    <tr style=\"text-align: right;\">\n",
       "      <th></th>\n",
       "      <th>uid_int</th>\n",
       "      <th>item_int</th>\n",
       "      <th>Score</th>\n",
       "      <th>Post_Date</th>\n",
       "    </tr>\n",
       "  </thead>\n",
       "  <tbody>\n",
       "    <tr>\n",
       "      <th>8808</th>\n",
       "      <td>8021</td>\n",
       "      <td>22</td>\n",
       "      <td>4</td>\n",
       "      <td>2017-01-03</td>\n",
       "    </tr>\n",
       "    <tr>\n",
       "      <th>3915</th>\n",
       "      <td>3743</td>\n",
       "      <td>11</td>\n",
       "      <td>3</td>\n",
       "      <td>2017-01-03</td>\n",
       "    </tr>\n",
       "    <tr>\n",
       "      <th>4024</th>\n",
       "      <td>3849</td>\n",
       "      <td>11</td>\n",
       "      <td>4</td>\n",
       "      <td>2017-01-03</td>\n",
       "    </tr>\n",
       "    <tr>\n",
       "      <th>9797</th>\n",
       "      <td>8855</td>\n",
       "      <td>24</td>\n",
       "      <td>5</td>\n",
       "      <td>2017-01-02</td>\n",
       "    </tr>\n",
       "    <tr>\n",
       "      <th>2639</th>\n",
       "      <td>2540</td>\n",
       "      <td>8</td>\n",
       "      <td>5</td>\n",
       "      <td>2017-01-02</td>\n",
       "    </tr>\n",
       "  </tbody>\n",
       "</table>\n",
       "</div>"
      ],
      "text/plain": [
       "      uid_int  item_int  Score   Post_Date\n",
       "8808     8021        22      4  2017-01-03\n",
       "3915     3743        11      3  2017-01-03\n",
       "4024     3849        11      4  2017-01-03\n",
       "9797     8855        24      5  2017-01-02\n",
       "2639     2540         8      5  2017-01-02"
      ]
     },
     "execution_count": 7,
     "metadata": {},
     "output_type": "execute_result"
    }
   ],
   "source": [
    "Time_Threshold = '2017-01-01'\n",
    "\n",
    "# 直接对时间字段进行截断\n",
    "user_post_event = user_post_event[user_post_event['Post_Date']\n",
    "                                  > Time_Threshold]\n",
    "user_post_event.tail()"
   ]
  },
  {
   "cell_type": "code",
   "execution_count": 8,
   "metadata": {},
   "outputs": [
    {
     "data": {
      "text/plain": [
       "(2435, 4)"
      ]
     },
     "execution_count": 8,
     "metadata": {},
     "output_type": "execute_result"
    }
   ],
   "source": [
    "user_post_event.shape"
   ]
  },
  {
   "cell_type": "code",
   "execution_count": 9,
   "metadata": {
    "scrolled": true
   },
   "outputs": [
    {
     "data": {
      "text/plain": [
       "2323"
      ]
     },
     "execution_count": 9,
     "metadata": {},
     "output_type": "execute_result"
    }
   ],
   "source": [
    "# 找到每位用户的电影 id 序列\n",
    "raw_movies = [user_post_event[user_post_event['uid_int'] == i]['item_int'].unique(\n",
    ").tolist() for i in user_post_event['uid_int'].unique()]\n",
    "\n",
    "# 对电影评论序列进行 str 处理\n",
    "raw_id = []\n",
    "for r_list in raw_movies:\n",
    "    raw_id.append([str(i) for i in r_list])\n",
    "len(raw_id)"
   ]
  },
  {
   "cell_type": "markdown",
   "metadata": {},
   "source": [
    "### 基于用户评论的最近邻电影推荐"
   ]
  },
  {
   "cell_type": "code",
   "execution_count": 10,
   "metadata": {},
   "outputs": [
    {
     "name": "stdout",
     "output_type": "stream",
     "text": [
      "CPU times: user 28 ms, sys: 0 ns, total: 28 ms\n",
      "Wall time: 29.4 ms\n"
     ]
    }
   ],
   "source": [
    "from gensim import corpora, similarities\n",
    "from gensim.models import Word2Vec\n",
    "import multiprocessing\n",
    "\n",
    "# 模型训练\n",
    "%time model = Word2Vec(raw_id, window=3, size=300, workers=multiprocessing.cpu_count()*2, min_count=1)"
   ]
  },
  {
   "cell_type": "markdown",
   "metadata": {},
   "source": [
    "假设当前电影 id，并打印详细信息。"
   ]
  },
  {
   "cell_type": "code",
   "execution_count": 11,
   "metadata": {},
   "outputs": [
    {
     "data": {
      "text/html": [
       "<div>\n",
       "<style scoped>\n",
       "    .dataframe tbody tr th:only-of-type {\n",
       "        vertical-align: middle;\n",
       "    }\n",
       "\n",
       "    .dataframe tbody tr th {\n",
       "        vertical-align: top;\n",
       "    }\n",
       "\n",
       "    .dataframe thead th {\n",
       "        text-align: right;\n",
       "    }\n",
       "</style>\n",
       "<table border=\"1\" class=\"dataframe\">\n",
       "  <thead>\n",
       "    <tr style=\"text-align: right;\">\n",
       "      <th></th>\n",
       "      <th>Movie_Score</th>\n",
       "      <th>Review_Count</th>\n",
       "      <th>item_int</th>\n",
       "      <th>Movie_Name</th>\n",
       "    </tr>\n",
       "  </thead>\n",
       "  <tbody>\n",
       "    <tr>\n",
       "      <th>3679</th>\n",
       "      <td>7.9</td>\n",
       "      <td>4395</td>\n",
       "      <td>11</td>\n",
       "      <td>一轮明月</td>\n",
       "    </tr>\n",
       "  </tbody>\n",
       "</table>\n",
       "</div>"
      ],
      "text/plain": [
       "      Movie_Score  Review_Count  item_int Movie_Name\n",
       "3679          7.9          4395        11       一轮明月"
      ]
     },
     "execution_count": 11,
     "metadata": {},
     "output_type": "execute_result"
    }
   ],
   "source": [
    "movie_check = '11'\n",
    "train_df.loc[train_df['item_int'].isin([int(movie_check)])].drop_duplicates(\n",
    "    'item_int', keep='first', inplace=False)[items_f].head()"
   ]
  },
  {
   "cell_type": "markdown",
   "metadata": {},
   "source": [
    "通过建立的电影 id 向量，找到最近的 tokn 个电影。"
   ]
  },
  {
   "cell_type": "code",
   "execution_count": 12,
   "metadata": {},
   "outputs": [
    {
     "name": "stdout",
     "output_type": "stream",
     "text": [
      "CPU times: user 0 ns, sys: 0 ns, total: 0 ns\n",
      "Wall time: 704 µs\n"
     ]
    },
    {
     "data": {
      "text/plain": [
       "[1, 8, 7, 15, 0, 14, 17, 16, 23, 22]"
      ]
     },
     "execution_count": 12,
     "metadata": {},
     "output_type": "execute_result"
    }
   ],
   "source": [
    "topn = 10\n",
    "\n",
    "# 开始近邻检索\n",
    "%time ANN_List = [int(i[0]) for i in model.wv.most_similar(movie_check, topn=topn)]\n",
    "ANN_List"
   ]
  },
  {
   "cell_type": "markdown",
   "metadata": {},
   "source": [
    "打印近邻的电影信息。"
   ]
  },
  {
   "cell_type": "code",
   "execution_count": 13,
   "metadata": {},
   "outputs": [
    {
     "data": {
      "text/html": [
       "<div>\n",
       "<style scoped>\n",
       "    .dataframe tbody tr th:only-of-type {\n",
       "        vertical-align: middle;\n",
       "    }\n",
       "\n",
       "    .dataframe tbody tr th {\n",
       "        vertical-align: top;\n",
       "    }\n",
       "\n",
       "    .dataframe thead th {\n",
       "        text-align: right;\n",
       "    }\n",
       "</style>\n",
       "<table border=\"1\" class=\"dataframe\">\n",
       "  <thead>\n",
       "    <tr style=\"text-align: right;\">\n",
       "      <th></th>\n",
       "      <th>Movie_Score</th>\n",
       "      <th>Review_Count</th>\n",
       "      <th>item_int</th>\n",
       "      <th>Movie_Name</th>\n",
       "    </tr>\n",
       "  </thead>\n",
       "  <tbody>\n",
       "    <tr>\n",
       "      <th>159</th>\n",
       "      <td>7.9</td>\n",
       "      <td>1509</td>\n",
       "      <td>1</td>\n",
       "      <td>24小时狂欢派对 24 Hour Party People</td>\n",
       "    </tr>\n",
       "    <tr>\n",
       "      <th>2364</th>\n",
       "      <td>8.1</td>\n",
       "      <td>2483</td>\n",
       "      <td>8</td>\n",
       "      <td>一年级生 The First Grader</td>\n",
       "    </tr>\n",
       "    <tr>\n",
       "      <th>5394</th>\n",
       "      <td>9.3</td>\n",
       "      <td>1010</td>\n",
       "      <td>15</td>\n",
       "      <td>三个臭皮匠 The Three Stooges</td>\n",
       "    </tr>\n",
       "    <tr>\n",
       "      <th>5992</th>\n",
       "      <td>7.6</td>\n",
       "      <td>550</td>\n",
       "      <td>17</td>\n",
       "      <td>上帝的使者 الرسالة</td>\n",
       "    </tr>\n",
       "    <tr>\n",
       "      <th>8811</th>\n",
       "      <td>8.0</td>\n",
       "      <td>3581</td>\n",
       "      <td>23</td>\n",
       "      <td>不朽真情 Immortal Beloved</td>\n",
       "    </tr>\n",
       "  </tbody>\n",
       "</table>\n",
       "</div>"
      ],
      "text/plain": [
       "      Movie_Score  Review_Count  item_int                     Movie_Name\n",
       "159           7.9          1509         1  24小时狂欢派对 24 Hour Party People\n",
       "2364          8.1          2483         8          一年级生 The First Grader\n",
       "5394          9.3          1010        15        三个臭皮匠 The Three Stooges\n",
       "5992          7.6           550        17                  上帝的使者 الرسالة\n",
       "8811          8.0          3581        23          不朽真情 Immortal Beloved"
      ]
     },
     "execution_count": 13,
     "metadata": {},
     "output_type": "execute_result"
    }
   ],
   "source": [
    "ANN_List_Info = train_df.loc[train_df['item_int'].isin(\n",
    "    ANN_List)].drop_duplicates('item_int', keep='first', inplace=False)\n",
    "\n",
    "\n",
    "# 控制推荐质量，设置电影打分阈值 Threshold\n",
    "Threshold = 7.5\n",
    "ANN_List_Info = ANN_List_Info[ANN_List_Info['Movie_Score'] > Threshold]\n",
    "\n",
    "\n",
    "ANN_List_Info[items_f].head()"
   ]
  },
  {
   "cell_type": "markdown",
   "metadata": {},
   "source": [
    "#### 推广\n",
    "1. 用户电影之间的电影近邻推荐。\n",
    "2. 用户用户之间的用户近邻推荐。\n",
    "3. 将电影和用户的向量进行 inner dot 计算，形成用户个性化推荐和电影 push 推送。"
   ]
  },
  {
   "cell_type": "code",
   "execution_count": null,
   "metadata": {},
   "outputs": [],
   "source": []
  }
 ],
 "metadata": {
  "kernelspec": {
   "display_name": "p3venv",
   "language": "python",
   "name": "p3venv"
  },
  "language_info": {
   "codemirror_mode": {
    "name": "ipython",
    "version": 3
   },
   "file_extension": ".py",
   "mimetype": "text/x-python",
   "name": "python",
   "nbconvert_exporter": "python",
   "pygments_lexer": "ipython3",
   "version": "3.6.10"
  },
  "toc": {
   "base_numbering": 1,
   "nav_menu": {},
   "number_sections": true,
   "sideBar": true,
   "skip_h1_title": false,
   "title_cell": "Table of Contents",
   "title_sidebar": "Contents",
   "toc_cell": false,
   "toc_position": {},
   "toc_section_display": true,
   "toc_window_display": false
  }
 },
 "nbformat": 4,
 "nbformat_minor": 4
}
