{
 "cells": [
  {
   "cell_type": "markdown",
   "metadata": {},
   "source": [
    "数据加载"
   ]
  },
  {
   "cell_type": "code",
   "execution_count": 1,
   "metadata": {
    "scrolled": true
   },
   "outputs": [
    {
     "name": "stdout",
     "output_type": "stream",
     "text": [
      "(50000, 13)\n"
     ]
    },
    {
     "data": {
      "text/html": [
       "<div>\n",
       "<style scoped>\n",
       "    .dataframe tbody tr th:only-of-type {\n",
       "        vertical-align: middle;\n",
       "    }\n",
       "\n",
       "    .dataframe tbody tr th {\n",
       "        vertical-align: top;\n",
       "    }\n",
       "\n",
       "    .dataframe thead th {\n",
       "        text-align: right;\n",
       "    }\n",
       "</style>\n",
       "<table border=\"1\" class=\"dataframe\">\n",
       "  <thead>\n",
       "    <tr style=\"text-align: right;\">\n",
       "      <th></th>\n",
       "      <th>ID</th>\n",
       "      <th>Movie_Name</th>\n",
       "      <th>Movie_Score</th>\n",
       "      <th>Review_Count</th>\n",
       "      <th>Movie_Star_Distribution</th>\n",
       "      <th>Collect_Date</th>\n",
       "      <th>Username</th>\n",
       "      <th>Post_Date</th>\n",
       "      <th>Score</th>\n",
       "      <th>User_Comment</th>\n",
       "      <th>User_Comment_Distribution</th>\n",
       "      <th>Comment_Like_Count</th>\n",
       "      <th>Movie_Tags</th>\n",
       "    </tr>\n",
       "  </thead>\n",
       "  <tbody>\n",
       "    <tr>\n",
       "      <th>0</th>\n",
       "      <td>0</td>\n",
       "      <td>1988年的妮可 Nico, 1988</td>\n",
       "      <td>7.5</td>\n",
       "      <td>565</td>\n",
       "      <td>15.2%48.2%32.3%3.4%0.8%</td>\n",
       "      <td>2019-10-05</td>\n",
       "      <td>尾黑</td>\n",
       "      <td>2018-06-23</td>\n",
       "      <td>3</td>\n",
       "      <td>成本低廉的PPT电影，用Nico生命中最后一年发生的事给Nico的歌配上情节，倒不算尴尬。女...</td>\n",
       "      <td>66%31%3%</td>\n",
       "      <td>4</td>\n",
       "      <td>['音乐', '电影', '儿子', '丝绒', '人物', '传记', '传记片', '歌...</td>\n",
       "    </tr>\n",
       "  </tbody>\n",
       "</table>\n",
       "</div>"
      ],
      "text/plain": [
       "   ID           Movie_Name  Movie_Score  Review_Count  \\\n",
       "0   0  1988年的妮可 Nico, 1988          7.5           565   \n",
       "\n",
       "   Movie_Star_Distribution Collect_Date Username   Post_Date  Score  \\\n",
       "0  15.2%48.2%32.3%3.4%0.8%   2019-10-05       尾黑  2018-06-23      3   \n",
       "\n",
       "                                        User_Comment  \\\n",
       "0  成本低廉的PPT电影，用Nico生命中最后一年发生的事给Nico的歌配上情节，倒不算尴尬。女...   \n",
       "\n",
       "  User_Comment_Distribution  Comment_Like_Count  \\\n",
       "0                  66%31%3%                   4   \n",
       "\n",
       "                                          Movie_Tags  \n",
       "0  ['音乐', '电影', '儿子', '丝绒', '人物', '传记', '传记片', '歌...  "
      ]
     },
     "execution_count": 1,
     "metadata": {},
     "output_type": "execute_result"
    }
   ],
   "source": [
    "import pandas as pd\n",
    "\n",
    "# demo 验证\n",
    "train_df = pd.read_csv('Data/New_Movie_RS.csv')\n",
    "print(train_df.shape)\n",
    "train_df.head(1)"
   ]
  },
  {
   "cell_type": "markdown",
   "metadata": {},
   "source": [
    "#### 数据预处理"
   ]
  },
  {
   "cell_type": "code",
   "execution_count": 2,
   "metadata": {},
   "outputs": [
    {
     "name": "stdout",
     "output_type": "stream",
     "text": [
      "<class 'pandas.core.frame.DataFrame'>\n",
      "Int64Index: 49994 entries, 0 to 49999\n",
      "Data columns (total 13 columns):\n",
      "ID                           49994 non-null int64\n",
      "Movie_Name                   49994 non-null object\n",
      "Movie_Score                  49994 non-null float64\n",
      "Review_Count                 49994 non-null int64\n",
      "Movie_Star_Distribution      49994 non-null object\n",
      "Collect_Date                 49994 non-null object\n",
      "Username                     49994 non-null object\n",
      "Post_Date                    49994 non-null object\n",
      "Score                        49994 non-null int64\n",
      "User_Comment                 49994 non-null object\n",
      "User_Comment_Distribution    49994 non-null object\n",
      "Comment_Like_Count           49994 non-null int64\n",
      "Movie_Tags                   49994 non-null object\n",
      "dtypes: float64(1), int64(4), object(8)\n",
      "memory usage: 5.3+ MB\n"
     ]
    }
   ],
   "source": [
    "# 去除空值\n",
    "train_df.dropna(axis=0, how='any', inplace=True)\n",
    "\n",
    "# 两列去除重复\n",
    "train_df.drop_duplicates(subset=['Movie_Name','Username'],keep='first',inplace=True)\n",
    "\n",
    "train_df.info()"
   ]
  },
  {
   "cell_type": "code",
   "execution_count": 3,
   "metadata": {},
   "outputs": [],
   "source": [
    "from sklearn.metrics.pairwise import cosine_similarity\n",
    "from lightfm import LightFM, cross_validation\n",
    "from scipy.sparse import csr_matrix, coo_matrix\n",
    "from lightfm.evaluation import auc_score\n",
    "from lightfm.data import Dataset\n",
    "import numpy as np"
   ]
  },
  {
   "cell_type": "markdown",
   "metadata": {},
   "source": [
    "### 数据预处理"
   ]
  },
  {
   "cell_type": "code",
   "execution_count": 4,
   "metadata": {},
   "outputs": [],
   "source": [
    "# 建立用户名和 id 映射的字典\n",
    "user_dict = {}\n",
    "for index, value in enumerate(train_df['Username'].unique()):\n",
    "    user_dict[value] = index\n",
    "train_df['uid_int'] = train_df['Username'].apply(lambda x: user_dict[x])\n",
    "\n",
    "# 字典翻转\n",
    "reverse_user_dict = {v: k for k, v in user_dict.items()}\n",
    "\n",
    "# 建立电影名和 id 映射的字典\n",
    "item_dict = {}\n",
    "for index, value in enumerate(train_df['Movie_Name'].unique()):\n",
    "    item_dict[value] = index\n",
    "train_df['item_int'] = train_df['Movie_Name'].apply(lambda x: item_dict[x])\n",
    "\n",
    "# 字典翻转\n",
    "reverse_item_dict = {v: k for k, v in item_dict.items()}"
   ]
  },
  {
   "cell_type": "markdown",
   "metadata": {},
   "source": [
    "#### 设置电影和用户特征"
   ]
  },
  {
   "cell_type": "code",
   "execution_count": 5,
   "metadata": {},
   "outputs": [
    {
     "data": {
      "text/html": [
       "<div>\n",
       "<style scoped>\n",
       "    .dataframe tbody tr th:only-of-type {\n",
       "        vertical-align: middle;\n",
       "    }\n",
       "\n",
       "    .dataframe tbody tr th {\n",
       "        vertical-align: top;\n",
       "    }\n",
       "\n",
       "    .dataframe thead th {\n",
       "        text-align: right;\n",
       "    }\n",
       "</style>\n",
       "<table border=\"1\" class=\"dataframe\">\n",
       "  <thead>\n",
       "    <tr style=\"text-align: right;\">\n",
       "      <th></th>\n",
       "      <th>ID</th>\n",
       "      <th>Movie_Name</th>\n",
       "      <th>Movie_Score</th>\n",
       "      <th>Review_Count</th>\n",
       "      <th>Movie_Star_Distribution</th>\n",
       "      <th>Collect_Date</th>\n",
       "      <th>Username</th>\n",
       "      <th>Post_Date</th>\n",
       "      <th>Score</th>\n",
       "      <th>User_Comment</th>\n",
       "      <th>User_Comment_Distribution</th>\n",
       "      <th>Comment_Like_Count</th>\n",
       "      <th>Movie_Tags</th>\n",
       "      <th>uid_int</th>\n",
       "      <th>item_int</th>\n",
       "    </tr>\n",
       "  </thead>\n",
       "  <tbody>\n",
       "    <tr>\n",
       "      <th>0</th>\n",
       "      <td>0</td>\n",
       "      <td>1988年的妮可 Nico, 1988</td>\n",
       "      <td>7.5</td>\n",
       "      <td>565</td>\n",
       "      <td>15.2%48.2%32.3%3.4%0.8%</td>\n",
       "      <td>2019-10-05</td>\n",
       "      <td>尾黑</td>\n",
       "      <td>2018-06-23</td>\n",
       "      <td>3</td>\n",
       "      <td>成本低廉的PPT电影，用Nico生命中最后一年发生的事给Nico的歌配上情节，倒不算尴尬。女...</td>\n",
       "      <td>66%31%3%</td>\n",
       "      <td>4</td>\n",
       "      <td>['音乐', '电影', '儿子', '丝绒', '人物', '传记', '传记片', '歌...</td>\n",
       "      <td>0</td>\n",
       "      <td>0</td>\n",
       "    </tr>\n",
       "  </tbody>\n",
       "</table>\n",
       "</div>"
      ],
      "text/plain": [
       "   ID           Movie_Name  Movie_Score  Review_Count  \\\n",
       "0   0  1988年的妮可 Nico, 1988          7.5           565   \n",
       "\n",
       "   Movie_Star_Distribution Collect_Date Username   Post_Date  Score  \\\n",
       "0  15.2%48.2%32.3%3.4%0.8%   2019-10-05       尾黑  2018-06-23      3   \n",
       "\n",
       "                                        User_Comment  \\\n",
       "0  成本低廉的PPT电影，用Nico生命中最后一年发生的事给Nico的歌配上情节，倒不算尴尬。女...   \n",
       "\n",
       "  User_Comment_Distribution  Comment_Like_Count  \\\n",
       "0                  66%31%3%                   4   \n",
       "\n",
       "                                          Movie_Tags  uid_int  item_int  \n",
       "0  ['音乐', '电影', '儿子', '丝绒', '人物', '传记', '传记片', '歌...        0         0  "
      ]
     },
     "execution_count": 5,
     "metadata": {},
     "output_type": "execute_result"
    }
   ],
   "source": [
    "train_df.head(1)"
   ]
  },
  {
   "cell_type": "code",
   "execution_count": 6,
   "metadata": {},
   "outputs": [],
   "source": [
    "# 电影特征\n",
    "items_f = ['Movie_Score', 'Review_Count', 'item_int',\n",
    "           'New_Movie_Tags', 'New_Movie_Star_Distribution']\n",
    "\n",
    "# 用户特征\n",
    "users_f = ['uid_int', 'New_User_Comment_Distribution','New_User_Comment_Distribution']"
   ]
  },
  {
   "cell_type": "markdown",
   "metadata": {},
   "source": [
    "#### 数据划分"
   ]
  },
  {
   "cell_type": "markdown",
   "metadata": {},
   "source": [
    "优化特征提取:\n",
    "1. 电影信息拆分:单独编码\n",
    "2. 用户信息拆分：单独编码\n",
    "3. 通过交互信息进行 join"
   ]
  },
  {
   "cell_type": "markdown",
   "metadata": {},
   "source": [
    "用户交互表划分"
   ]
  },
  {
   "cell_type": "code",
   "execution_count": 26,
   "metadata": {
    "scrolled": true
   },
   "outputs": [
    {
     "data": {
      "text/plain": [
       "(49994, 4)"
      ]
     },
     "execution_count": 26,
     "metadata": {},
     "output_type": "execute_result"
    }
   ],
   "source": [
    "user_post_event = train_df[['uid_int', 'item_int', 'Score','Post_Date']]\n",
    "user_post_event.shape"
   ]
  },
  {
   "cell_type": "code",
   "execution_count": 27,
   "metadata": {},
   "outputs": [
    {
     "data": {
      "text/html": [
       "<div>\n",
       "<style scoped>\n",
       "    .dataframe tbody tr th:only-of-type {\n",
       "        vertical-align: middle;\n",
       "    }\n",
       "\n",
       "    .dataframe tbody tr th {\n",
       "        vertical-align: top;\n",
       "    }\n",
       "\n",
       "    .dataframe thead th {\n",
       "        text-align: right;\n",
       "    }\n",
       "</style>\n",
       "<table border=\"1\" class=\"dataframe\">\n",
       "  <thead>\n",
       "    <tr style=\"text-align: right;\">\n",
       "      <th></th>\n",
       "      <th>uid_int</th>\n",
       "      <th>item_int</th>\n",
       "      <th>Score</th>\n",
       "      <th>Post_Date</th>\n",
       "    </tr>\n",
       "  </thead>\n",
       "  <tbody>\n",
       "    <tr>\n",
       "      <th>39566</th>\n",
       "      <td>20882</td>\n",
       "      <td>92</td>\n",
       "      <td>4</td>\n",
       "      <td>2005-09-12</td>\n",
       "    </tr>\n",
       "    <tr>\n",
       "      <th>39784</th>\n",
       "      <td>3747</td>\n",
       "      <td>92</td>\n",
       "      <td>4</td>\n",
       "      <td>2005-09-12</td>\n",
       "    </tr>\n",
       "    <tr>\n",
       "      <th>47225</th>\n",
       "      <td>33341</td>\n",
       "      <td>107</td>\n",
       "      <td>4</td>\n",
       "      <td>2005-08-22</td>\n",
       "    </tr>\n",
       "    <tr>\n",
       "      <th>204</th>\n",
       "      <td>203</td>\n",
       "      <td>1</td>\n",
       "      <td>2</td>\n",
       "      <td>2005-07-19</td>\n",
       "    </tr>\n",
       "    <tr>\n",
       "      <th>14868</th>\n",
       "      <td>12971</td>\n",
       "      <td>39</td>\n",
       "      <td>5</td>\n",
       "      <td>2005-07-12</td>\n",
       "    </tr>\n",
       "  </tbody>\n",
       "</table>\n",
       "</div>"
      ],
      "text/plain": [
       "       uid_int  item_int  Score   Post_Date\n",
       "39566    20882        92      4  2005-09-12\n",
       "39784     3747        92      4  2005-09-12\n",
       "47225    33341       107      4  2005-08-22\n",
       "204        203         1      2  2005-07-19\n",
       "14868    12971        39      5  2005-07-12"
      ]
     },
     "execution_count": 27,
     "metadata": {},
     "output_type": "execute_result"
    }
   ],
   "source": [
    "# 时间排序,时间倒叙,最近的排在前面\n",
    "user_post_event = user_post_event.sort_values(by='Post_Date', ascending=False)\n",
    "# 查看最后几行数据\n",
    "user_post_event.tail()"
   ]
  },
  {
   "cell_type": "markdown",
   "metadata": {},
   "source": [
    "增加时间过滤，不需要很久远的数据。"
   ]
  },
  {
   "cell_type": "code",
   "execution_count": 28,
   "metadata": {},
   "outputs": [
    {
     "data": {
      "text/html": [
       "<div>\n",
       "<style scoped>\n",
       "    .dataframe tbody tr th:only-of-type {\n",
       "        vertical-align: middle;\n",
       "    }\n",
       "\n",
       "    .dataframe tbody tr th {\n",
       "        vertical-align: top;\n",
       "    }\n",
       "\n",
       "    .dataframe thead th {\n",
       "        text-align: right;\n",
       "    }\n",
       "</style>\n",
       "<table border=\"1\" class=\"dataframe\">\n",
       "  <thead>\n",
       "    <tr style=\"text-align: right;\">\n",
       "      <th></th>\n",
       "      <th>uid_int</th>\n",
       "      <th>item_int</th>\n",
       "      <th>Score</th>\n",
       "      <th>Post_Date</th>\n",
       "    </tr>\n",
       "  </thead>\n",
       "  <tbody>\n",
       "    <tr>\n",
       "      <th>44727</th>\n",
       "      <td>20373</td>\n",
       "      <td>102</td>\n",
       "      <td>3</td>\n",
       "      <td>2018-01-02</td>\n",
       "    </tr>\n",
       "    <tr>\n",
       "      <th>155</th>\n",
       "      <td>155</td>\n",
       "      <td>0</td>\n",
       "      <td>5</td>\n",
       "      <td>2018-01-02</td>\n",
       "    </tr>\n",
       "    <tr>\n",
       "      <th>18989</th>\n",
       "      <td>16045</td>\n",
       "      <td>50</td>\n",
       "      <td>3</td>\n",
       "      <td>2018-01-02</td>\n",
       "    </tr>\n",
       "    <tr>\n",
       "      <th>22853</th>\n",
       "      <td>18625</td>\n",
       "      <td>59</td>\n",
       "      <td>5</td>\n",
       "      <td>2018-01-02</td>\n",
       "    </tr>\n",
       "    <tr>\n",
       "      <th>35372</th>\n",
       "      <td>26784</td>\n",
       "      <td>82</td>\n",
       "      <td>4</td>\n",
       "      <td>2018-01-02</td>\n",
       "    </tr>\n",
       "  </tbody>\n",
       "</table>\n",
       "</div>"
      ],
      "text/plain": [
       "       uid_int  item_int  Score   Post_Date\n",
       "44727    20373       102      3  2018-01-02\n",
       "155        155         0      5  2018-01-02\n",
       "18989    16045        50      3  2018-01-02\n",
       "22853    18625        59      5  2018-01-02\n",
       "35372    26784        82      4  2018-01-02"
      ]
     },
     "execution_count": 28,
     "metadata": {},
     "output_type": "execute_result"
    }
   ],
   "source": [
    "Time_Threshold =  '2018-01-01'\n",
    "# 直接对时间字段进行截断\n",
    "user_post_event = user_post_event[user_post_event['Post_Date'] > Time_Threshold]\n",
    "user_post_event.tail()"
   ]
  },
  {
   "cell_type": "code",
   "execution_count": 29,
   "metadata": {},
   "outputs": [
    {
     "data": {
      "text/plain": [
       "(11971, 4)"
      ]
     },
     "execution_count": 29,
     "metadata": {},
     "output_type": "execute_result"
    }
   ],
   "source": [
    "user_post_event.shape"
   ]
  },
  {
   "cell_type": "code",
   "execution_count": 39,
   "metadata": {},
   "outputs": [
    {
     "name": "stdout",
     "output_type": "stream",
     "text": [
      "CPU times: user 9.77 s, sys: 0 ns, total: 9.77 s\n",
      "Wall time: 9.94 s\n"
     ]
    },
    {
     "data": {
      "text/plain": [
       "10158"
      ]
     },
     "execution_count": 39,
     "metadata": {},
     "output_type": "execute_result"
    }
   ],
   "source": [
    "# 找到每位用户请求到的集内id\n",
    "%time raw_sentences = [user_post_event[user_post_event['uid_int'] == i]['item_int'].unique().tolist() for i in user_post_event['uid_int'].unique()]\n",
    "len(raw_sentences)"
   ]
  },
  {
   "cell_type": "markdown",
   "metadata": {},
   "source": [
    "word2vec 使用字符输入。"
   ]
  },
  {
   "cell_type": "code",
   "execution_count": 54,
   "metadata": {},
   "outputs": [
    {
     "data": {
      "text/plain": [
       "10158"
      ]
     },
     "execution_count": 54,
     "metadata": {},
     "output_type": "execute_result"
    }
   ],
   "source": [
    "raw_id = []\n",
    "for r_list in raw_sentences:\n",
    "    raw_id.append([str(i) for i in r_list])\n",
    "len(raw_id)"
   ]
  },
  {
   "cell_type": "code",
   "execution_count": 55,
   "metadata": {},
   "outputs": [
    {
     "name": "stdout",
     "output_type": "stream",
     "text": [
      "CPU times: user 128 ms, sys: 0 ns, total: 128 ms\n",
      "Wall time: 131 ms\n"
     ]
    }
   ],
   "source": [
    "from gensim import corpora, similarities\n",
    "from gensim.models import Word2Vec \n",
    "import multiprocessing\n",
    "\n",
    "# 体现内容的共线关联\n",
    "%time model = Word2Vec(raw_id, size=300, workers=multiprocessing.cpu_count()*2,min_count=1)"
   ]
  },
  {
   "cell_type": "code",
   "execution_count": null,
   "metadata": {},
   "outputs": [],
   "source": [
    "# 相关查询\n",
    "topn = 10\n",
    "topic_list = topic_model.wv.most_similar(now_topic, topn=topn)\n",
    "topic_list = [i[0] for i in topic_list]\n",
    "print(topic_list)\n",
    "topic_rec_list = data.loc[data['ISBN'].isin(topic_list)][item_feature].drop_duplicates('ISBN', keep='first', inplace=False)\n",
    "topic_rec_list.head(10)"
   ]
  },
  {
   "cell_type": "code",
   "execution_count": null,
   "metadata": {},
   "outputs": [],
   "source": []
  },
  {
   "cell_type": "code",
   "execution_count": null,
   "metadata": {},
   "outputs": [],
   "source": []
  },
  {
   "cell_type": "code",
   "execution_count": null,
   "metadata": {},
   "outputs": [],
   "source": []
  },
  {
   "cell_type": "code",
   "execution_count": null,
   "metadata": {},
   "outputs": [],
   "source": [
    "dsd"
   ]
  },
  {
   "cell_type": "code",
   "execution_count": null,
   "metadata": {},
   "outputs": [],
   "source": []
  },
  {
   "cell_type": "markdown",
   "metadata": {},
   "source": [
    "电影信息表划分"
   ]
  },
  {
   "cell_type": "code",
   "execution_count": null,
   "metadata": {},
   "outputs": [],
   "source": [
    "movie_info_temp = train_df[items_f].drop_duplicates(\n",
    "    'item_int', keep='first', inplace=False)\n",
    "movie_info_temp.shape"
   ]
  },
  {
   "cell_type": "markdown",
   "metadata": {},
   "source": [
    "用户信息表划分"
   ]
  },
  {
   "cell_type": "code",
   "execution_count": null,
   "metadata": {},
   "outputs": [],
   "source": [
    "user_info_temp = train_df[users_f].drop_duplicates(\n",
    "    'uid_int', keep='first', inplace=False)\n",
    "user_info_temp.shape"
   ]
  },
  {
   "cell_type": "code",
   "execution_count": null,
   "metadata": {},
   "outputs": [],
   "source": [
    "def create_features(dataframe, features_name, id_col_name):\n",
    "    # 特征分离\n",
    "    features = dataframe[features_name].apply(\n",
    "        lambda x: ','.join(x.map(str)), axis=1)\n",
    "    features = features.str.split(',')\n",
    "    features1 = list(zip(dataframe[id_col_name], features))\n",
    "    features2 = features.apply(pd.Series).stack().reset_index(drop=True)\n",
    "    return features1, features2\n",
    "\n",
    "\n",
    "# 电影特征编码\n",
    "%time movie_info_temp['items_features'], item_feature_list = create_features(movie_info_temp, items_f, 'item_int')"
   ]
  },
  {
   "cell_type": "code",
   "execution_count": null,
   "metadata": {},
   "outputs": [],
   "source": [
    "# 用户特征编码\n",
    "%time user_info_temp['users_features'], user_feature_list = create_features(user_info_temp, users_f, 'uid_int')"
   ]
  },
  {
   "cell_type": "code",
   "execution_count": null,
   "metadata": {},
   "outputs": [],
   "source": [
    "# 开始制作数据集\n",
    "make_dataset = Dataset()\n",
    "make_dataset.fit(user_info_temp['uid_int'], movie_info_temp['item_int'],\n",
    "                 item_features=item_feature_list, user_features=user_feature_list)\n",
    "\n",
    "# 构建打分矩阵\n",
    "interactions, weights = make_dataset.build_interactions(\n",
    "    list(zip(user_post_event['uid_int'], user_post_event['item_int'], user_post_event['Score'])))\n",
    "\n",
    "# 打印用户评分\n",
    "train_df['Score'].unique()"
   ]
  },
  {
   "cell_type": "markdown",
   "metadata": {},
   "source": [
    "### 训练推荐系统的模型"
   ]
  },
  {
   "cell_type": "code",
   "execution_count": null,
   "metadata": {},
   "outputs": [],
   "source": [
    "# model load\n",
    "model_test = LightFM(no_components=30, random_state=1)\n",
    "\n",
    "# 固定划分数据\n",
    "train, test = cross_validation.random_train_test_split(\n",
    "    interactions, test_percentage=0.2)"
   ]
  },
  {
   "cell_type": "markdown",
   "metadata": {},
   "source": [
    "模型训练"
   ]
  },
  {
   "cell_type": "code",
   "execution_count": null,
   "metadata": {},
   "outputs": [],
   "source": [
    "# 电影特征处理\n",
    "items_features = make_dataset.build_item_features(\n",
    "    movie_info_temp['items_features'])\n",
    "\n",
    "# 用户特征处理\n",
    "users_features = make_dataset.build_user_features(\n",
    "    user_info_temp['users_features'])\n",
    "\n",
    "# model train\n",
    "%time model_test.fit(train, item_features=items_features, user_features=users_features, epochs=10, verbose=False)"
   ]
  },
  {
   "cell_type": "markdown",
   "metadata": {},
   "source": [
    "模型验证"
   ]
  },
  {
   "cell_type": "code",
   "execution_count": null,
   "metadata": {},
   "outputs": [],
   "source": [
    "# 开始验证模型\n",
    "auc = auc_score(model_test, test, item_features=items_features,\n",
    "                user_features=users_features)\n",
    "\n",
    "# 计算 auc 的均值\n",
    "np.mean(auc)"
   ]
  },
  {
   "cell_type": "markdown",
   "metadata": {},
   "source": [
    "### 首页用户个性化推荐\n",
    "1. 包含召回和排序两个部分。\n",
    "2. 适合首页 Feed 流的离线推荐计算场景。"
   ]
  },
  {
   "cell_type": "markdown",
   "metadata": {},
   "source": [
    "使用全量数据进行推荐模型训练。"
   ]
  },
  {
   "cell_type": "code",
   "execution_count": null,
   "metadata": {},
   "outputs": [],
   "source": [
    "# 推荐模型训练\n",
    "model = LightFM(no_components=30, random_state=1)\n",
    "\n",
    "%time model.fit(interactions, sample_weight=weights, item_features=items_features, user_features=users_features, epochs=30,  verbose=False)"
   ]
  },
  {
   "cell_type": "markdown",
   "metadata": {},
   "source": [
    "召回\n",
    "1. 过滤用户看过的\n",
    "2. 尽可能找到用户喜欢的"
   ]
  },
  {
   "cell_type": "code",
   "execution_count": null,
   "metadata": {},
   "outputs": [],
   "source": [
    "# 按照用户名进行推荐\n",
    "Username = '尾黑'\n",
    "\n",
    "# id 转换\n",
    "user_x = user_dict[Username]\n",
    "\n",
    "# 对电影进行去重\n",
    "allready_knews = train_df.loc[train_df['uid_int'].isin(\n",
    "    [user_x])].drop_duplicates('item_int', keep='first', inplace=False)"
   ]
  },
  {
   "cell_type": "markdown",
   "metadata": {},
   "source": [
    "暂时使用全量用户没看过的，且电影分数大于 Threshold 的电影作为召回。"
   ]
  },
  {
   "cell_type": "code",
   "execution_count": null,
   "metadata": {},
   "outputs": [],
   "source": [
    "# 过滤看过的内容\n",
    "known_items = allready_knews['item_int'].tolist()\n",
    "df_use_for_prediction = train_df.loc[~train_df['item_int'].isin(known_items)].drop_duplicates(\n",
    "    'item_int', keep='first', inplace=False)\n",
    "\n",
    "# 挑选高质量的电影\n",
    "Threshold = 7\n",
    "df_use_for_prediction = df_use_for_prediction[df_use_for_prediction['Movie_Score'] > Threshold]\n",
    "\n",
    "df_use_for_prediction.head(1)"
   ]
  },
  {
   "cell_type": "markdown",
   "metadata": {},
   "source": [
    "模型开始对召回的电影候选集进行打分。"
   ]
  },
  {
   "cell_type": "code",
   "execution_count": null,
   "metadata": {},
   "outputs": [],
   "source": [
    "df_use_for_prediction['rec_score'] = model.predict(user_ids=user_x, item_ids=df_use_for_prediction['item_int'].tolist(),\n",
    "                                                   item_features=items_features, user_features=users_features)"
   ]
  },
  {
   "cell_type": "markdown",
   "metadata": {},
   "source": [
    "对排序结果进行 topk 选取。"
   ]
  },
  {
   "cell_type": "code",
   "execution_count": 12,
   "metadata": {},
   "outputs": [
    {
     "ename": "NameError",
     "evalue": "name 'df_use_for_prediction' is not defined",
     "output_type": "error",
     "traceback": [
      "\u001b[0;31m---------------------------------------------------------------------------\u001b[0m",
      "\u001b[0;31mNameError\u001b[0m                                 Traceback (most recent call last)",
      "\u001b[0;32m<ipython-input-12-914ea34a7d78>\u001b[0m in \u001b[0;36m<module>\u001b[0;34m\u001b[0m\n\u001b[1;32m      1\u001b[0m \u001b[0;31m# 取 topk\u001b[0m\u001b[0;34m\u001b[0m\u001b[0;34m\u001b[0m\u001b[0;34m\u001b[0m\u001b[0m\n\u001b[1;32m      2\u001b[0m \u001b[0mtop_rec_item\u001b[0m \u001b[0;34m=\u001b[0m \u001b[0;36m5\u001b[0m\u001b[0;34m\u001b[0m\u001b[0;34m\u001b[0m\u001b[0m\n\u001b[0;32m----> 3\u001b[0;31m rec_list_ = df_use_for_prediction.sort_values(by='rec_score', ascending=False)[\n\u001b[0m\u001b[1;32m      4\u001b[0m     :top_rec_item]['item_int']\n\u001b[1;32m      5\u001b[0m \u001b[0;34m\u001b[0m\u001b[0m\n",
      "\u001b[0;31mNameError\u001b[0m: name 'df_use_for_prediction' is not defined"
     ]
    }
   ],
   "source": [
    "# 取 topk\n",
    "top_rec_item = 5\n",
    "rec_list_ = df_use_for_prediction.sort_values(by='rec_score', ascending=False)[\n",
    "    :top_rec_item]['item_int']\n",
    "\n",
    "# 排序后的电影推荐列表\n",
    "rec_list_.tolist()"
   ]
  },
  {
   "cell_type": "code",
   "execution_count": null,
   "metadata": {},
   "outputs": [],
   "source": [
    "# 利用推荐列表找出电影信息\n",
    "result = train_df.loc[train_df['item_int'].isin(rec_list_.tolist())][[\n",
    "    'Movie_Name', 'item_int', 'Movie_Score', 'Movie_Tags']].drop_duplicates('Movie_Name', keep='first', inplace=False)\n",
    "\n",
    "# 推荐结果显示\n",
    "result.head()"
   ]
  },
  {
   "cell_type": "markdown",
   "metadata": {},
   "source": [
    "### 看了还看\n",
    "1. 根据当前看的内容找到看过此次内容相关的内容。\n",
    "2. 对结果依旧使用阈值过滤，挑选优质内容。"
   ]
  },
  {
   "cell_type": "code",
   "execution_count": null,
   "metadata": {},
   "outputs": [],
   "source": [
    "# 提取电影特征向量\n",
    "embedding_movie, feature_movie = csr_matrix(\n",
    "    model.item_embeddings), csr_matrix(items_features)\n",
    "\n",
    "# 电影特征提取\n",
    "movie_inner_max = np.dot(feature_movie, embedding_movie)\n",
    "\n",
    "# 电影之间求得余弦相似度\n",
    "movie_cosine_sim = cosine_similarity(movie_inner_max)"
   ]
  },
  {
   "cell_type": "code",
   "execution_count": null,
   "metadata": {},
   "outputs": [],
   "source": [
    "# 找到与查询电影最近余弦距离上的电影\n",
    "def next_movie_recommendations(movie_name, cosine_sim, topk):\n",
    "    # 电影名转换唯一的 id\n",
    "    int_id = item_dict[movie_name]\n",
    "    # 去除自身 id\n",
    "    sim_scores = sorted(\n",
    "        list(enumerate(cosine_sim[int_id])),\n",
    "        key=lambda x: x[1], reverse=True)[1:topk+1]\n",
    "    return sim_scores"
   ]
  },
  {
   "cell_type": "markdown",
   "metadata": {},
   "source": [
    "假设当前看的电影。"
   ]
  },
  {
   "cell_type": "code",
   "execution_count": 13,
   "metadata": {},
   "outputs": [
    {
     "data": {
      "text/html": [
       "<div>\n",
       "<style scoped>\n",
       "    .dataframe tbody tr th:only-of-type {\n",
       "        vertical-align: middle;\n",
       "    }\n",
       "\n",
       "    .dataframe tbody tr th {\n",
       "        vertical-align: top;\n",
       "    }\n",
       "\n",
       "    .dataframe thead th {\n",
       "        text-align: right;\n",
       "    }\n",
       "</style>\n",
       "<table border=\"1\" class=\"dataframe\">\n",
       "  <thead>\n",
       "    <tr style=\"text-align: right;\">\n",
       "      <th></th>\n",
       "      <th>ID</th>\n",
       "      <th>Movie_Name</th>\n",
       "      <th>Movie_Score</th>\n",
       "      <th>Review_Count</th>\n",
       "      <th>Movie_Star_Distribution</th>\n",
       "      <th>Collect_Date</th>\n",
       "      <th>Username</th>\n",
       "      <th>Post_Date</th>\n",
       "      <th>Score</th>\n",
       "      <th>User_Comment</th>\n",
       "      <th>User_Comment_Distribution</th>\n",
       "      <th>Comment_Like_Count</th>\n",
       "      <th>Movie_Tags</th>\n",
       "      <th>uid_int</th>\n",
       "      <th>item_int</th>\n",
       "    </tr>\n",
       "  </thead>\n",
       "  <tbody>\n",
       "    <tr>\n",
       "      <th>159</th>\n",
       "      <td>159</td>\n",
       "      <td>24小时狂欢派对 24 Hour Party People</td>\n",
       "      <td>7.9</td>\n",
       "      <td>1509</td>\n",
       "      <td>26.2%46.9%23.0%3.2%0.7%</td>\n",
       "      <td>2019-10-05</td>\n",
       "      <td>Lane</td>\n",
       "      <td>2008-09-22</td>\n",
       "      <td>3</td>\n",
       "      <td>080921 可能和真是一部for fans only的片子，反正我没看出特别多乐趣。只是W...</td>\n",
       "      <td>75%19%6%</td>\n",
       "      <td>0</td>\n",
       "      <td>['音乐', '纪录片', '电影', '时候', '演员', '片子', '工厂', '乐...</td>\n",
       "      <td>159</td>\n",
       "      <td>1</td>\n",
       "    </tr>\n",
       "  </tbody>\n",
       "</table>\n",
       "</div>"
      ],
      "text/plain": [
       "      ID                     Movie_Name  Movie_Score  Review_Count  \\\n",
       "159  159  24小时狂欢派对 24 Hour Party People          7.9          1509   \n",
       "\n",
       "     Movie_Star_Distribution Collect_Date Username   Post_Date  Score  \\\n",
       "159  26.2%46.9%23.0%3.2%0.7%   2019-10-05     Lane  2008-09-22      3   \n",
       "\n",
       "                                          User_Comment  \\\n",
       "159  080921 可能和真是一部for fans only的片子，反正我没看出特别多乐趣。只是W...   \n",
       "\n",
       "    User_Comment_Distribution  Comment_Like_Count  \\\n",
       "159                  75%19%6%                   0   \n",
       "\n",
       "                                            Movie_Tags  uid_int  item_int  \n",
       "159  ['音乐', '纪录片', '电影', '时候', '演员', '片子', '工厂', '乐...      159         1  "
      ]
     },
     "execution_count": 13,
     "metadata": {},
     "output_type": "execute_result"
    }
   ],
   "source": [
    "# 利用电影名查询\n",
    "movie_name = '24小时狂欢派对 24 Hour Party People'\n",
    "\n",
    "train_df.loc[train_df['Movie_Name'].isin([movie_name])].drop_duplicates(\n",
    "    'item_int', keep='first', inplace=False).head(1)"
   ]
  },
  {
   "cell_type": "markdown",
   "metadata": {},
   "source": [
    "推理用户接下来看的 topk 个电影，并去除当前看的电影和自己已经看过的电影。"
   ]
  },
  {
   "cell_type": "code",
   "execution_count": 14,
   "metadata": {},
   "outputs": [
    {
     "ename": "NameError",
     "evalue": "name 'next_movie_recommendations' is not defined",
     "output_type": "error",
     "traceback": [
      "\u001b[0;31m---------------------------------------------------------------------------\u001b[0m",
      "\u001b[0;31mNameError\u001b[0m                                 Traceback (most recent call last)",
      "\u001b[0;32m<ipython-input-14-0270da51ae9f>\u001b[0m in \u001b[0;36m<module>\u001b[0;34m\u001b[0m\n\u001b[1;32m      1\u001b[0m \u001b[0mtopk\u001b[0m \u001b[0;34m=\u001b[0m \u001b[0;36m20\u001b[0m\u001b[0;34m\u001b[0m\u001b[0;34m\u001b[0m\u001b[0m\n\u001b[0;32m----> 2\u001b[0;31m next_movie = [i[0] for i in next_movie_recommendations(\n\u001b[0m\u001b[1;32m      3\u001b[0m     movie_name, movie_cosine_sim, topk)]\n\u001b[1;32m      4\u001b[0m \u001b[0;34m\u001b[0m\u001b[0m\n\u001b[1;32m      5\u001b[0m \u001b[0;31m#  推荐和看过的取差集\u001b[0m\u001b[0;34m\u001b[0m\u001b[0;34m\u001b[0m\u001b[0;34m\u001b[0m\u001b[0m\n",
      "\u001b[0;31mNameError\u001b[0m: name 'next_movie_recommendations' is not defined"
     ]
    }
   ],
   "source": [
    "topk = 20\n",
    "next_movie = [i[0] for i in next_movie_recommendations(\n",
    "    movie_name, movie_cosine_sim, topk)]\n",
    "\n",
    "#  推荐和看过的取差集\n",
    "next_list = list(set(next_movie).difference(set(known_items)))\n",
    "next_list"
   ]
  },
  {
   "cell_type": "markdown",
   "metadata": {},
   "source": [
    "增加阈值过滤进行下一个结果输出，保证推荐质量。"
   ]
  },
  {
   "cell_type": "code",
   "execution_count": 15,
   "metadata": {
    "scrolled": true
   },
   "outputs": [
    {
     "ename": "NameError",
     "evalue": "name 'next_list' is not defined",
     "output_type": "error",
     "traceback": [
      "\u001b[0;31m---------------------------------------------------------------------------\u001b[0m",
      "\u001b[0;31mNameError\u001b[0m                                 Traceback (most recent call last)",
      "\u001b[0;32m<ipython-input-15-8b85a5b7496d>\u001b[0m in \u001b[0;36m<module>\u001b[0;34m\u001b[0m\n\u001b[1;32m      1\u001b[0m next_movie_result = train_df.loc[train_df['item_int'].isin(\n\u001b[0;32m----> 2\u001b[0;31m     next_list)].drop_duplicates('item_int', keep='first', inplace=False)\n\u001b[0m\u001b[1;32m      3\u001b[0m \u001b[0;34m\u001b[0m\u001b[0m\n\u001b[1;32m      4\u001b[0m \u001b[0;34m\u001b[0m\u001b[0m\n\u001b[1;32m      5\u001b[0m \u001b[0;31m# 使用 Threshold 进行过滤\u001b[0m\u001b[0;34m\u001b[0m\u001b[0;34m\u001b[0m\u001b[0;34m\u001b[0m\u001b[0m\n",
      "\u001b[0;31mNameError\u001b[0m: name 'next_list' is not defined"
     ]
    }
   ],
   "source": [
    "next_movie_result = train_df.loc[train_df['item_int'].isin(\n",
    "    next_list)].drop_duplicates('item_int', keep='first', inplace=False)\n",
    "\n",
    "\n",
    "# 使用 Threshold 进行过滤\n",
    "Threshold = 8\n",
    "next_movie_result = next_movie_result[next_movie_result['Movie_Score'] >= Threshold]\n",
    "\n",
    "# 显示看了还看的推荐结果\n",
    "next_movie_result.head()[items_f+['Movie_Name']]"
   ]
  },
  {
   "cell_type": "markdown",
   "metadata": {},
   "source": [
    "### Push 推荐\n",
    "1. 通过计算每位用户对单一电影的兴趣度，去除看过的即可得出 topk 的 push 结果。\n",
    "2. 通过电影找用户，解决电影冷启动问题。"
   ]
  },
  {
   "cell_type": "code",
   "execution_count": 16,
   "metadata": {},
   "outputs": [
    {
     "data": {
      "text/html": [
       "<div>\n",
       "<style scoped>\n",
       "    .dataframe tbody tr th:only-of-type {\n",
       "        vertical-align: middle;\n",
       "    }\n",
       "\n",
       "    .dataframe tbody tr th {\n",
       "        vertical-align: top;\n",
       "    }\n",
       "\n",
       "    .dataframe thead th {\n",
       "        text-align: right;\n",
       "    }\n",
       "</style>\n",
       "<table border=\"1\" class=\"dataframe\">\n",
       "  <thead>\n",
       "    <tr style=\"text-align: right;\">\n",
       "      <th></th>\n",
       "      <th>ID</th>\n",
       "      <th>Movie_Name</th>\n",
       "      <th>Movie_Score</th>\n",
       "      <th>Review_Count</th>\n",
       "      <th>Movie_Star_Distribution</th>\n",
       "      <th>Collect_Date</th>\n",
       "      <th>Username</th>\n",
       "      <th>Post_Date</th>\n",
       "      <th>Score</th>\n",
       "      <th>User_Comment</th>\n",
       "      <th>User_Comment_Distribution</th>\n",
       "      <th>Comment_Like_Count</th>\n",
       "      <th>Movie_Tags</th>\n",
       "      <th>uid_int</th>\n",
       "      <th>item_int</th>\n",
       "    </tr>\n",
       "  </thead>\n",
       "  <tbody>\n",
       "    <tr>\n",
       "      <th>159</th>\n",
       "      <td>159</td>\n",
       "      <td>24小时狂欢派对 24 Hour Party People</td>\n",
       "      <td>7.9</td>\n",
       "      <td>1509</td>\n",
       "      <td>26.2%46.9%23.0%3.2%0.7%</td>\n",
       "      <td>2019-10-05</td>\n",
       "      <td>Lane</td>\n",
       "      <td>2008-09-22</td>\n",
       "      <td>3</td>\n",
       "      <td>080921 可能和真是一部for fans only的片子，反正我没看出特别多乐趣。只是W...</td>\n",
       "      <td>75%19%6%</td>\n",
       "      <td>0</td>\n",
       "      <td>['音乐', '纪录片', '电影', '时候', '演员', '片子', '工厂', '乐...</td>\n",
       "      <td>159</td>\n",
       "      <td>1</td>\n",
       "    </tr>\n",
       "  </tbody>\n",
       "</table>\n",
       "</div>"
      ],
      "text/plain": [
       "      ID                     Movie_Name  Movie_Score  Review_Count  \\\n",
       "159  159  24小时狂欢派对 24 Hour Party People          7.9          1509   \n",
       "\n",
       "     Movie_Star_Distribution Collect_Date Username   Post_Date  Score  \\\n",
       "159  26.2%46.9%23.0%3.2%0.7%   2019-10-05     Lane  2008-09-22      3   \n",
       "\n",
       "                                          User_Comment  \\\n",
       "159  080921 可能和真是一部for fans only的片子，反正我没看出特别多乐趣。只是W...   \n",
       "\n",
       "    User_Comment_Distribution  Comment_Like_Count  \\\n",
       "159                  75%19%6%                   0   \n",
       "\n",
       "                                            Movie_Tags  uid_int  item_int  \n",
       "159  ['音乐', '纪录片', '电影', '时候', '演员', '片子', '工厂', '乐...      159         1  "
      ]
     },
     "execution_count": 16,
     "metadata": {},
     "output_type": "execute_result"
    }
   ],
   "source": [
    "movie_int = item_dict[movie_name]\n",
    "\n",
    "# 查看当前电影\n",
    "item_rec_user = train_df.loc[train_df['item_int'].isin(\n",
    "    [movie_int])].drop_duplicates('item_int', keep='first', inplace=False)\n",
    "item_rec_user.head(1)"
   ]
  },
  {
   "cell_type": "code",
   "execution_count": 17,
   "metadata": {},
   "outputs": [
    {
     "data": {
      "text/plain": [
       "'24小时狂欢派对 24 Hour Party People'"
      ]
     },
     "execution_count": 17,
     "metadata": {},
     "output_type": "execute_result"
    }
   ],
   "source": [
    "movie_name"
   ]
  },
  {
   "cell_type": "code",
   "execution_count": 18,
   "metadata": {},
   "outputs": [
    {
     "ename": "NameError",
     "evalue": "name 'interactions' is not defined",
     "output_type": "error",
     "traceback": [
      "\u001b[0;31m---------------------------------------------------------------------------\u001b[0m",
      "\u001b[0;31mNameError\u001b[0m                                 Traceback (most recent call last)",
      "\u001b[0;32m<ipython-input-18-a5007552b469>\u001b[0m in \u001b[0;36m<module>\u001b[0;34m\u001b[0m\n\u001b[1;32m      1\u001b[0m \u001b[0;31m# 利用交互矩阵的维度\u001b[0m\u001b[0;34m\u001b[0m\u001b[0;34m\u001b[0m\u001b[0;34m\u001b[0m\u001b[0m\n\u001b[0;32m----> 2\u001b[0;31m \u001b[0mn_users\u001b[0m\u001b[0;34m,\u001b[0m \u001b[0mn_movies\u001b[0m \u001b[0;34m=\u001b[0m \u001b[0minteractions\u001b[0m\u001b[0;34m.\u001b[0m\u001b[0mshape\u001b[0m\u001b[0;34m\u001b[0m\u001b[0;34m\u001b[0m\u001b[0m\n\u001b[0m\u001b[1;32m      3\u001b[0m \u001b[0;34m\u001b[0m\u001b[0m\n\u001b[1;32m      4\u001b[0m movie2user_rec = model.predict(user_ids=np.arange(n_users), item_ids=np.repeat(\n\u001b[1;32m      5\u001b[0m     movie_int, n_users), item_features=items_features, user_features=users_features)\n",
      "\u001b[0;31mNameError\u001b[0m: name 'interactions' is not defined"
     ]
    }
   ],
   "source": [
    "# 利用交互矩阵的维度\n",
    "n_users, n_movies = interactions.shape\n",
    "\n",
    "movie2user_rec = model.predict(user_ids=np.arange(n_users), item_ids=np.repeat(\n",
    "    movie_int, n_users), item_features=items_features, user_features=users_features)\n",
    "\n",
    "# 建立感兴趣的用户索引倒排\n",
    "wait_rec_list = np.argsort(-movie2user_rec).tolist()"
   ]
  },
  {
   "cell_type": "code",
   "execution_count": null,
   "metadata": {},
   "outputs": [],
   "source": [
    "# 找出看过此商品的用户 id\n",
    "item_known_users_int = train_df[train_df['item_int']\n",
    "                                == movie_int]['uid_int'].unique().tolist()"
   ]
  },
  {
   "cell_type": "markdown",
   "metadata": {},
   "source": [
    "推荐候选集合过滤，得出最终的 Push 用户列表。"
   ]
  },
  {
   "cell_type": "code",
   "execution_count": 19,
   "metadata": {},
   "outputs": [
    {
     "ename": "NameError",
     "evalue": "name 'wait_rec_list' is not defined",
     "output_type": "error",
     "traceback": [
      "\u001b[0;31m---------------------------------------------------------------------------\u001b[0m",
      "\u001b[0;31mNameError\u001b[0m                                 Traceback (most recent call last)",
      "\u001b[0;32m<ipython-input-19-b3c3e308104f>\u001b[0m in \u001b[0;36m<module>\u001b[0;34m\u001b[0m\n\u001b[1;32m      3\u001b[0m \u001b[0mcount\u001b[0m \u001b[0;34m=\u001b[0m \u001b[0;36m0\u001b[0m\u001b[0;34m\u001b[0m\u001b[0;34m\u001b[0m\u001b[0m\n\u001b[1;32m      4\u001b[0m \u001b[0;31m# 增加早停\u001b[0m\u001b[0;34m\u001b[0m\u001b[0;34m\u001b[0m\u001b[0;34m\u001b[0m\u001b[0m\n\u001b[0;32m----> 5\u001b[0;31m \u001b[0;32mfor\u001b[0m \u001b[0mx\u001b[0m \u001b[0;32min\u001b[0m \u001b[0mwait_rec_list\u001b[0m\u001b[0;34m:\u001b[0m\u001b[0;34m\u001b[0m\u001b[0;34m\u001b[0m\u001b[0m\n\u001b[0m\u001b[1;32m      6\u001b[0m     \u001b[0;32mif\u001b[0m \u001b[0mx\u001b[0m \u001b[0;32mnot\u001b[0m \u001b[0;32min\u001b[0m \u001b[0mitem_known_users_int\u001b[0m\u001b[0;34m:\u001b[0m\u001b[0;34m\u001b[0m\u001b[0;34m\u001b[0m\u001b[0m\n\u001b[1;32m      7\u001b[0m         \u001b[0mpush_result\u001b[0m\u001b[0;34m.\u001b[0m\u001b[0mappend\u001b[0m\u001b[0;34m(\u001b[0m\u001b[0mx\u001b[0m\u001b[0;34m)\u001b[0m\u001b[0;34m\u001b[0m\u001b[0;34m\u001b[0m\u001b[0m\n",
      "\u001b[0;31mNameError\u001b[0m: name 'wait_rec_list' is not defined"
     ]
    }
   ],
   "source": [
    "push_topk = 10\n",
    "push_result = []\n",
    "count = 0\n",
    "# 增加早停\n",
    "for x in wait_rec_list:\n",
    "    if x not in item_known_users_int:\n",
    "        push_result.append(x)\n",
    "        count += 1\n",
    "        if count > push_topk:\n",
    "            break\n",
    "push_result"
   ]
  },
  {
   "cell_type": "markdown",
   "metadata": {},
   "source": [
    "打印待 Push 用户的信息。"
   ]
  },
  {
   "cell_type": "code",
   "execution_count": null,
   "metadata": {},
   "outputs": [],
   "source": [
    "item_rec_user = train_df.loc[train_df['uid_int'].isin(\n",
    "    push_result)].drop_duplicates('uid_int', keep='first', inplace=False)\n",
    "item_rec_user.head()[users_f+['Username']]"
   ]
  },
  {
   "cell_type": "markdown",
   "metadata": {},
   "source": [
    "### 相关用户推荐\n",
    "1. 相关用户推荐，找到用户相关的用户，挖掘用户的潜在兴趣。\n",
    "2. 增加平台和用户的交互。"
   ]
  },
  {
   "cell_type": "code",
   "execution_count": 20,
   "metadata": {},
   "outputs": [
    {
     "ename": "NameError",
     "evalue": "name 'model' is not defined",
     "output_type": "error",
     "traceback": [
      "\u001b[0;31m---------------------------------------------------------------------------\u001b[0m",
      "\u001b[0;31mNameError\u001b[0m                                 Traceback (most recent call last)",
      "\u001b[0;32m<ipython-input-20-fdb6418df69f>\u001b[0m in \u001b[0;36m<module>\u001b[0;34m\u001b[0m\n\u001b[1;32m      1\u001b[0m \u001b[0;31m#  提取用户特征向量\u001b[0m\u001b[0;34m\u001b[0m\u001b[0;34m\u001b[0m\u001b[0;34m\u001b[0m\u001b[0m\n\u001b[1;32m      2\u001b[0m embedding_user, feature_user = csr_matrix(\n\u001b[0;32m----> 3\u001b[0;31m     model.user_embeddings), csr_matrix(users_features)\n\u001b[0m\u001b[1;32m      4\u001b[0m \u001b[0;34m\u001b[0m\u001b[0m\n\u001b[1;32m      5\u001b[0m \u001b[0;31m# 用户特征提取\u001b[0m\u001b[0;34m\u001b[0m\u001b[0;34m\u001b[0m\u001b[0;34m\u001b[0m\u001b[0m\n",
      "\u001b[0;31mNameError\u001b[0m: name 'model' is not defined"
     ]
    }
   ],
   "source": [
    "#  提取用户特征向量\n",
    "embedding_user, feature_user = csr_matrix(\n",
    "    model.user_embeddings), csr_matrix(users_features)\n",
    "\n",
    "# 用户特征提取\n",
    "user_inner_max = np.dot(feature_user, embedding_user)\n",
    "\n",
    "# 用户之间求得余弦相似度，容易因用户数量过大造成 MemoryError\n",
    "user_cosine_sim = cosine_similarity(user_inner_max)"
   ]
  },
  {
   "cell_type": "code",
   "execution_count": null,
   "metadata": {},
   "outputs": [],
   "source": [
    "# 找到与查询电影最近余弦距离上的电影\n",
    "def sim_user_recommendations(user_name, cosine_sim, topk):\n",
    "    # 用户名转换唯一的 id\n",
    "    int_id = user_dict[user_name]\n",
    "    # 去除自身 id，建立倒排索引\n",
    "    sim_scores = sorted(\n",
    "        list(enumerate(cosine_sim[int_id])),\n",
    "        key=lambda x: x[1], reverse=True)[1:topk+1]\n",
    "    return sim_scores"
   ]
  },
  {
   "cell_type": "markdown",
   "metadata": {},
   "source": [
    "找到与当前用户 Username 相关的 topk 个相关用户。"
   ]
  },
  {
   "cell_type": "code",
   "execution_count": 21,
   "metadata": {},
   "outputs": [
    {
     "ename": "NameError",
     "evalue": "name 'sim_user_recommendations' is not defined",
     "output_type": "error",
     "traceback": [
      "\u001b[0;31m---------------------------------------------------------------------------\u001b[0m",
      "\u001b[0;31mNameError\u001b[0m                                 Traceback (most recent call last)",
      "\u001b[0;32m<ipython-input-21-76a99d265a50>\u001b[0m in \u001b[0;36m<module>\u001b[0;34m\u001b[0m\n\u001b[1;32m      1\u001b[0m \u001b[0mtopk\u001b[0m \u001b[0;34m=\u001b[0m \u001b[0;36m5\u001b[0m\u001b[0;34m\u001b[0m\u001b[0;34m\u001b[0m\u001b[0m\n\u001b[0;32m----> 2\u001b[0;31m sim_user_list = [i[0] for i in sim_user_recommendations(\n\u001b[0m\u001b[1;32m      3\u001b[0m     Username, user_cosine_sim, topk)]\n\u001b[1;32m      4\u001b[0m \u001b[0msim_user_list\u001b[0m\u001b[0;34m\u001b[0m\u001b[0;34m\u001b[0m\u001b[0m\n",
      "\u001b[0;31mNameError\u001b[0m: name 'sim_user_recommendations' is not defined"
     ]
    }
   ],
   "source": [
    "topk = 5\n",
    "sim_user_list = [i[0] for i in sim_user_recommendations(\n",
    "    Username, user_cosine_sim, topk)]\n",
    "sim_user_list"
   ]
  },
  {
   "cell_type": "code",
   "execution_count": null,
   "metadata": {},
   "outputs": [],
   "source": [
    "sim_user_result = train_df.loc[train_df['uid_int'].isin(\n",
    "    sim_user_list)].drop_duplicates('uid_int', keep='first', inplace=False)\n",
    "\n",
    "# todo：可以添加优质用户筛选策略\n",
    "# Threshold\n",
    "# sim_user_result = sim_user_result[sim_user_result['User_level'] >= Threshold]\n",
    "\n",
    "# 显示相关用户结果\n",
    "sim_user_result.head()[users_f+['Username']]"
   ]
  },
  {
   "cell_type": "code",
   "execution_count": null,
   "metadata": {},
   "outputs": [],
   "source": []
  }
 ],
 "metadata": {
  "kernelspec": {
   "display_name": "p3venv",
   "language": "python",
   "name": "p3venv"
  },
  "language_info": {
   "codemirror_mode": {
    "name": "ipython",
    "version": 3
   },
   "file_extension": ".py",
   "mimetype": "text/x-python",
   "name": "python",
   "nbconvert_exporter": "python",
   "pygments_lexer": "ipython3",
   "version": "3.6.10"
  },
  "toc": {
   "base_numbering": 1,
   "nav_menu": {},
   "number_sections": true,
   "sideBar": true,
   "skip_h1_title": false,
   "title_cell": "Table of Contents",
   "title_sidebar": "Contents",
   "toc_cell": false,
   "toc_position": {},
   "toc_section_display": true,
   "toc_window_display": false
  }
 },
 "nbformat": 4,
 "nbformat_minor": 4
}
