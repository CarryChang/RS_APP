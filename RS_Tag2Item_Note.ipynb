{
 "cells": [
  {
   "cell_type": "markdown",
   "metadata": {},
   "source": [
    "数据加载"
   ]
  },
  {
   "cell_type": "code",
   "execution_count": 1,
   "metadata": {
    "scrolled": true
   },
   "outputs": [
    {
     "name": "stdout",
     "output_type": "stream",
     "text": [
      "(10000, 13)\n"
     ]
    },
    {
     "data": {
      "text/html": [
       "<div>\n",
       "<style scoped>\n",
       "    .dataframe tbody tr th:only-of-type {\n",
       "        vertical-align: middle;\n",
       "    }\n",
       "\n",
       "    .dataframe tbody tr th {\n",
       "        vertical-align: top;\n",
       "    }\n",
       "\n",
       "    .dataframe thead th {\n",
       "        text-align: right;\n",
       "    }\n",
       "</style>\n",
       "<table border=\"1\" class=\"dataframe\">\n",
       "  <thead>\n",
       "    <tr style=\"text-align: right;\">\n",
       "      <th></th>\n",
       "      <th>ID</th>\n",
       "      <th>Movie_Name</th>\n",
       "      <th>Movie_Score</th>\n",
       "      <th>Review_Count</th>\n",
       "      <th>Movie_Star_Distribution</th>\n",
       "      <th>Collect_Date</th>\n",
       "      <th>Username</th>\n",
       "      <th>Post_Date</th>\n",
       "      <th>Score</th>\n",
       "      <th>User_Comment</th>\n",
       "      <th>User_Comment_Distribution</th>\n",
       "      <th>Comment_Like_Count</th>\n",
       "      <th>Movie_Tags</th>\n",
       "    </tr>\n",
       "  </thead>\n",
       "  <tbody>\n",
       "    <tr>\n",
       "      <th>0</th>\n",
       "      <td>0</td>\n",
       "      <td>1988年的妮可 Nico, 1988</td>\n",
       "      <td>7.5</td>\n",
       "      <td>565</td>\n",
       "      <td>15.2%48.2%32.3%3.4%0.8%</td>\n",
       "      <td>2019-10-05</td>\n",
       "      <td>尾黑</td>\n",
       "      <td>2018-06-23</td>\n",
       "      <td>3</td>\n",
       "      <td>成本低廉的PPT电影，用Nico生命中最后一年发生的事给Nico的歌配上情节，倒不算尴尬。女...</td>\n",
       "      <td>66%31%3%</td>\n",
       "      <td>4</td>\n",
       "      <td>['音乐', '电影', '儿子', '丝绒', '人物', '传记', '传记片', '歌...</td>\n",
       "    </tr>\n",
       "  </tbody>\n",
       "</table>\n",
       "</div>"
      ],
      "text/plain": [
       "   ID           Movie_Name  Movie_Score  Review_Count  \\\n",
       "0   0  1988年的妮可 Nico, 1988          7.5           565   \n",
       "\n",
       "   Movie_Star_Distribution Collect_Date Username   Post_Date  Score  \\\n",
       "0  15.2%48.2%32.3%3.4%0.8%   2019-10-05       尾黑  2018-06-23      3   \n",
       "\n",
       "                                        User_Comment  \\\n",
       "0  成本低廉的PPT电影，用Nico生命中最后一年发生的事给Nico的歌配上情节，倒不算尴尬。女...   \n",
       "\n",
       "  User_Comment_Distribution  Comment_Like_Count  \\\n",
       "0                  66%31%3%                   4   \n",
       "\n",
       "                                          Movie_Tags  \n",
       "0  ['音乐', '电影', '儿子', '丝绒', '人物', '传记', '传记片', '歌...  "
      ]
     },
     "execution_count": 1,
     "metadata": {},
     "output_type": "execute_result"
    }
   ],
   "source": [
    "import pandas as pd\n",
    "\n",
    "# demo 验证\n",
    "train_df = pd.read_csv('Data/Movie_RS.csv')\n",
    "print(train_df.shape)\n",
    "train_df.head(1)"
   ]
  },
  {
   "cell_type": "markdown",
   "metadata": {},
   "source": [
    "数据预处理。"
   ]
  },
  {
   "cell_type": "code",
   "execution_count": 2,
   "metadata": {},
   "outputs": [
    {
     "name": "stdout",
     "output_type": "stream",
     "text": [
      "<class 'pandas.core.frame.DataFrame'>\n",
      "Int64Index: 26 entries, 0 to 9848\n",
      "Data columns (total 13 columns):\n",
      "ID                           26 non-null int64\n",
      "Movie_Name                   26 non-null object\n",
      "Movie_Score                  26 non-null float64\n",
      "Review_Count                 26 non-null int64\n",
      "Movie_Star_Distribution      26 non-null object\n",
      "Collect_Date                 26 non-null object\n",
      "Username                     26 non-null object\n",
      "Post_Date                    26 non-null object\n",
      "Score                        26 non-null int64\n",
      "User_Comment                 26 non-null object\n",
      "User_Comment_Distribution    26 non-null object\n",
      "Comment_Like_Count           26 non-null int64\n",
      "Movie_Tags                   26 non-null object\n",
      "dtypes: float64(1), int64(4), object(8)\n",
      "memory usage: 2.8+ KB\n"
     ]
    }
   ],
   "source": [
    "# 只保留电影信息\n",
    "train_df.drop_duplicates(\n",
    "    subset=['Movie_Name'], keep='first', inplace=True)\n",
    "\n",
    "# 打印电影的数据结构\n",
    "train_df.info()"
   ]
  },
  {
   "cell_type": "markdown",
   "metadata": {},
   "source": [
    "### 数据预处理"
   ]
  },
  {
   "cell_type": "code",
   "execution_count": 11,
   "metadata": {},
   "outputs": [],
   "source": [
    "# 控制推荐质量，设置电影打分阈值 Threshold\n",
    "Threshold = 7.5\n",
    "train_df = train_df[train_df['Movie_Score'] > Threshold]"
   ]
  },
  {
   "cell_type": "code",
   "execution_count": 12,
   "metadata": {},
   "outputs": [],
   "source": [
    "# 建立用户名和 id 映射的字典\n",
    "user_dict = {value: index for index,\n",
    "             value in enumerate(train_df['Username'].unique())}\n",
    "# 开始对原数据进行转换\n",
    "train_df['uid_int'] = train_df['Username'].apply(lambda x: user_dict[x])\n",
    "\n",
    "\n",
    "# 建立电影名和 id 映射的字典\n",
    "item_dict = {value: index for index, value in enumerate(\n",
    "    train_df['Movie_Name'].unique())}\n",
    "# 开始对原数据进行转换\n",
    "train_df['item_int'] = train_df['Movie_Name'].apply(lambda x: item_dict[x])\n",
    "\n",
    "\n",
    "# 用户 id 字典翻转\n",
    "reverse_user_dict = {v: k for k, v in user_dict.items()}\n",
    "# 电影 id 字典翻转\n",
    "reverse_item_dict = {v: k for k, v in item_dict.items()}"
   ]
  },
  {
   "cell_type": "markdown",
   "metadata": {},
   "source": [
    "设置电影和用户特征。"
   ]
  },
  {
   "cell_type": "code",
   "execution_count": 13,
   "metadata": {},
   "outputs": [],
   "source": [
    "# 电影特征\n",
    "items_f = ['Movie_Score', 'Review_Count', 'item_int', 'Movie_Name','Movie_Tags']\n",
    "\n",
    "# 用户特征\n",
    "users_f = ['uid_int','User_Comment_Distribution','Username']"
   ]
  },
  {
   "cell_type": "markdown",
   "metadata": {},
   "source": [
    "### 基于标签的最近邻电影推荐"
   ]
  },
  {
   "cell_type": "code",
   "execution_count": 14,
   "metadata": {},
   "outputs": [],
   "source": [
    "from sklearn.metrics.pairwise import cosine_similarity\n",
    "from sklearn.feature_extraction.text import TfidfVectorizer\n",
    "\n",
    "# 定义近邻检索函数\n",
    "def get_movie_recommendations(movie_realname, cosine_sim, topk):\n",
    "    idx = item_dict[movie_realname]\n",
    "    # 去除自身，自己和自己的计算结果是 1\n",
    "    sim_scores = sorted(\n",
    "        enumerate(cosine_sim[idx]), key=lambda x: x[1], reverse=True)[1:topk+1]\n",
    "    return sim_scores"
   ]
  },
  {
   "cell_type": "markdown",
   "metadata": {},
   "source": [
    "#### 标签向量化"
   ]
  },
  {
   "cell_type": "code",
   "execution_count": 15,
   "metadata": {},
   "outputs": [
    {
     "name": "stdout",
     "output_type": "stream",
     "text": [
      "CPU times: user 0 ns, sys: 0 ns, total: 0 ns\n",
      "Wall time: 771 µs\n"
     ]
    }
   ],
   "source": [
    "# 初始化标签向量化函数,并设置最大的词数限制\n",
    "content_vec = TfidfVectorizer(min_df=1)\n",
    "\n",
    "# 文本向量化\n",
    "count_matrix = content_vec.fit_transform(train_df['Movie_Tags'])\n",
    "\n",
    "# 两两内容的相似度计算\n",
    "%time cosine_sim_result = cosine_similarity(count_matrix)"
   ]
  },
  {
   "cell_type": "markdown",
   "metadata": {},
   "source": [
    "假设当前电影 id，并打印详细信息。"
   ]
  },
  {
   "cell_type": "code",
   "execution_count": 16,
   "metadata": {},
   "outputs": [
    {
     "data": {
      "text/html": [
       "<div>\n",
       "<style scoped>\n",
       "    .dataframe tbody tr th:only-of-type {\n",
       "        vertical-align: middle;\n",
       "    }\n",
       "\n",
       "    .dataframe tbody tr th {\n",
       "        vertical-align: top;\n",
       "    }\n",
       "\n",
       "    .dataframe thead th {\n",
       "        text-align: right;\n",
       "    }\n",
       "</style>\n",
       "<table border=\"1\" class=\"dataframe\">\n",
       "  <thead>\n",
       "    <tr style=\"text-align: right;\">\n",
       "      <th></th>\n",
       "      <th>Movie_Score</th>\n",
       "      <th>Review_Count</th>\n",
       "      <th>item_int</th>\n",
       "      <th>Movie_Name</th>\n",
       "      <th>Movie_Tags</th>\n",
       "    </tr>\n",
       "  </thead>\n",
       "  <tbody>\n",
       "    <tr>\n",
       "      <th>2973</th>\n",
       "      <td>7.8</td>\n",
       "      <td>2079</td>\n",
       "      <td>5</td>\n",
       "      <td>一曲难忘 A Song to Remember</td>\n",
       "      <td>['电影', '音乐', '老师', '教授', '音乐课', '时候', '艺术', '有...</td>\n",
       "    </tr>\n",
       "  </tbody>\n",
       "</table>\n",
       "</div>"
      ],
      "text/plain": [
       "      Movie_Score  Review_Count  item_int               Movie_Name  \\\n",
       "2973          7.8          2079         5  一曲难忘 A Song to Remember   \n",
       "\n",
       "                                             Movie_Tags  \n",
       "2973  ['电影', '音乐', '老师', '教授', '音乐课', '时候', '艺术', '有...  "
      ]
     },
     "execution_count": 16,
     "metadata": {},
     "output_type": "execute_result"
    }
   ],
   "source": [
    "# 输入电影名字\n",
    "movie_realname = '一曲难忘 A Song to Remember'\n",
    "\n",
    "# 打印电影信息\n",
    "train_df.loc[train_df['Movie_Name'].isin([movie_realname])].drop_duplicates(\n",
    "    'item_int', keep='first', inplace=False)[items_f].head()"
   ]
  },
  {
   "cell_type": "markdown",
   "metadata": {},
   "source": [
    "通过建立的电影 id 向量，找到最近的 tokn 个电影。"
   ]
  },
  {
   "cell_type": "code",
   "execution_count": 17,
   "metadata": {},
   "outputs": [
    {
     "name": "stdout",
     "output_type": "stream",
     "text": [
      "CPU times: user 0 ns, sys: 0 ns, total: 0 ns\n",
      "Wall time: 42.4 µs\n"
     ]
    },
    {
     "data": {
      "text/plain": [
       "[(6, 0.26741533732321265),\n",
       " (11, 0.23743498387740047),\n",
       " (9, 0.15544874263702108),\n",
       " (1, 0.14327359758576902),\n",
       " (7, 0.12276024698244593)]"
      ]
     },
     "execution_count": 17,
     "metadata": {},
     "output_type": "execute_result"
    }
   ],
   "source": [
    "topn = 5\n",
    "\n",
    "# 开始进行进行近邻推荐,输出电影 id 和近邻计算的分数\n",
    "%time ANN_List = get_movie_recommendations(movie_realname, cosine_sim_result, topn)\n",
    "ANN_List"
   ]
  },
  {
   "cell_type": "markdown",
   "metadata": {},
   "source": [
    "打印近邻的电影信息。"
   ]
  },
  {
   "cell_type": "code",
   "execution_count": 18,
   "metadata": {},
   "outputs": [
    {
     "data": {
      "text/html": [
       "<div>\n",
       "<style scoped>\n",
       "    .dataframe tbody tr th:only-of-type {\n",
       "        vertical-align: middle;\n",
       "    }\n",
       "\n",
       "    .dataframe tbody tr th {\n",
       "        vertical-align: top;\n",
       "    }\n",
       "\n",
       "    .dataframe thead th {\n",
       "        text-align: right;\n",
       "    }\n",
       "</style>\n",
       "<table border=\"1\" class=\"dataframe\">\n",
       "  <thead>\n",
       "    <tr style=\"text-align: right;\">\n",
       "      <th></th>\n",
       "      <th>Movie_Score</th>\n",
       "      <th>Review_Count</th>\n",
       "      <th>item_int</th>\n",
       "      <th>Movie_Name</th>\n",
       "      <th>Movie_Tags</th>\n",
       "    </tr>\n",
       "  </thead>\n",
       "  <tbody>\n",
       "    <tr>\n",
       "      <th>373</th>\n",
       "      <td>7.9</td>\n",
       "      <td>12803</td>\n",
       "      <td>1</td>\n",
       "      <td>42号传奇 42</td>\n",
       "      <td>['成就', '励志', '桥段', '夫妻', '棒球', '电影', '核心', '数字...</td>\n",
       "    </tr>\n",
       "    <tr>\n",
       "      <th>3679</th>\n",
       "      <td>7.9</td>\n",
       "      <td>4395</td>\n",
       "      <td>6</td>\n",
       "      <td>一轮明月</td>\n",
       "      <td>['电影', '大师', '人物', '感觉', '人生', '主旋律', '流水账', '...</td>\n",
       "    </tr>\n",
       "    <tr>\n",
       "      <th>4477</th>\n",
       "      <td>7.6</td>\n",
       "      <td>2620</td>\n",
       "      <td>7</td>\n",
       "      <td>七小福</td>\n",
       "      <td>['电影', '故事', '时代', '师父', '传统', '感人', '片场', '京剧...</td>\n",
       "    </tr>\n",
       "    <tr>\n",
       "      <th>5394</th>\n",
       "      <td>9.3</td>\n",
       "      <td>1010</td>\n",
       "      <td>9</td>\n",
       "      <td>三个臭皮匠 The Three Stooges</td>\n",
       "      <td>['喜剧', '小时候', '时候', '经典', '电视', '电影', '电视剧', '...</td>\n",
       "    </tr>\n",
       "    <tr>\n",
       "      <th>8811</th>\n",
       "      <td>8.0</td>\n",
       "      <td>3581</td>\n",
       "      <td>11</td>\n",
       "      <td>不朽真情 Immortal Beloved</td>\n",
       "      <td>['音乐', '电影', '爱情', '故事', '有点', '剧情', '天才', '狗血...</td>\n",
       "    </tr>\n",
       "  </tbody>\n",
       "</table>\n",
       "</div>"
      ],
      "text/plain": [
       "      Movie_Score  Review_Count  item_int               Movie_Name  \\\n",
       "373           7.9         12803         1                 42号传奇 42   \n",
       "3679          7.9          4395         6                     一轮明月   \n",
       "4477          7.6          2620         7                      七小福   \n",
       "5394          9.3          1010         9  三个臭皮匠 The Three Stooges   \n",
       "8811          8.0          3581        11    不朽真情 Immortal Beloved   \n",
       "\n",
       "                                             Movie_Tags  \n",
       "373   ['成就', '励志', '桥段', '夫妻', '棒球', '电影', '核心', '数字...  \n",
       "3679  ['电影', '大师', '人物', '感觉', '人生', '主旋律', '流水账', '...  \n",
       "4477  ['电影', '故事', '时代', '师父', '传统', '感人', '片场', '京剧...  \n",
       "5394  ['喜剧', '小时候', '时候', '经典', '电视', '电影', '电视剧', '...  \n",
       "8811  ['音乐', '电影', '爱情', '故事', '有点', '剧情', '天才', '狗血...  "
      ]
     },
     "execution_count": 18,
     "metadata": {},
     "output_type": "execute_result"
    }
   ],
   "source": [
    "# 数据去重，保留首先出现的数据。\n",
    "ANN_List_Info = train_df.loc[train_df['item_int'].isin(\n",
    "    [i[0] for i in ANN_List])].drop_duplicates('item_int', keep='first', inplace=False)\n",
    "\n",
    "# 近邻检索的数据\n",
    "ANN_List_Info[items_f].head()"
   ]
  },
  {
   "cell_type": "markdown",
   "metadata": {},
   "source": [
    "#### 应用推广\n",
    "主要根据标签之间的相似度进行近邻检索进行推荐的一种方式。\n",
    "\n",
    "1. 用户电影之间的电影近邻推荐。\n",
    "2. 用户用户之间的用户近邻推荐。"
   ]
  }
 ],
 "metadata": {
  "kernelspec": {
   "display_name": "p3venv",
   "language": "python",
   "name": "p3venv"
  },
  "language_info": {
   "codemirror_mode": {
    "name": "ipython",
    "version": 3
   },
   "file_extension": ".py",
   "mimetype": "text/x-python",
   "name": "python",
   "nbconvert_exporter": "python",
   "pygments_lexer": "ipython3",
   "version": "3.6.10"
  },
  "toc": {
   "base_numbering": 1,
   "nav_menu": {},
   "number_sections": true,
   "sideBar": true,
   "skip_h1_title": false,
   "title_cell": "Table of Contents",
   "title_sidebar": "Contents",
   "toc_cell": false,
   "toc_position": {},
   "toc_section_display": true,
   "toc_window_display": false
  }
 },
 "nbformat": 4,
 "nbformat_minor": 4
}
