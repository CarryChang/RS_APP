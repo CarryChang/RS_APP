{
 "cells": [
  {
   "cell_type": "markdown",
   "metadata": {},
   "source": [
    "## 推荐模型训练"
   ]
  },
  {
   "cell_type": "code",
   "execution_count": 1,
   "metadata": {
    "scrolled": true
   },
   "outputs": [
    {
     "name": "stdout",
     "output_type": "stream",
     "text": [
      "(10000, 13)\n"
     ]
    },
    {
     "data": {
      "text/html": [
       "<div>\n",
       "<style scoped>\n",
       "    .dataframe tbody tr th:only-of-type {\n",
       "        vertical-align: middle;\n",
       "    }\n",
       "\n",
       "    .dataframe tbody tr th {\n",
       "        vertical-align: top;\n",
       "    }\n",
       "\n",
       "    .dataframe thead th {\n",
       "        text-align: right;\n",
       "    }\n",
       "</style>\n",
       "<table border=\"1\" class=\"dataframe\">\n",
       "  <thead>\n",
       "    <tr style=\"text-align: right;\">\n",
       "      <th></th>\n",
       "      <th>ID</th>\n",
       "      <th>Movie_Name</th>\n",
       "      <th>Movie_Score</th>\n",
       "      <th>Review_Count</th>\n",
       "      <th>Movie_Star_Distribution</th>\n",
       "      <th>Collect_Date</th>\n",
       "      <th>Username</th>\n",
       "      <th>Post_Date</th>\n",
       "      <th>Score</th>\n",
       "      <th>User_Comment</th>\n",
       "      <th>User_Comment_Distribution</th>\n",
       "      <th>Comment_Like_Count</th>\n",
       "      <th>Movie_Tags</th>\n",
       "    </tr>\n",
       "  </thead>\n",
       "  <tbody>\n",
       "    <tr>\n",
       "      <th>0</th>\n",
       "      <td>0</td>\n",
       "      <td>1988年的妮可 Nico, 1988</td>\n",
       "      <td>7.5</td>\n",
       "      <td>565</td>\n",
       "      <td>15.2%48.2%32.3%3.4%0.8%</td>\n",
       "      <td>2019-10-05</td>\n",
       "      <td>尾黑</td>\n",
       "      <td>2018-06-23</td>\n",
       "      <td>3</td>\n",
       "      <td>成本低廉的PPT电影，用Nico生命中最后一年发生的事给Nico的歌配上情节，倒不算尴尬。女...</td>\n",
       "      <td>66%31%3%</td>\n",
       "      <td>4</td>\n",
       "      <td>['音乐', '电影', '儿子', '丝绒', '人物', '传记', '传记片', '歌...</td>\n",
       "    </tr>\n",
       "  </tbody>\n",
       "</table>\n",
       "</div>"
      ],
      "text/plain": [
       "   ID           Movie_Name  Movie_Score  Review_Count  \\\n",
       "0   0  1988年的妮可 Nico, 1988          7.5           565   \n",
       "\n",
       "   Movie_Star_Distribution Collect_Date Username   Post_Date  Score  \\\n",
       "0  15.2%48.2%32.3%3.4%0.8%   2019-10-05       尾黑  2018-06-23      3   \n",
       "\n",
       "                                        User_Comment  \\\n",
       "0  成本低廉的PPT电影，用Nico生命中最后一年发生的事给Nico的歌配上情节，倒不算尴尬。女...   \n",
       "\n",
       "  User_Comment_Distribution  Comment_Like_Count  \\\n",
       "0                  66%31%3%                   4   \n",
       "\n",
       "                                          Movie_Tags  \n",
       "0  ['音乐', '电影', '儿子', '丝绒', '人物', '传记', '传记片', '歌...  "
      ]
     },
     "execution_count": 1,
     "metadata": {},
     "output_type": "execute_result"
    }
   ],
   "source": [
    "import pandas as pd\n",
    "\n",
    "# 数据加载\n",
    "train_df = pd.read_csv('Data/Movie_RS.csv')\n",
    "print(train_df.shape)\n",
    "train_df.head(1)"
   ]
  },
  {
   "cell_type": "code",
   "execution_count": 2,
   "metadata": {},
   "outputs": [
    {
     "name": "stdout",
     "output_type": "stream",
     "text": [
      "<class 'pandas.core.frame.DataFrame'>\n",
      "Int64Index: 9999 entries, 0 to 9999\n",
      "Data columns (total 13 columns):\n",
      "ID                           9999 non-null int64\n",
      "Movie_Name                   9999 non-null object\n",
      "Movie_Score                  9999 non-null float64\n",
      "Review_Count                 9999 non-null int64\n",
      "Movie_Star_Distribution      9999 non-null object\n",
      "Collect_Date                 9999 non-null object\n",
      "Username                     9999 non-null object\n",
      "Post_Date                    9999 non-null object\n",
      "Score                        9999 non-null int64\n",
      "User_Comment                 9999 non-null object\n",
      "User_Comment_Distribution    9999 non-null object\n",
      "Comment_Like_Count           9999 non-null int64\n",
      "Movie_Tags                   9999 non-null object\n",
      "dtypes: float64(1), int64(4), object(8)\n",
      "memory usage: 1.1+ MB\n"
     ]
    }
   ],
   "source": [
    "# 去除空值\n",
    "train_df.dropna(axis=0, how='any', inplace=True)\n",
    "train_df.info()"
   ]
  },
  {
   "cell_type": "code",
   "execution_count": 3,
   "metadata": {},
   "outputs": [
    {
     "name": "stdout",
     "output_type": "stream",
     "text": [
      "Looking in indexes: https://pypi.tuna.tsinghua.edu.cn/simple\n",
      "Requirement already satisfied: lightfm in /home/carry/p36venv/lib/python3.6/site-packages (1.15)\n",
      "Requirement already satisfied: scipy>=0.17.0 in /home/carry/p36venv/lib/python3.6/site-packages (from lightfm) (1.4.1)\n",
      "Requirement already satisfied: numpy in /home/carry/p36venv/lib/python3.6/site-packages (from lightfm) (1.17.0)\n",
      "Requirement already satisfied: requests in /home/carry/p36venv/lib/python3.6/site-packages (from lightfm) (2.22.0)\n",
      "Requirement already satisfied: chardet<3.1.0,>=3.0.2 in /home/carry/p36venv/lib/python3.6/site-packages (from requests->lightfm) (3.0.4)\n",
      "Requirement already satisfied: urllib3!=1.25.0,!=1.25.1,<1.26,>=1.21.1 in /home/carry/p36venv/lib/python3.6/site-packages (from requests->lightfm) (1.25.7)\n",
      "Requirement already satisfied: certifi>=2017.4.17 in /home/carry/p36venv/lib/python3.6/site-packages (from requests->lightfm) (2019.11.28)\n",
      "Requirement already satisfied: idna<2.9,>=2.5 in /home/carry/p36venv/lib/python3.6/site-packages (from requests->lightfm) (2.8)\n"
     ]
    }
   ],
   "source": [
    "!pip install lightfm"
   ]
  },
  {
   "cell_type": "code",
   "execution_count": 4,
   "metadata": {},
   "outputs": [],
   "source": [
    "from sklearn.metrics.pairwise import cosine_similarity\n",
    "from lightfm import LightFM, cross_validation\n",
    "from scipy.sparse import csr_matrix, coo_matrix\n",
    "from lightfm.evaluation import auc_score\n",
    "from lightfm.data import Dataset\n",
    "import numpy as np"
   ]
  },
  {
   "cell_type": "markdown",
   "metadata": {},
   "source": [
    "### 数据预处理"
   ]
  },
  {
   "cell_type": "code",
   "execution_count": 5,
   "metadata": {},
   "outputs": [],
   "source": [
    "# 建立用户名和 id 映射的字典\n",
    "user_dict = {value: index for index, value in enumerate(train_df['Username'].unique())}    \n",
    "    \n",
    "# 开始对原数据进行转换\n",
    "train_df['uid_int'] = train_df['Username'].apply(lambda x: user_dict[x])\n",
    "\n",
    "# 用户 id 字典翻转\n",
    "reverse_user_dict = {v: k for k, v in user_dict.items()}\n",
    "\n",
    "# 建立电影名和 id 映射的字典\n",
    "item_dict = {value: index for index, value in enumerate(train_df['Movie_Name'].unique())}  \n",
    "    \n",
    "# 开始对原数据进行转换\n",
    "train_df['item_int'] = train_df['Movie_Name'].apply(lambda x: item_dict[x])\n",
    "\n",
    "# 电影 id 字典翻转\n",
    "reverse_item_dict = {v: k for k, v in item_dict.items()}\n",
    "\n",
    "# 对电影标签进行处理\n",
    "train_df['New_Movie_Tags'] = train_df['Movie_Tags'].apply(\n",
    "    lambda x: ','.join(eval(x)))\n",
    "\n",
    "# 对电影打分分布进行处理\n",
    "train_df['New_Movie_Star_Distribution'] = train_df['Movie_Star_Distribution'].apply(\n",
    "    lambda x: ','.join(x.split('%')))\n",
    "\n",
    "# 对用户打分分布进行处理\n",
    "train_df['New_User_Comment_Distribution'] = train_df['User_Comment_Distribution'].apply(\n",
    "    lambda x: ','.join(x.split('%')))"
   ]
  },
  {
   "cell_type": "markdown",
   "metadata": {},
   "source": [
    "#### 设置电影和用户特征"
   ]
  },
  {
   "cell_type": "code",
   "execution_count": 6,
   "metadata": {},
   "outputs": [
    {
     "data": {
      "text/html": [
       "<div>\n",
       "<style scoped>\n",
       "    .dataframe tbody tr th:only-of-type {\n",
       "        vertical-align: middle;\n",
       "    }\n",
       "\n",
       "    .dataframe tbody tr th {\n",
       "        vertical-align: top;\n",
       "    }\n",
       "\n",
       "    .dataframe thead th {\n",
       "        text-align: right;\n",
       "    }\n",
       "</style>\n",
       "<table border=\"1\" class=\"dataframe\">\n",
       "  <thead>\n",
       "    <tr style=\"text-align: right;\">\n",
       "      <th></th>\n",
       "      <th>ID</th>\n",
       "      <th>Movie_Name</th>\n",
       "      <th>Movie_Score</th>\n",
       "      <th>Review_Count</th>\n",
       "      <th>Movie_Star_Distribution</th>\n",
       "      <th>Collect_Date</th>\n",
       "      <th>Username</th>\n",
       "      <th>Post_Date</th>\n",
       "      <th>Score</th>\n",
       "      <th>User_Comment</th>\n",
       "      <th>User_Comment_Distribution</th>\n",
       "      <th>Comment_Like_Count</th>\n",
       "      <th>Movie_Tags</th>\n",
       "      <th>uid_int</th>\n",
       "      <th>item_int</th>\n",
       "      <th>New_Movie_Tags</th>\n",
       "      <th>New_Movie_Star_Distribution</th>\n",
       "      <th>New_User_Comment_Distribution</th>\n",
       "    </tr>\n",
       "  </thead>\n",
       "  <tbody>\n",
       "    <tr>\n",
       "      <th>0</th>\n",
       "      <td>0</td>\n",
       "      <td>1988年的妮可 Nico, 1988</td>\n",
       "      <td>7.5</td>\n",
       "      <td>565</td>\n",
       "      <td>15.2%48.2%32.3%3.4%0.8%</td>\n",
       "      <td>2019-10-05</td>\n",
       "      <td>尾黑</td>\n",
       "      <td>2018-06-23</td>\n",
       "      <td>3</td>\n",
       "      <td>成本低廉的PPT电影，用Nico生命中最后一年发生的事给Nico的歌配上情节，倒不算尴尬。女...</td>\n",
       "      <td>66%31%3%</td>\n",
       "      <td>4</td>\n",
       "      <td>['音乐', '电影', '儿子', '丝绒', '人物', '传记', '传记片', '歌...</td>\n",
       "      <td>0</td>\n",
       "      <td>0</td>\n",
       "      <td>音乐,电影,儿子,丝绒,人物,传记,传记片,歌声,巅峰,人生,经历,故事,电影节,女主,女人...</td>\n",
       "      <td>15.2,48.2,32.3,3.4,0.8,</td>\n",
       "      <td>66,31,3,</td>\n",
       "    </tr>\n",
       "  </tbody>\n",
       "</table>\n",
       "</div>"
      ],
      "text/plain": [
       "   ID           Movie_Name  Movie_Score  Review_Count  \\\n",
       "0   0  1988年的妮可 Nico, 1988          7.5           565   \n",
       "\n",
       "   Movie_Star_Distribution Collect_Date Username   Post_Date  Score  \\\n",
       "0  15.2%48.2%32.3%3.4%0.8%   2019-10-05       尾黑  2018-06-23      3   \n",
       "\n",
       "                                        User_Comment  \\\n",
       "0  成本低廉的PPT电影，用Nico生命中最后一年发生的事给Nico的歌配上情节，倒不算尴尬。女...   \n",
       "\n",
       "  User_Comment_Distribution  Comment_Like_Count  \\\n",
       "0                  66%31%3%                   4   \n",
       "\n",
       "                                          Movie_Tags  uid_int  item_int  \\\n",
       "0  ['音乐', '电影', '儿子', '丝绒', '人物', '传记', '传记片', '歌...        0         0   \n",
       "\n",
       "                                      New_Movie_Tags  \\\n",
       "0  音乐,电影,儿子,丝绒,人物,传记,传记片,歌声,巅峰,人生,经历,故事,电影节,女主,女人...   \n",
       "\n",
       "  New_Movie_Star_Distribution New_User_Comment_Distribution  \n",
       "0     15.2,48.2,32.3,3.4,0.8,                      66,31,3,  "
      ]
     },
     "execution_count": 6,
     "metadata": {},
     "output_type": "execute_result"
    }
   ],
   "source": [
    "train_df.head(1)"
   ]
  },
  {
   "cell_type": "code",
   "execution_count": 7,
   "metadata": {},
   "outputs": [],
   "source": [
    "# 电影特征\n",
    "items_f = ['Movie_Score', 'Review_Count', 'item_int',\n",
    "           'New_Movie_Tags', 'New_Movie_Star_Distribution']\n",
    "\n",
    "# 用户特征\n",
    "users_f = ['uid_int', 'New_User_Comment_Distribution']"
   ]
  },
  {
   "cell_type": "markdown",
   "metadata": {},
   "source": [
    "#### 数据划分"
   ]
  },
  {
   "cell_type": "markdown",
   "metadata": {},
   "source": [
    "优化特征提取:\n",
    "1. 电影信息拆分:单独编码\n",
    "2. 用户信息拆分：单独编码\n",
    "3. 通过交互信息进行 join"
   ]
  },
  {
   "cell_type": "markdown",
   "metadata": {},
   "source": [
    "用户交互表划分"
   ]
  },
  {
   "cell_type": "code",
   "execution_count": 8,
   "metadata": {
    "scrolled": true
   },
   "outputs": [
    {
     "data": {
      "text/plain": [
       "(9999, 3)"
      ]
     },
     "execution_count": 8,
     "metadata": {},
     "output_type": "execute_result"
    }
   ],
   "source": [
    "user_post_event = train_df[['uid_int', 'item_int', 'Score']]\n",
    "user_post_event.shape"
   ]
  },
  {
   "cell_type": "markdown",
   "metadata": {},
   "source": [
    "电影信息表划分"
   ]
  },
  {
   "cell_type": "code",
   "execution_count": 9,
   "metadata": {},
   "outputs": [
    {
     "data": {
      "text/plain": [
       "(26, 5)"
      ]
     },
     "execution_count": 9,
     "metadata": {},
     "output_type": "execute_result"
    }
   ],
   "source": [
    "movie_info_temp = train_df[items_f].drop_duplicates(\n",
    "    'item_int', keep='first', inplace=False)\n",
    "movie_info_temp.shape"
   ]
  },
  {
   "cell_type": "markdown",
   "metadata": {},
   "source": [
    "用户信息表划分"
   ]
  },
  {
   "cell_type": "code",
   "execution_count": 10,
   "metadata": {},
   "outputs": [
    {
     "data": {
      "text/plain": [
       "(9004, 2)"
      ]
     },
     "execution_count": 10,
     "metadata": {},
     "output_type": "execute_result"
    }
   ],
   "source": [
    "user_info_temp = train_df[users_f].drop_duplicates(\n",
    "    'uid_int', keep='first', inplace=False)\n",
    "user_info_temp.shape"
   ]
  },
  {
   "cell_type": "code",
   "execution_count": 11,
   "metadata": {},
   "outputs": [
    {
     "name": "stdout",
     "output_type": "stream",
     "text": [
      "CPU times: user 84 ms, sys: 0 ns, total: 84 ms\n",
      "Wall time: 84.3 ms\n"
     ]
    }
   ],
   "source": [
    "def create_features(dataframe, features_name, id_col_name):\n",
    "    # 特征分离\n",
    "    features = dataframe[features_name].apply(\n",
    "        lambda x: ','.join(x.map(str)), axis=1)\n",
    "    features = features.str.split(',')\n",
    "    features1 = list(zip(dataframe[id_col_name], features))\n",
    "    features2 = features.apply(pd.Series).stack().reset_index(drop=True)\n",
    "    return features1, features2\n",
    "\n",
    "\n",
    "# 电影特征编码\n",
    "%time movie_info_temp['items_features'], item_feature_list = create_features(movie_info_temp, items_f, 'item_int')"
   ]
  },
  {
   "cell_type": "code",
   "execution_count": 12,
   "metadata": {},
   "outputs": [
    {
     "name": "stdout",
     "output_type": "stream",
     "text": [
      "CPU times: user 4.86 s, sys: 56 ms, total: 4.92 s\n",
      "Wall time: 4.93 s\n"
     ]
    }
   ],
   "source": [
    "# 用户特征编码\n",
    "%time user_info_temp['users_features'], user_feature_list = create_features(user_info_temp, users_f, 'uid_int')"
   ]
  },
  {
   "cell_type": "code",
   "execution_count": 13,
   "metadata": {},
   "outputs": [
    {
     "data": {
      "text/plain": [
       "array([3, 1, 2, 4, 5])"
      ]
     },
     "execution_count": 13,
     "metadata": {},
     "output_type": "execute_result"
    }
   ],
   "source": [
    "# 开始制作数据集\n",
    "make_dataset = Dataset()\n",
    "make_dataset.fit(user_info_temp['uid_int'], movie_info_temp['item_int'],\n",
    "                 item_features=item_feature_list, user_features=user_feature_list)\n",
    "\n",
    "# 构建打分矩阵\n",
    "interactions, weights = make_dataset.build_interactions(\n",
    "    list(zip(user_post_event['uid_int'], user_post_event['item_int'], user_post_event['Score'])))\n",
    "\n",
    "# 打印用户评分\n",
    "train_df['Score'].unique()"
   ]
  },
  {
   "cell_type": "markdown",
   "metadata": {},
   "source": [
    "### 训练推荐系统的模型"
   ]
  },
  {
   "cell_type": "code",
   "execution_count": 14,
   "metadata": {},
   "outputs": [],
   "source": [
    "# model load\n",
    "model_test = LightFM(no_components=30, random_state=1)\n",
    "\n",
    "# 固定划分数据\n",
    "train, test = cross_validation.random_train_test_split(\n",
    "    interactions, test_percentage=0.2)"
   ]
  },
  {
   "cell_type": "markdown",
   "metadata": {},
   "source": [
    "模型训练"
   ]
  },
  {
   "cell_type": "code",
   "execution_count": 15,
   "metadata": {},
   "outputs": [
    {
     "name": "stdout",
     "output_type": "stream",
     "text": [
      "CPU times: user 744 ms, sys: 0 ns, total: 744 ms\n",
      "Wall time: 745 ms\n"
     ]
    },
    {
     "data": {
      "text/plain": [
       "<lightfm.lightfm.LightFM at 0x7f07ca5c2780>"
      ]
     },
     "execution_count": 15,
     "metadata": {},
     "output_type": "execute_result"
    }
   ],
   "source": [
    "# 电影特征处理\n",
    "items_features = make_dataset.build_item_features(\n",
    "    movie_info_temp['items_features'])\n",
    "\n",
    "# 用户特征处理\n",
    "users_features = make_dataset.build_user_features(\n",
    "    user_info_temp['users_features'])\n",
    "\n",
    "# model train\n",
    "%time model_test.fit(train, item_features=items_features, user_features=users_features, epochs=10, verbose=False)"
   ]
  },
  {
   "cell_type": "markdown",
   "metadata": {},
   "source": [
    "模型验证"
   ]
  },
  {
   "cell_type": "code",
   "execution_count": 16,
   "metadata": {},
   "outputs": [
    {
     "data": {
      "text/plain": [
       "0.7186843"
      ]
     },
     "execution_count": 16,
     "metadata": {},
     "output_type": "execute_result"
    }
   ],
   "source": [
    "# 对推荐模型的性能进行评测\n",
    "auc = auc_score(model_test, test, item_features=items_features,\n",
    "                user_features=users_features)\n",
    "\n",
    "# 计算 auc 的均值\n",
    "np.mean(auc)"
   ]
  },
  {
   "cell_type": "markdown",
   "metadata": {},
   "source": [
    "## 推荐场景梳理"
   ]
  },
  {
   "cell_type": "markdown",
   "metadata": {},
   "source": [
    "### 首页用户个性化推荐\n",
    "1. 包含召回和排序两个部分。\n",
    "2. 适合首页 Feed 流的离线推荐计算场景。"
   ]
  },
  {
   "cell_type": "markdown",
   "metadata": {},
   "source": [
    "使用全量数据进行推荐模型训练。"
   ]
  },
  {
   "cell_type": "code",
   "execution_count": 17,
   "metadata": {},
   "outputs": [
    {
     "name": "stdout",
     "output_type": "stream",
     "text": [
      "CPU times: user 3.04 s, sys: 4 ms, total: 3.04 s\n",
      "Wall time: 3.04 s\n"
     ]
    },
    {
     "data": {
      "text/plain": [
       "<lightfm.lightfm.LightFM at 0x7f07cb5207b8>"
      ]
     },
     "execution_count": 17,
     "metadata": {},
     "output_type": "execute_result"
    }
   ],
   "source": [
    "# 推荐模型训练\n",
    "model = LightFM(no_components=30, random_state=1)\n",
    "\n",
    "%time model.fit(interactions, sample_weight=weights, item_features=items_features, user_features=users_features, epochs=30,  verbose=False)"
   ]
  },
  {
   "cell_type": "markdown",
   "metadata": {},
   "source": [
    "召回\n",
    "1. 过滤用户看过的\n",
    "2. 尽可能找到用户喜欢的"
   ]
  },
  {
   "cell_type": "code",
   "execution_count": 18,
   "metadata": {},
   "outputs": [],
   "source": [
    "# 按照用户名进行推荐\n",
    "Username = '尾黑'\n",
    "\n",
    "# id 转换\n",
    "user_x = user_dict[Username]\n",
    "\n",
    "# 对电影进行去重\n",
    "allready_knews = train_df.loc[train_df['uid_int'].isin(\n",
    "    [user_x])].drop_duplicates('item_int', keep='first', inplace=False)"
   ]
  },
  {
   "cell_type": "markdown",
   "metadata": {},
   "source": [
    "暂时使用全量用户没看过的，且电影分数大于 Threshold 的电影作为召回。"
   ]
  },
  {
   "cell_type": "code",
   "execution_count": 19,
   "metadata": {},
   "outputs": [
    {
     "data": {
      "text/html": [
       "<div>\n",
       "<style scoped>\n",
       "    .dataframe tbody tr th:only-of-type {\n",
       "        vertical-align: middle;\n",
       "    }\n",
       "\n",
       "    .dataframe tbody tr th {\n",
       "        vertical-align: top;\n",
       "    }\n",
       "\n",
       "    .dataframe thead th {\n",
       "        text-align: right;\n",
       "    }\n",
       "</style>\n",
       "<table border=\"1\" class=\"dataframe\">\n",
       "  <thead>\n",
       "    <tr style=\"text-align: right;\">\n",
       "      <th></th>\n",
       "      <th>ID</th>\n",
       "      <th>Movie_Name</th>\n",
       "      <th>Movie_Score</th>\n",
       "      <th>Review_Count</th>\n",
       "      <th>Movie_Star_Distribution</th>\n",
       "      <th>Collect_Date</th>\n",
       "      <th>Username</th>\n",
       "      <th>Post_Date</th>\n",
       "      <th>Score</th>\n",
       "      <th>User_Comment</th>\n",
       "      <th>User_Comment_Distribution</th>\n",
       "      <th>Comment_Like_Count</th>\n",
       "      <th>Movie_Tags</th>\n",
       "      <th>uid_int</th>\n",
       "      <th>item_int</th>\n",
       "      <th>New_Movie_Tags</th>\n",
       "      <th>New_Movie_Star_Distribution</th>\n",
       "      <th>New_User_Comment_Distribution</th>\n",
       "    </tr>\n",
       "  </thead>\n",
       "  <tbody>\n",
       "    <tr>\n",
       "      <th>159</th>\n",
       "      <td>159</td>\n",
       "      <td>24小时狂欢派对 24 Hour Party People</td>\n",
       "      <td>7.9</td>\n",
       "      <td>1509</td>\n",
       "      <td>26.2%46.9%23.0%3.2%0.7%</td>\n",
       "      <td>2019-10-05</td>\n",
       "      <td>Lane</td>\n",
       "      <td>2008-09-22</td>\n",
       "      <td>3</td>\n",
       "      <td>080921 可能和真是一部for fans only的片子，反正我没看出特别多乐趣。只是W...</td>\n",
       "      <td>75%19%6%</td>\n",
       "      <td>0</td>\n",
       "      <td>['音乐', '纪录片', '电影', '时候', '演员', '片子', '工厂', '乐...</td>\n",
       "      <td>159</td>\n",
       "      <td>1</td>\n",
       "      <td>音乐,纪录片,电影,时候,演员,片子,工厂,乐队,感觉,流水,幻觉,文化,厂牌,手法,酸性,...</td>\n",
       "      <td>26.2,46.9,23.0,3.2,0.7,</td>\n",
       "      <td>75,19,6,</td>\n",
       "    </tr>\n",
       "  </tbody>\n",
       "</table>\n",
       "</div>"
      ],
      "text/plain": [
       "      ID                     Movie_Name  Movie_Score  Review_Count  \\\n",
       "159  159  24小时狂欢派对 24 Hour Party People          7.9          1509   \n",
       "\n",
       "     Movie_Star_Distribution Collect_Date Username   Post_Date  Score  \\\n",
       "159  26.2%46.9%23.0%3.2%0.7%   2019-10-05     Lane  2008-09-22      3   \n",
       "\n",
       "                                          User_Comment  \\\n",
       "159  080921 可能和真是一部for fans only的片子，反正我没看出特别多乐趣。只是W...   \n",
       "\n",
       "    User_Comment_Distribution  Comment_Like_Count  \\\n",
       "159                  75%19%6%                   0   \n",
       "\n",
       "                                            Movie_Tags  uid_int  item_int  \\\n",
       "159  ['音乐', '纪录片', '电影', '时候', '演员', '片子', '工厂', '乐...      159         1   \n",
       "\n",
       "                                        New_Movie_Tags  \\\n",
       "159  音乐,纪录片,电影,时候,演员,片子,工厂,乐队,感觉,流水,幻觉,文化,厂牌,手法,酸性,...   \n",
       "\n",
       "    New_Movie_Star_Distribution New_User_Comment_Distribution  \n",
       "159     26.2,46.9,23.0,3.2,0.7,                      75,19,6,  "
      ]
     },
     "execution_count": 19,
     "metadata": {},
     "output_type": "execute_result"
    }
   ],
   "source": [
    "# 过滤看过的内容\n",
    "known_items = allready_knews['item_int'].tolist()\n",
    "df_use_for_prediction = train_df.loc[~train_df['item_int'].isin(known_items)].drop_duplicates(\n",
    "    'item_int', keep='first', inplace=False)\n",
    "\n",
    "# 挑选高质量的电影\n",
    "Threshold = 7\n",
    "df_use_for_prediction = df_use_for_prediction[df_use_for_prediction['Movie_Score'] > Threshold]\n",
    "\n",
    "df_use_for_prediction.head(1)"
   ]
  },
  {
   "cell_type": "markdown",
   "metadata": {},
   "source": [
    "模型开始对召回的电影候选集进行打分。"
   ]
  },
  {
   "cell_type": "code",
   "execution_count": 20,
   "metadata": {},
   "outputs": [],
   "source": [
    "df_use_for_prediction['rec_score'] = model.predict(user_ids=user_x, item_ids=df_use_for_prediction['item_int'].tolist(),\n",
    "                                                   item_features=items_features, user_features=users_features)"
   ]
  },
  {
   "cell_type": "markdown",
   "metadata": {},
   "source": [
    "对排序结果进行 topk 选取。"
   ]
  },
  {
   "cell_type": "code",
   "execution_count": 21,
   "metadata": {},
   "outputs": [
    {
     "data": {
      "text/plain": [
       "[11, 19, 2, 8, 9]"
      ]
     },
     "execution_count": 21,
     "metadata": {},
     "output_type": "execute_result"
    }
   ],
   "source": [
    "# 取 topk\n",
    "top_rec_item = 5\n",
    "rec_list_ = df_use_for_prediction.sort_values(by='rec_score', ascending=False)[\n",
    "    :top_rec_item]['item_int']\n",
    "\n",
    "# 排序后的电影推荐列表\n",
    "rec_list_.tolist()"
   ]
  },
  {
   "cell_type": "code",
   "execution_count": 22,
   "metadata": {},
   "outputs": [
    {
     "data": {
      "text/html": [
       "<div>\n",
       "<style scoped>\n",
       "    .dataframe tbody tr th:only-of-type {\n",
       "        vertical-align: middle;\n",
       "    }\n",
       "\n",
       "    .dataframe tbody tr th {\n",
       "        vertical-align: top;\n",
       "    }\n",
       "\n",
       "    .dataframe thead th {\n",
       "        text-align: right;\n",
       "    }\n",
       "</style>\n",
       "<table border=\"1\" class=\"dataframe\">\n",
       "  <thead>\n",
       "    <tr style=\"text-align: right;\">\n",
       "      <th></th>\n",
       "      <th>Movie_Name</th>\n",
       "      <th>item_int</th>\n",
       "      <th>Movie_Score</th>\n",
       "      <th>Movie_Tags</th>\n",
       "    </tr>\n",
       "  </thead>\n",
       "  <tbody>\n",
       "    <tr>\n",
       "      <th>373</th>\n",
       "      <td>42号传奇 42</td>\n",
       "      <td>2</td>\n",
       "      <td>7.9</td>\n",
       "      <td>['成就', '励志', '桥段', '夫妻', '棒球', '电影', '核心', '数字...</td>\n",
       "    </tr>\n",
       "    <tr>\n",
       "      <th>2364</th>\n",
       "      <td>一年级生 The First Grader</td>\n",
       "      <td>8</td>\n",
       "      <td>8.1</td>\n",
       "      <td>['老人', '故事', '电影', '孩子', '历史', '励志', '影片', '剧情...</td>\n",
       "    </tr>\n",
       "    <tr>\n",
       "      <th>2973</th>\n",
       "      <td>一曲难忘 A Song to Remember</td>\n",
       "      <td>9</td>\n",
       "      <td>7.8</td>\n",
       "      <td>['电影', '音乐', '老师', '教授', '音乐课', '时候', '艺术', '有...</td>\n",
       "    </tr>\n",
       "    <tr>\n",
       "      <th>3679</th>\n",
       "      <td>一轮明月</td>\n",
       "      <td>11</td>\n",
       "      <td>7.9</td>\n",
       "      <td>['电影', '大师', '人物', '感觉', '人生', '主旋律', '流水账', '...</td>\n",
       "    </tr>\n",
       "    <tr>\n",
       "      <th>6230</th>\n",
       "      <td>不可告人 Ne le dis à personne</td>\n",
       "      <td>19</td>\n",
       "      <td>7.1</td>\n",
       "      <td>['有点', '故事', '悬疑片', '节奏', '电影', '法国人', '剧情', '...</td>\n",
       "    </tr>\n",
       "  </tbody>\n",
       "</table>\n",
       "</div>"
      ],
      "text/plain": [
       "                     Movie_Name  item_int  Movie_Score  \\\n",
       "373                    42号传奇 42         2          7.9   \n",
       "2364      一年级生 The First Grader         8          8.1   \n",
       "2973    一曲难忘 A Song to Remember         9          7.8   \n",
       "3679                       一轮明月        11          7.9   \n",
       "6230  不可告人 Ne le dis à personne        19          7.1   \n",
       "\n",
       "                                             Movie_Tags  \n",
       "373   ['成就', '励志', '桥段', '夫妻', '棒球', '电影', '核心', '数字...  \n",
       "2364  ['老人', '故事', '电影', '孩子', '历史', '励志', '影片', '剧情...  \n",
       "2973  ['电影', '音乐', '老师', '教授', '音乐课', '时候', '艺术', '有...  \n",
       "3679  ['电影', '大师', '人物', '感觉', '人生', '主旋律', '流水账', '...  \n",
       "6230  ['有点', '故事', '悬疑片', '节奏', '电影', '法国人', '剧情', '...  "
      ]
     },
     "execution_count": 22,
     "metadata": {},
     "output_type": "execute_result"
    }
   ],
   "source": [
    "# 利用推荐列表找出电影信息\n",
    "result = train_df.loc[train_df['item_int'].isin(rec_list_.tolist())][[\n",
    "    'Movie_Name', 'item_int', 'Movie_Score', 'Movie_Tags']].drop_duplicates('Movie_Name', keep='first', inplace=False)\n",
    "\n",
    "# 推荐结果显示\n",
    "result.head()"
   ]
  },
  {
   "cell_type": "markdown",
   "metadata": {},
   "source": [
    "### 看了还看\n",
    "1. 根据当前看的内容找到看过此次内容相关的内容。\n",
    "2. 对结果依旧使用阈值过滤，挑选优质内容。"
   ]
  },
  {
   "cell_type": "code",
   "execution_count": 23,
   "metadata": {},
   "outputs": [],
   "source": [
    "# 提取电影特征向量\n",
    "embedding_movie, feature_movie = csr_matrix(\n",
    "    model.item_embeddings), csr_matrix(items_features)\n",
    "\n",
    "# 电影特征提取\n",
    "movie_inner_max = np.dot(feature_movie, embedding_movie)\n",
    "\n",
    "# 电影之间求得余弦相似度\n",
    "movie_cosine_sim = cosine_similarity(movie_inner_max)"
   ]
  },
  {
   "cell_type": "code",
   "execution_count": 24,
   "metadata": {},
   "outputs": [],
   "source": [
    "# 找到与查询电影最近余弦距离上的电影\n",
    "def next_movie_recommendations(movie_name, cosine_sim, topk):\n",
    "    # 电影名转换唯一的 id\n",
    "    int_id = item_dict[movie_name]\n",
    "    # 去除自身 id\n",
    "    sim_scores = sorted(\n",
    "        list(enumerate(cosine_sim[int_id])),\n",
    "        key=lambda x: x[1], reverse=True)[1:topk+1]\n",
    "    return sim_scores"
   ]
  },
  {
   "cell_type": "markdown",
   "metadata": {},
   "source": [
    "假设当前看的电影。"
   ]
  },
  {
   "cell_type": "code",
   "execution_count": 25,
   "metadata": {},
   "outputs": [
    {
     "data": {
      "text/html": [
       "<div>\n",
       "<style scoped>\n",
       "    .dataframe tbody tr th:only-of-type {\n",
       "        vertical-align: middle;\n",
       "    }\n",
       "\n",
       "    .dataframe tbody tr th {\n",
       "        vertical-align: top;\n",
       "    }\n",
       "\n",
       "    .dataframe thead th {\n",
       "        text-align: right;\n",
       "    }\n",
       "</style>\n",
       "<table border=\"1\" class=\"dataframe\">\n",
       "  <thead>\n",
       "    <tr style=\"text-align: right;\">\n",
       "      <th></th>\n",
       "      <th>ID</th>\n",
       "      <th>Movie_Name</th>\n",
       "      <th>Movie_Score</th>\n",
       "      <th>Review_Count</th>\n",
       "      <th>Movie_Star_Distribution</th>\n",
       "      <th>Collect_Date</th>\n",
       "      <th>Username</th>\n",
       "      <th>Post_Date</th>\n",
       "      <th>Score</th>\n",
       "      <th>User_Comment</th>\n",
       "      <th>User_Comment_Distribution</th>\n",
       "      <th>Comment_Like_Count</th>\n",
       "      <th>Movie_Tags</th>\n",
       "      <th>uid_int</th>\n",
       "      <th>item_int</th>\n",
       "      <th>New_Movie_Tags</th>\n",
       "      <th>New_Movie_Star_Distribution</th>\n",
       "      <th>New_User_Comment_Distribution</th>\n",
       "    </tr>\n",
       "  </thead>\n",
       "  <tbody>\n",
       "    <tr>\n",
       "      <th>159</th>\n",
       "      <td>159</td>\n",
       "      <td>24小时狂欢派对 24 Hour Party People</td>\n",
       "      <td>7.9</td>\n",
       "      <td>1509</td>\n",
       "      <td>26.2%46.9%23.0%3.2%0.7%</td>\n",
       "      <td>2019-10-05</td>\n",
       "      <td>Lane</td>\n",
       "      <td>2008-09-22</td>\n",
       "      <td>3</td>\n",
       "      <td>080921 可能和真是一部for fans only的片子，反正我没看出特别多乐趣。只是W...</td>\n",
       "      <td>75%19%6%</td>\n",
       "      <td>0</td>\n",
       "      <td>['音乐', '纪录片', '电影', '时候', '演员', '片子', '工厂', '乐...</td>\n",
       "      <td>159</td>\n",
       "      <td>1</td>\n",
       "      <td>音乐,纪录片,电影,时候,演员,片子,工厂,乐队,感觉,流水,幻觉,文化,厂牌,手法,酸性,...</td>\n",
       "      <td>26.2,46.9,23.0,3.2,0.7,</td>\n",
       "      <td>75,19,6,</td>\n",
       "    </tr>\n",
       "  </tbody>\n",
       "</table>\n",
       "</div>"
      ],
      "text/plain": [
       "      ID                     Movie_Name  Movie_Score  Review_Count  \\\n",
       "159  159  24小时狂欢派对 24 Hour Party People          7.9          1509   \n",
       "\n",
       "     Movie_Star_Distribution Collect_Date Username   Post_Date  Score  \\\n",
       "159  26.2%46.9%23.0%3.2%0.7%   2019-10-05     Lane  2008-09-22      3   \n",
       "\n",
       "                                          User_Comment  \\\n",
       "159  080921 可能和真是一部for fans only的片子，反正我没看出特别多乐趣。只是W...   \n",
       "\n",
       "    User_Comment_Distribution  Comment_Like_Count  \\\n",
       "159                  75%19%6%                   0   \n",
       "\n",
       "                                            Movie_Tags  uid_int  item_int  \\\n",
       "159  ['音乐', '纪录片', '电影', '时候', '演员', '片子', '工厂', '乐...      159         1   \n",
       "\n",
       "                                        New_Movie_Tags  \\\n",
       "159  音乐,纪录片,电影,时候,演员,片子,工厂,乐队,感觉,流水,幻觉,文化,厂牌,手法,酸性,...   \n",
       "\n",
       "    New_Movie_Star_Distribution New_User_Comment_Distribution  \n",
       "159     26.2,46.9,23.0,3.2,0.7,                      75,19,6,  "
      ]
     },
     "execution_count": 25,
     "metadata": {},
     "output_type": "execute_result"
    }
   ],
   "source": [
    "# 利用电影名查询\n",
    "movie_name = '24小时狂欢派对 24 Hour Party People'\n",
    "\n",
    "train_df.loc[train_df['Movie_Name'].isin([movie_name])].drop_duplicates(\n",
    "    'item_int', keep='first', inplace=False).head(1)"
   ]
  },
  {
   "cell_type": "markdown",
   "metadata": {},
   "source": [
    "推理用户接下来看的 topk 个电影，并去除当前看的电影和自己已经看过的电影。"
   ]
  },
  {
   "cell_type": "code",
   "execution_count": 26,
   "metadata": {},
   "outputs": [
    {
     "data": {
      "text/plain": [
       "[2, 4, 5, 6, 7, 8, 9, 10, 11, 12, 13, 14, 15, 17, 20, 22, 23, 24, 25]"
      ]
     },
     "execution_count": 26,
     "metadata": {},
     "output_type": "execute_result"
    }
   ],
   "source": [
    "topk = 20\n",
    "next_movie = [i[0] for i in next_movie_recommendations(\n",
    "    movie_name, movie_cosine_sim, topk)]\n",
    "\n",
    "#  推荐和看过的取差集\n",
    "next_list = list(set(next_movie).difference(set(known_items)))\n",
    "next_list"
   ]
  },
  {
   "cell_type": "markdown",
   "metadata": {},
   "source": [
    "增加阈值过滤进行下一个结果输出，保证推荐质量。"
   ]
  },
  {
   "cell_type": "code",
   "execution_count": 27,
   "metadata": {
    "scrolled": true
   },
   "outputs": [
    {
     "data": {
      "text/html": [
       "<div>\n",
       "<style scoped>\n",
       "    .dataframe tbody tr th:only-of-type {\n",
       "        vertical-align: middle;\n",
       "    }\n",
       "\n",
       "    .dataframe tbody tr th {\n",
       "        vertical-align: top;\n",
       "    }\n",
       "\n",
       "    .dataframe thead th {\n",
       "        text-align: right;\n",
       "    }\n",
       "</style>\n",
       "<table border=\"1\" class=\"dataframe\">\n",
       "  <thead>\n",
       "    <tr style=\"text-align: right;\">\n",
       "      <th></th>\n",
       "      <th>Movie_Score</th>\n",
       "      <th>Review_Count</th>\n",
       "      <th>item_int</th>\n",
       "      <th>New_Movie_Tags</th>\n",
       "      <th>New_Movie_Star_Distribution</th>\n",
       "      <th>Movie_Name</th>\n",
       "    </tr>\n",
       "  </thead>\n",
       "  <tbody>\n",
       "    <tr>\n",
       "      <th>2364</th>\n",
       "      <td>8.1</td>\n",
       "      <td>2483</td>\n",
       "      <td>8</td>\n",
       "      <td>老人,故事,电影,孩子,历史,励志,影片,剧情,力量,国家,片子,民族,有点,政治,黑人,感...</td>\n",
       "      <td>28.9,47.6,22.5,0.9,0.2,</td>\n",
       "      <td>一年级生 The First Grader</td>\n",
       "    </tr>\n",
       "    <tr>\n",
       "      <th>5394</th>\n",
       "      <td>9.3</td>\n",
       "      <td>1010</td>\n",
       "      <td>15</td>\n",
       "      <td>喜剧,小时候,时候,经典,电视,电影,电视剧,西部片,有点,先生,意味,时间,趣事,探险,规...</td>\n",
       "      <td>73.4,20.3,5.8,0.4,0.1,</td>\n",
       "      <td>三个臭皮匠 The Three Stooges</td>\n",
       "    </tr>\n",
       "    <tr>\n",
       "      <th>8811</th>\n",
       "      <td>8.0</td>\n",
       "      <td>3581</td>\n",
       "      <td>23</td>\n",
       "      <td>音乐,电影,爱情,故事,有点,剧情,天才,狗血,时候,传记,月光,星空,音乐家,钢琴,爱人,...</td>\n",
       "      <td>27.5,47.5,21.9,2.5,0.6,</td>\n",
       "      <td>不朽真情 Immortal Beloved</td>\n",
       "    </tr>\n",
       "  </tbody>\n",
       "</table>\n",
       "</div>"
      ],
      "text/plain": [
       "      Movie_Score  Review_Count  item_int  \\\n",
       "2364          8.1          2483         8   \n",
       "5394          9.3          1010        15   \n",
       "8811          8.0          3581        23   \n",
       "\n",
       "                                         New_Movie_Tags  \\\n",
       "2364  老人,故事,电影,孩子,历史,励志,影片,剧情,力量,国家,片子,民族,有点,政治,黑人,感...   \n",
       "5394  喜剧,小时候,时候,经典,电视,电影,电视剧,西部片,有点,先生,意味,时间,趣事,探险,规...   \n",
       "8811  音乐,电影,爱情,故事,有点,剧情,天才,狗血,时候,传记,月光,星空,音乐家,钢琴,爱人,...   \n",
       "\n",
       "     New_Movie_Star_Distribution               Movie_Name  \n",
       "2364     28.9,47.6,22.5,0.9,0.2,    一年级生 The First Grader  \n",
       "5394      73.4,20.3,5.8,0.4,0.1,  三个臭皮匠 The Three Stooges  \n",
       "8811     27.5,47.5,21.9,2.5,0.6,    不朽真情 Immortal Beloved  "
      ]
     },
     "execution_count": 27,
     "metadata": {},
     "output_type": "execute_result"
    }
   ],
   "source": [
    "next_movie_result = train_df.loc[train_df['item_int'].isin(\n",
    "    next_list)].drop_duplicates('item_int', keep='first', inplace=False)\n",
    "\n",
    "\n",
    "# 使用 Threshold 进行过滤\n",
    "Threshold = 8\n",
    "next_movie_result = next_movie_result[next_movie_result['Movie_Score'] >= Threshold]\n",
    "\n",
    "# 显示看了还看的推荐结果\n",
    "next_movie_result.head()[items_f+['Movie_Name']]"
   ]
  },
  {
   "cell_type": "markdown",
   "metadata": {},
   "source": [
    "### Push 推荐\n",
    "1. 通过计算每位用户对单一电影的兴趣度，去除看过的即可得出 topk 的 push 结果。\n",
    "2. 通过电影找用户，解决电影冷启动问题。"
   ]
  },
  {
   "cell_type": "code",
   "execution_count": 28,
   "metadata": {},
   "outputs": [
    {
     "data": {
      "text/html": [
       "<div>\n",
       "<style scoped>\n",
       "    .dataframe tbody tr th:only-of-type {\n",
       "        vertical-align: middle;\n",
       "    }\n",
       "\n",
       "    .dataframe tbody tr th {\n",
       "        vertical-align: top;\n",
       "    }\n",
       "\n",
       "    .dataframe thead th {\n",
       "        text-align: right;\n",
       "    }\n",
       "</style>\n",
       "<table border=\"1\" class=\"dataframe\">\n",
       "  <thead>\n",
       "    <tr style=\"text-align: right;\">\n",
       "      <th></th>\n",
       "      <th>ID</th>\n",
       "      <th>Movie_Name</th>\n",
       "      <th>Movie_Score</th>\n",
       "      <th>Review_Count</th>\n",
       "      <th>Movie_Star_Distribution</th>\n",
       "      <th>Collect_Date</th>\n",
       "      <th>Username</th>\n",
       "      <th>Post_Date</th>\n",
       "      <th>Score</th>\n",
       "      <th>User_Comment</th>\n",
       "      <th>User_Comment_Distribution</th>\n",
       "      <th>Comment_Like_Count</th>\n",
       "      <th>Movie_Tags</th>\n",
       "      <th>uid_int</th>\n",
       "      <th>item_int</th>\n",
       "      <th>New_Movie_Tags</th>\n",
       "      <th>New_Movie_Star_Distribution</th>\n",
       "      <th>New_User_Comment_Distribution</th>\n",
       "    </tr>\n",
       "  </thead>\n",
       "  <tbody>\n",
       "    <tr>\n",
       "      <th>159</th>\n",
       "      <td>159</td>\n",
       "      <td>24小时狂欢派对 24 Hour Party People</td>\n",
       "      <td>7.9</td>\n",
       "      <td>1509</td>\n",
       "      <td>26.2%46.9%23.0%3.2%0.7%</td>\n",
       "      <td>2019-10-05</td>\n",
       "      <td>Lane</td>\n",
       "      <td>2008-09-22</td>\n",
       "      <td>3</td>\n",
       "      <td>080921 可能和真是一部for fans only的片子，反正我没看出特别多乐趣。只是W...</td>\n",
       "      <td>75%19%6%</td>\n",
       "      <td>0</td>\n",
       "      <td>['音乐', '纪录片', '电影', '时候', '演员', '片子', '工厂', '乐...</td>\n",
       "      <td>159</td>\n",
       "      <td>1</td>\n",
       "      <td>音乐,纪录片,电影,时候,演员,片子,工厂,乐队,感觉,流水,幻觉,文化,厂牌,手法,酸性,...</td>\n",
       "      <td>26.2,46.9,23.0,3.2,0.7,</td>\n",
       "      <td>75,19,6,</td>\n",
       "    </tr>\n",
       "  </tbody>\n",
       "</table>\n",
       "</div>"
      ],
      "text/plain": [
       "      ID                     Movie_Name  Movie_Score  Review_Count  \\\n",
       "159  159  24小时狂欢派对 24 Hour Party People          7.9          1509   \n",
       "\n",
       "     Movie_Star_Distribution Collect_Date Username   Post_Date  Score  \\\n",
       "159  26.2%46.9%23.0%3.2%0.7%   2019-10-05     Lane  2008-09-22      3   \n",
       "\n",
       "                                          User_Comment  \\\n",
       "159  080921 可能和真是一部for fans only的片子，反正我没看出特别多乐趣。只是W...   \n",
       "\n",
       "    User_Comment_Distribution  Comment_Like_Count  \\\n",
       "159                  75%19%6%                   0   \n",
       "\n",
       "                                            Movie_Tags  uid_int  item_int  \\\n",
       "159  ['音乐', '纪录片', '电影', '时候', '演员', '片子', '工厂', '乐...      159         1   \n",
       "\n",
       "                                        New_Movie_Tags  \\\n",
       "159  音乐,纪录片,电影,时候,演员,片子,工厂,乐队,感觉,流水,幻觉,文化,厂牌,手法,酸性,...   \n",
       "\n",
       "    New_Movie_Star_Distribution New_User_Comment_Distribution  \n",
       "159     26.2,46.9,23.0,3.2,0.7,                      75,19,6,  "
      ]
     },
     "execution_count": 28,
     "metadata": {},
     "output_type": "execute_result"
    }
   ],
   "source": [
    "movie_int = item_dict[movie_name]\n",
    "\n",
    "# 查看当前电影\n",
    "item_rec_user = train_df.loc[train_df['item_int'].isin(\n",
    "    [movie_int])].drop_duplicates('item_int', keep='first', inplace=False)\n",
    "item_rec_user.head(1)"
   ]
  },
  {
   "cell_type": "code",
   "execution_count": 29,
   "metadata": {},
   "outputs": [
    {
     "data": {
      "text/plain": [
       "'24小时狂欢派对 24 Hour Party People'"
      ]
     },
     "execution_count": 29,
     "metadata": {},
     "output_type": "execute_result"
    }
   ],
   "source": [
    "movie_name"
   ]
  },
  {
   "cell_type": "code",
   "execution_count": 30,
   "metadata": {},
   "outputs": [],
   "source": [
    "# 利用交互矩阵的维度\n",
    "n_users, n_movies = interactions.shape\n",
    "\n",
    "movie2user_rec = model.predict(user_ids=np.arange(n_users), item_ids=np.repeat(\n",
    "    movie_int, n_users), item_features=items_features, user_features=users_features)\n",
    "\n",
    "# 建立感兴趣的用户索引倒排\n",
    "wait_rec_list = np.argsort(-movie2user_rec).tolist()"
   ]
  },
  {
   "cell_type": "code",
   "execution_count": 31,
   "metadata": {},
   "outputs": [],
   "source": [
    "# 找出看过此商品的用户 id\n",
    "item_known_users_int = train_df[train_df['item_int']\n",
    "                                == movie_int]['uid_int'].unique().tolist()"
   ]
  },
  {
   "cell_type": "markdown",
   "metadata": {},
   "source": [
    "推荐候选集合过滤，得出最终的 Push 用户列表。"
   ]
  },
  {
   "cell_type": "code",
   "execution_count": 32,
   "metadata": {},
   "outputs": [
    {
     "data": {
      "text/plain": [
       "[3, 6, 833, 1184, 1316, 368, 1390, 1003, 673, 805, 685]"
      ]
     },
     "execution_count": 32,
     "metadata": {},
     "output_type": "execute_result"
    }
   ],
   "source": [
    "push_topk = 10\n",
    "push_result = []\n",
    "count = 0\n",
    "# 增加早停\n",
    "for x in wait_rec_list:\n",
    "    if x not in item_known_users_int:\n",
    "        push_result.append(x)\n",
    "        count += 1\n",
    "        if count > push_topk:\n",
    "            break\n",
    "push_result"
   ]
  },
  {
   "cell_type": "markdown",
   "metadata": {},
   "source": [
    "打印待 Push 用户的信息。"
   ]
  },
  {
   "cell_type": "code",
   "execution_count": 33,
   "metadata": {},
   "outputs": [
    {
     "data": {
      "text/html": [
       "<div>\n",
       "<style scoped>\n",
       "    .dataframe tbody tr th:only-of-type {\n",
       "        vertical-align: middle;\n",
       "    }\n",
       "\n",
       "    .dataframe tbody tr th {\n",
       "        vertical-align: top;\n",
       "    }\n",
       "\n",
       "    .dataframe thead th {\n",
       "        text-align: right;\n",
       "    }\n",
       "</style>\n",
       "<table border=\"1\" class=\"dataframe\">\n",
       "  <thead>\n",
       "    <tr style=\"text-align: right;\">\n",
       "      <th></th>\n",
       "      <th>uid_int</th>\n",
       "      <th>New_User_Comment_Distribution</th>\n",
       "      <th>Username</th>\n",
       "    </tr>\n",
       "  </thead>\n",
       "  <tbody>\n",
       "    <tr>\n",
       "      <th>3</th>\n",
       "      <td>3</td>\n",
       "      <td>66,31,3,</td>\n",
       "      <td>张晚禾</td>\n",
       "    </tr>\n",
       "    <tr>\n",
       "      <th>6</th>\n",
       "      <td>6</td>\n",
       "      <td>66,31,3,</td>\n",
       "      <td>Lycidas</td>\n",
       "    </tr>\n",
       "    <tr>\n",
       "      <th>373</th>\n",
       "      <td>368</td>\n",
       "      <td>72,25,3,</td>\n",
       "      <td>(๑⁼̴̀д⁼̴́๑)</td>\n",
       "    </tr>\n",
       "    <tr>\n",
       "      <th>679</th>\n",
       "      <td>673</td>\n",
       "      <td>72,25,3,</td>\n",
       "      <td>Justin</td>\n",
       "    </tr>\n",
       "    <tr>\n",
       "      <th>691</th>\n",
       "      <td>685</td>\n",
       "      <td>72,25,3,</td>\n",
       "      <td>BobMing</td>\n",
       "    </tr>\n",
       "  </tbody>\n",
       "</table>\n",
       "</div>"
      ],
      "text/plain": [
       "     uid_int New_User_Comment_Distribution     Username\n",
       "3          3                      66,31,3,          张晚禾\n",
       "6          6                      66,31,3,      Lycidas\n",
       "373      368                      72,25,3,  (๑⁼̴̀д⁼̴́๑)\n",
       "679      673                      72,25,3,       Justin\n",
       "691      685                      72,25,3,      BobMing"
      ]
     },
     "execution_count": 33,
     "metadata": {},
     "output_type": "execute_result"
    }
   ],
   "source": [
    "item_rec_user = train_df.loc[train_df['uid_int'].isin(\n",
    "    push_result)].drop_duplicates('uid_int', keep='first', inplace=False)\n",
    "item_rec_user.head()[users_f+['Username']]"
   ]
  },
  {
   "cell_type": "markdown",
   "metadata": {},
   "source": [
    "### 相关用户推荐\n",
    "1. 相关用户推荐，找到用户相关的用户，挖掘用户的潜在兴趣。\n",
    "2. 增加平台和用户的交互。"
   ]
  },
  {
   "cell_type": "code",
   "execution_count": 34,
   "metadata": {},
   "outputs": [],
   "source": [
    "#  提取用户特征向量\n",
    "embedding_user, feature_user = csr_matrix(\n",
    "    model.user_embeddings), csr_matrix(users_features)\n",
    "\n",
    "# 用户特征提取\n",
    "user_inner_max = np.dot(feature_user, embedding_user)\n",
    "\n",
    "# 用户之间求得余弦相似度，容易因用户数量过大造成 MemoryError\n",
    "user_cosine_sim = cosine_similarity(user_inner_max)"
   ]
  },
  {
   "cell_type": "code",
   "execution_count": 35,
   "metadata": {},
   "outputs": [],
   "source": [
    "# 找到与查询电影最近余弦距离上的电影\n",
    "def sim_user_recommendations(user_name, cosine_sim, topk):\n",
    "    # 用户名转换唯一的 id\n",
    "    int_id = user_dict[user_name]\n",
    "    # 去除自身 id，建立倒排索引\n",
    "    sim_scores = sorted(\n",
    "        list(enumerate(cosine_sim[int_id])),\n",
    "        key=lambda x: x[1], reverse=True)[1:topk+1]\n",
    "    return sim_scores"
   ]
  },
  {
   "cell_type": "markdown",
   "metadata": {},
   "source": [
    "找到与当前用户 Username 相关的 topk 个相关用户。"
   ]
  },
  {
   "cell_type": "code",
   "execution_count": 36,
   "metadata": {},
   "outputs": [
    {
     "data": {
      "text/plain": [
       "[108, 96, 135, 26, 29]"
      ]
     },
     "execution_count": 36,
     "metadata": {},
     "output_type": "execute_result"
    }
   ],
   "source": [
    "topk = 5\n",
    "sim_user_list = [i[0] for i in sim_user_recommendations(\n",
    "    Username, user_cosine_sim, topk)]\n",
    "sim_user_list"
   ]
  },
  {
   "cell_type": "markdown",
   "metadata": {},
   "source": [
    "打印相关用户的信息。"
   ]
  },
  {
   "cell_type": "code",
   "execution_count": 37,
   "metadata": {},
   "outputs": [
    {
     "data": {
      "text/html": [
       "<div>\n",
       "<style scoped>\n",
       "    .dataframe tbody tr th:only-of-type {\n",
       "        vertical-align: middle;\n",
       "    }\n",
       "\n",
       "    .dataframe tbody tr th {\n",
       "        vertical-align: top;\n",
       "    }\n",
       "\n",
       "    .dataframe thead th {\n",
       "        text-align: right;\n",
       "    }\n",
       "</style>\n",
       "<table border=\"1\" class=\"dataframe\">\n",
       "  <thead>\n",
       "    <tr style=\"text-align: right;\">\n",
       "      <th></th>\n",
       "      <th>uid_int</th>\n",
       "      <th>New_User_Comment_Distribution</th>\n",
       "      <th>Username</th>\n",
       "    </tr>\n",
       "  </thead>\n",
       "  <tbody>\n",
       "    <tr>\n",
       "      <th>26</th>\n",
       "      <td>26</td>\n",
       "      <td>66,31,3,</td>\n",
       "      <td>宁二狗</td>\n",
       "    </tr>\n",
       "    <tr>\n",
       "      <th>29</th>\n",
       "      <td>29</td>\n",
       "      <td>66,31,3,</td>\n",
       "      <td>李草木</td>\n",
       "    </tr>\n",
       "    <tr>\n",
       "      <th>96</th>\n",
       "      <td>96</td>\n",
       "      <td>66,31,3,</td>\n",
       "      <td>Memento</td>\n",
       "    </tr>\n",
       "    <tr>\n",
       "      <th>108</th>\n",
       "      <td>108</td>\n",
       "      <td>66,31,3,</td>\n",
       "      <td>朴儿</td>\n",
       "    </tr>\n",
       "    <tr>\n",
       "      <th>135</th>\n",
       "      <td>135</td>\n",
       "      <td>66,31,3,</td>\n",
       "      <td>小五在冬眠</td>\n",
       "    </tr>\n",
       "  </tbody>\n",
       "</table>\n",
       "</div>"
      ],
      "text/plain": [
       "     uid_int New_User_Comment_Distribution Username\n",
       "26        26                      66,31,3,      宁二狗\n",
       "29        29                      66,31,3,      李草木\n",
       "96        96                      66,31,3,  Memento\n",
       "108      108                      66,31,3,       朴儿\n",
       "135      135                      66,31,3,    小五在冬眠"
      ]
     },
     "execution_count": 37,
     "metadata": {},
     "output_type": "execute_result"
    }
   ],
   "source": [
    "sim_user_result = train_df.loc[train_df['uid_int'].isin(\n",
    "    sim_user_list)].drop_duplicates('uid_int', keep='first', inplace=False)\n",
    "\n",
    "# todo：可以添加优质用户筛选策略\n",
    "# Threshold\n",
    "# sim_user_result = sim_user_result[sim_user_result['User_level'] >= Threshold]\n",
    "\n",
    "# 显示相关用户结果\n",
    "sim_user_result.head()[users_f+['Username']]"
   ]
  },
  {
   "cell_type": "code",
   "execution_count": null,
   "metadata": {},
   "outputs": [],
   "source": []
  }
 ],
 "metadata": {
  "kernelspec": {
   "display_name": "p3venv",
   "language": "python",
   "name": "p3venv"
  },
  "language_info": {
   "codemirror_mode": {
    "name": "ipython",
    "version": 3
   },
   "file_extension": ".py",
   "mimetype": "text/x-python",
   "name": "python",
   "nbconvert_exporter": "python",
   "pygments_lexer": "ipython3",
   "version": "3.6.10"
  },
  "toc": {
   "base_numbering": 1,
   "nav_menu": {},
   "number_sections": true,
   "sideBar": true,
   "skip_h1_title": false,
   "title_cell": "Table of Contents",
   "title_sidebar": "Contents",
   "toc_cell": false,
   "toc_position": {},
   "toc_section_display": true,
   "toc_window_display": false
  }
 },
 "nbformat": 4,
 "nbformat_minor": 4
}
